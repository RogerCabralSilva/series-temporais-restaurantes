{
 "cells": [
  {
   "cell_type": "markdown",
   "metadata": {},
   "source": [
    "# Bibliotecas"
   ]
  },
  {
   "cell_type": "code",
   "execution_count": 48,
   "metadata": {},
   "outputs": [],
   "source": [
    "import pandas as pd\n",
    "import numpy as np\n",
    "import plotly.express as px"
   ]
  },
  {
   "cell_type": "markdown",
   "metadata": {},
   "source": [
    "# Dados"
   ]
  },
  {
   "cell_type": "code",
   "execution_count": 49,
   "metadata": {},
   "outputs": [],
   "source": [
    "dados = pd.read_csv(\"Base de dados - Mão na massa.csv\")"
   ]
  },
  {
   "cell_type": "code",
   "execution_count": 50,
   "metadata": {},
   "outputs": [
    {
     "data": {
      "text/html": [
       "<div>\n",
       "<style scoped>\n",
       "    .dataframe tbody tr th:only-of-type {\n",
       "        vertical-align: middle;\n",
       "    }\n",
       "\n",
       "    .dataframe tbody tr th {\n",
       "        vertical-align: top;\n",
       "    }\n",
       "\n",
       "    .dataframe thead th {\n",
       "        text-align: right;\n",
       "    }\n",
       "</style>\n",
       "<table border=\"1\" class=\"dataframe\">\n",
       "  <thead>\n",
       "    <tr style=\"text-align: right;\">\n",
       "      <th></th>\n",
       "      <th>data</th>\n",
       "      <th>Sal Sinha</th>\n",
       "      <th>O Régano</th>\n",
       "    </tr>\n",
       "  </thead>\n",
       "  <tbody>\n",
       "    <tr>\n",
       "      <th>0</th>\n",
       "      <td>1/1/2016</td>\n",
       "      <td>25.0</td>\n",
       "      <td>67.0</td>\n",
       "    </tr>\n",
       "    <tr>\n",
       "      <th>1</th>\n",
       "      <td>1/2/2016</td>\n",
       "      <td>39.0</td>\n",
       "      <td>43.0</td>\n",
       "    </tr>\n",
       "  </tbody>\n",
       "</table>\n",
       "</div>"
      ],
      "text/plain": [
       "       data  Sal Sinha  O Régano\n",
       "0  1/1/2016       25.0      67.0\n",
       "1  1/2/2016       39.0      43.0"
      ]
     },
     "execution_count": 50,
     "metadata": {},
     "output_type": "execute_result"
    }
   ],
   "source": [
    "dados.head(2)"
   ]
  },
  {
   "cell_type": "code",
   "execution_count": 51,
   "metadata": {},
   "outputs": [
    {
     "name": "stdout",
     "output_type": "stream",
     "text": [
      "<class 'pandas.core.frame.DataFrame'>\n",
      "RangeIndex: 478 entries, 0 to 477\n",
      "Data columns (total 3 columns):\n",
      " #   Column     Non-Null Count  Dtype  \n",
      "---  ------     --------------  -----  \n",
      " 0   data       478 non-null    object \n",
      " 1   Sal Sinha  476 non-null    float64\n",
      " 2   O Régano   476 non-null    float64\n",
      "dtypes: float64(2), object(1)\n",
      "memory usage: 11.3+ KB\n"
     ]
    }
   ],
   "source": [
    "dados.info()"
   ]
  },
  {
   "cell_type": "markdown",
   "metadata": {},
   "source": [
    "# Tratamento de dados"
   ]
  },
  {
   "cell_type": "markdown",
   "metadata": {},
   "source": [
    "## Object to Date"
   ]
  },
  {
   "cell_type": "code",
   "execution_count": 52,
   "metadata": {},
   "outputs": [],
   "source": [
    "dados[\"data\"] = pd.to_datetime(dados[\"data\"])\n",
    "\n",
    "dados.set_index(\"data\", inplace=True)"
   ]
  },
  {
   "cell_type": "markdown",
   "metadata": {},
   "source": [
    "## Dados Nulos"
   ]
  },
  {
   "cell_type": "code",
   "execution_count": 53,
   "metadata": {},
   "outputs": [
    {
     "data": {
      "text/plain": [
       "data\n",
       "2016-05-28   NaN\n",
       "2016-08-24   NaN\n",
       "Name: Sal Sinha, dtype: float64"
      ]
     },
     "execution_count": 53,
     "metadata": {},
     "output_type": "execute_result"
    }
   ],
   "source": [
    "dados['Sal Sinha'][dados['Sal Sinha'].isna()]"
   ]
  },
  {
   "cell_type": "code",
   "execution_count": 54,
   "metadata": {},
   "outputs": [
    {
     "data": {
      "text/plain": [
       "data\n",
       "2016-01-04   NaN\n",
       "2017-04-18   NaN\n",
       "Name: O Régano, dtype: float64"
      ]
     },
     "execution_count": 54,
     "metadata": {},
     "output_type": "execute_result"
    }
   ],
   "source": [
    "dados['O Régano'][dados['O Régano'].isna()]"
   ]
  },
  {
   "cell_type": "markdown",
   "metadata": {},
   "source": [
    "## Tratando nulos"
   ]
  },
  {
   "cell_type": "code",
   "execution_count": 55,
   "metadata": {},
   "outputs": [],
   "source": [
    "# Tratando dados nulos\n",
    "dados.interpolate(inplace=True)\n",
    "\n",
    "# Arredondando tudo \n",
    "dados = dados.astype(\"int\")"
   ]
  },
  {
   "cell_type": "markdown",
   "metadata": {},
   "source": [
    "# Gráfico histograma"
   ]
  },
  {
   "cell_type": "code",
   "execution_count": 56,
   "metadata": {},
   "outputs": [
    {
     "data": {
      "application/vnd.plotly.v1+json": {
       "config": {
        "plotlyServerURL": "https://plot.ly"
       },
       "data": [
        {
         "alignmentgroup": "True",
         "bingroup": "x",
         "hovertemplate": "variable=O Régano<br>value=%{x}<br>count=%{y}<extra></extra>",
         "legendgroup": "O Régano",
         "marker": {
          "color": "#636efa",
          "pattern": {
           "shape": ""
          }
         },
         "name": "O Régano",
         "offsetgroup": "O Régano",
         "orientation": "v",
         "showlegend": true,
         "texttemplate": "%{value}",
         "type": "histogram",
         "x": [
          67,
          43,
          66,
          52,
          38,
          22,
          18,
          22,
          47,
          49,
          33,
          21,
          11,
          20,
          21,
          50,
          62,
          19,
          20,
          17,
          13,
          23,
          51,
          64,
          19,
          14,
          20,
          22,
          24,
          45,
          60,
          31,
          19,
          16,
          15,
          24,
          81,
          55,
          20,
          24,
          17,
          47,
          54,
          43,
          47,
          30,
          17,
          21,
          22,
          29,
          51,
          32,
          23,
          21,
          12,
          30,
          36,
          48,
          63,
          17,
          23,
          14,
          17,
          29,
          60,
          60,
          25,
          24,
          19,
          23,
          33,
          61,
          60,
          13,
          18,
          18,
          65,
          59,
          44,
          56,
          31,
          22,
          14,
          17,
          64,
          59,
          47,
          58,
          22,
          12,
          25,
          24,
          50,
          52,
          23,
          22,
          18,
          17,
          22,
          51,
          52,
          12,
          9,
          17,
          11,
          38,
          60,
          41,
          6,
          19,
          12,
          22,
          20,
          39,
          38,
          12,
          11,
          18,
          26,
          20,
          71,
          30,
          17,
          43,
          25,
          54,
          17,
          39,
          49,
          7,
          12,
          29,
          26,
          20,
          71,
          58,
          14,
          18,
          8,
          12,
          23,
          54,
          55,
          14,
          13,
          30,
          21,
          30,
          83,
          53,
          51,
          21,
          17,
          23,
          20,
          44,
          50,
          21,
          19,
          18,
          22,
          34,
          43,
          32,
          7,
          23,
          14,
          14,
          13,
          60,
          41,
          20,
          19,
          12,
          16,
          47,
          81,
          57,
          19,
          18,
          51,
          23,
          25,
          51,
          41,
          33,
          27,
          18,
          37,
          17,
          76,
          57,
          42,
          14,
          7,
          18,
          22,
          44,
          60,
          19,
          14,
          8,
          10,
          71,
          69,
          55,
          10,
          23,
          18,
          19,
          20,
          58,
          58,
          11,
          12,
          9,
          24,
          19,
          52,
          45,
          21,
          21,
          12,
          27,
          18,
          75,
          49,
          27,
          23,
          18,
          13,
          31,
          65,
          57,
          16,
          30,
          6,
          21,
          41,
          61,
          47,
          17,
          21,
          20,
          14,
          20,
          48,
          36,
          31,
          20,
          17,
          15,
          25,
          51,
          67,
          14,
          10,
          13,
          23,
          23,
          99,
          55,
          22,
          16,
          21,
          31,
          30,
          62,
          50,
          17,
          18,
          22,
          16,
          33,
          55,
          61,
          17,
          12,
          8,
          16,
          28,
          55,
          44,
          41,
          14,
          17,
          13,
          21,
          54,
          45,
          11,
          17,
          23,
          25,
          32,
          43,
          24,
          17,
          25,
          14,
          16,
          38,
          55,
          59,
          52,
          17,
          23,
          44,
          23,
          59,
          40,
          17,
          20,
          15,
          12,
          37,
          44,
          48,
          16,
          22,
          26,
          18,
          35,
          51,
          34,
          19,
          18,
          20,
          20,
          34,
          60,
          43,
          14,
          26,
          13,
          18,
          19,
          60,
          58,
          20,
          24,
          18,
          15,
          29,
          78,
          45,
          24,
          15,
          19,
          25,
          23,
          65,
          32,
          8,
          15,
          24,
          33,
          56,
          42,
          70,
          20,
          19,
          36,
          27,
          24,
          57,
          47,
          43,
          16,
          23,
          28,
          21,
          39,
          43,
          10,
          18,
          12,
          16,
          16,
          55,
          51,
          29,
          19,
          25,
          19,
          22,
          57,
          49,
          24,
          35,
          22,
          19,
          25,
          74,
          52,
          30,
          31,
          13,
          18,
          34,
          58,
          48,
          18,
          23,
          19,
          32,
          34,
          49,
          42,
          9,
          58,
          17,
          20,
          26,
          61,
          47,
          39,
          9,
          25,
          23,
          23,
          61,
          57,
          7,
          40,
          20,
          27,
          20,
          62,
          66,
          24,
          19,
          35,
          13,
          32,
          80,
          55,
          18,
          22,
          21,
          24,
          37,
          30,
          68,
          19,
          15,
          14,
          19,
          31,
          62,
          48,
          34,
          20,
          22,
          13,
          28,
          36,
          55,
          29,
          22,
          20,
          19,
          40,
          47,
          33,
          17,
          17,
          15,
          12,
          57,
          66,
          60,
          24,
          27,
          30,
          19,
          36,
          50
         ],
         "xaxis": "x",
         "yaxis": "y"
        }
       ],
       "layout": {
        "barmode": "relative",
        "legend": {
         "title": {
          "text": "variable"
         },
         "tracegroupgap": 0
        },
        "margin": {
         "t": 60
        },
        "template": {
         "data": {
          "bar": [
           {
            "error_x": {
             "color": "#2a3f5f"
            },
            "error_y": {
             "color": "#2a3f5f"
            },
            "marker": {
             "line": {
              "color": "#E5ECF6",
              "width": 0.5
             },
             "pattern": {
              "fillmode": "overlay",
              "size": 10,
              "solidity": 0.2
             }
            },
            "type": "bar"
           }
          ],
          "barpolar": [
           {
            "marker": {
             "line": {
              "color": "#E5ECF6",
              "width": 0.5
             },
             "pattern": {
              "fillmode": "overlay",
              "size": 10,
              "solidity": 0.2
             }
            },
            "type": "barpolar"
           }
          ],
          "carpet": [
           {
            "aaxis": {
             "endlinecolor": "#2a3f5f",
             "gridcolor": "white",
             "linecolor": "white",
             "minorgridcolor": "white",
             "startlinecolor": "#2a3f5f"
            },
            "baxis": {
             "endlinecolor": "#2a3f5f",
             "gridcolor": "white",
             "linecolor": "white",
             "minorgridcolor": "white",
             "startlinecolor": "#2a3f5f"
            },
            "type": "carpet"
           }
          ],
          "choropleth": [
           {
            "colorbar": {
             "outlinewidth": 0,
             "ticks": ""
            },
            "type": "choropleth"
           }
          ],
          "contour": [
           {
            "colorbar": {
             "outlinewidth": 0,
             "ticks": ""
            },
            "colorscale": [
             [
              0,
              "#0d0887"
             ],
             [
              0.1111111111111111,
              "#46039f"
             ],
             [
              0.2222222222222222,
              "#7201a8"
             ],
             [
              0.3333333333333333,
              "#9c179e"
             ],
             [
              0.4444444444444444,
              "#bd3786"
             ],
             [
              0.5555555555555556,
              "#d8576b"
             ],
             [
              0.6666666666666666,
              "#ed7953"
             ],
             [
              0.7777777777777778,
              "#fb9f3a"
             ],
             [
              0.8888888888888888,
              "#fdca26"
             ],
             [
              1,
              "#f0f921"
             ]
            ],
            "type": "contour"
           }
          ],
          "contourcarpet": [
           {
            "colorbar": {
             "outlinewidth": 0,
             "ticks": ""
            },
            "type": "contourcarpet"
           }
          ],
          "heatmap": [
           {
            "colorbar": {
             "outlinewidth": 0,
             "ticks": ""
            },
            "colorscale": [
             [
              0,
              "#0d0887"
             ],
             [
              0.1111111111111111,
              "#46039f"
             ],
             [
              0.2222222222222222,
              "#7201a8"
             ],
             [
              0.3333333333333333,
              "#9c179e"
             ],
             [
              0.4444444444444444,
              "#bd3786"
             ],
             [
              0.5555555555555556,
              "#d8576b"
             ],
             [
              0.6666666666666666,
              "#ed7953"
             ],
             [
              0.7777777777777778,
              "#fb9f3a"
             ],
             [
              0.8888888888888888,
              "#fdca26"
             ],
             [
              1,
              "#f0f921"
             ]
            ],
            "type": "heatmap"
           }
          ],
          "heatmapgl": [
           {
            "colorbar": {
             "outlinewidth": 0,
             "ticks": ""
            },
            "colorscale": [
             [
              0,
              "#0d0887"
             ],
             [
              0.1111111111111111,
              "#46039f"
             ],
             [
              0.2222222222222222,
              "#7201a8"
             ],
             [
              0.3333333333333333,
              "#9c179e"
             ],
             [
              0.4444444444444444,
              "#bd3786"
             ],
             [
              0.5555555555555556,
              "#d8576b"
             ],
             [
              0.6666666666666666,
              "#ed7953"
             ],
             [
              0.7777777777777778,
              "#fb9f3a"
             ],
             [
              0.8888888888888888,
              "#fdca26"
             ],
             [
              1,
              "#f0f921"
             ]
            ],
            "type": "heatmapgl"
           }
          ],
          "histogram": [
           {
            "marker": {
             "pattern": {
              "fillmode": "overlay",
              "size": 10,
              "solidity": 0.2
             }
            },
            "type": "histogram"
           }
          ],
          "histogram2d": [
           {
            "colorbar": {
             "outlinewidth": 0,
             "ticks": ""
            },
            "colorscale": [
             [
              0,
              "#0d0887"
             ],
             [
              0.1111111111111111,
              "#46039f"
             ],
             [
              0.2222222222222222,
              "#7201a8"
             ],
             [
              0.3333333333333333,
              "#9c179e"
             ],
             [
              0.4444444444444444,
              "#bd3786"
             ],
             [
              0.5555555555555556,
              "#d8576b"
             ],
             [
              0.6666666666666666,
              "#ed7953"
             ],
             [
              0.7777777777777778,
              "#fb9f3a"
             ],
             [
              0.8888888888888888,
              "#fdca26"
             ],
             [
              1,
              "#f0f921"
             ]
            ],
            "type": "histogram2d"
           }
          ],
          "histogram2dcontour": [
           {
            "colorbar": {
             "outlinewidth": 0,
             "ticks": ""
            },
            "colorscale": [
             [
              0,
              "#0d0887"
             ],
             [
              0.1111111111111111,
              "#46039f"
             ],
             [
              0.2222222222222222,
              "#7201a8"
             ],
             [
              0.3333333333333333,
              "#9c179e"
             ],
             [
              0.4444444444444444,
              "#bd3786"
             ],
             [
              0.5555555555555556,
              "#d8576b"
             ],
             [
              0.6666666666666666,
              "#ed7953"
             ],
             [
              0.7777777777777778,
              "#fb9f3a"
             ],
             [
              0.8888888888888888,
              "#fdca26"
             ],
             [
              1,
              "#f0f921"
             ]
            ],
            "type": "histogram2dcontour"
           }
          ],
          "mesh3d": [
           {
            "colorbar": {
             "outlinewidth": 0,
             "ticks": ""
            },
            "type": "mesh3d"
           }
          ],
          "parcoords": [
           {
            "line": {
             "colorbar": {
              "outlinewidth": 0,
              "ticks": ""
             }
            },
            "type": "parcoords"
           }
          ],
          "pie": [
           {
            "automargin": true,
            "type": "pie"
           }
          ],
          "scatter": [
           {
            "fillpattern": {
             "fillmode": "overlay",
             "size": 10,
             "solidity": 0.2
            },
            "type": "scatter"
           }
          ],
          "scatter3d": [
           {
            "line": {
             "colorbar": {
              "outlinewidth": 0,
              "ticks": ""
             }
            },
            "marker": {
             "colorbar": {
              "outlinewidth": 0,
              "ticks": ""
             }
            },
            "type": "scatter3d"
           }
          ],
          "scattercarpet": [
           {
            "marker": {
             "colorbar": {
              "outlinewidth": 0,
              "ticks": ""
             }
            },
            "type": "scattercarpet"
           }
          ],
          "scattergeo": [
           {
            "marker": {
             "colorbar": {
              "outlinewidth": 0,
              "ticks": ""
             }
            },
            "type": "scattergeo"
           }
          ],
          "scattergl": [
           {
            "marker": {
             "colorbar": {
              "outlinewidth": 0,
              "ticks": ""
             }
            },
            "type": "scattergl"
           }
          ],
          "scattermapbox": [
           {
            "marker": {
             "colorbar": {
              "outlinewidth": 0,
              "ticks": ""
             }
            },
            "type": "scattermapbox"
           }
          ],
          "scatterpolar": [
           {
            "marker": {
             "colorbar": {
              "outlinewidth": 0,
              "ticks": ""
             }
            },
            "type": "scatterpolar"
           }
          ],
          "scatterpolargl": [
           {
            "marker": {
             "colorbar": {
              "outlinewidth": 0,
              "ticks": ""
             }
            },
            "type": "scatterpolargl"
           }
          ],
          "scatterternary": [
           {
            "marker": {
             "colorbar": {
              "outlinewidth": 0,
              "ticks": ""
             }
            },
            "type": "scatterternary"
           }
          ],
          "surface": [
           {
            "colorbar": {
             "outlinewidth": 0,
             "ticks": ""
            },
            "colorscale": [
             [
              0,
              "#0d0887"
             ],
             [
              0.1111111111111111,
              "#46039f"
             ],
             [
              0.2222222222222222,
              "#7201a8"
             ],
             [
              0.3333333333333333,
              "#9c179e"
             ],
             [
              0.4444444444444444,
              "#bd3786"
             ],
             [
              0.5555555555555556,
              "#d8576b"
             ],
             [
              0.6666666666666666,
              "#ed7953"
             ],
             [
              0.7777777777777778,
              "#fb9f3a"
             ],
             [
              0.8888888888888888,
              "#fdca26"
             ],
             [
              1,
              "#f0f921"
             ]
            ],
            "type": "surface"
           }
          ],
          "table": [
           {
            "cells": {
             "fill": {
              "color": "#EBF0F8"
             },
             "line": {
              "color": "white"
             }
            },
            "header": {
             "fill": {
              "color": "#C8D4E3"
             },
             "line": {
              "color": "white"
             }
            },
            "type": "table"
           }
          ]
         },
         "layout": {
          "annotationdefaults": {
           "arrowcolor": "#2a3f5f",
           "arrowhead": 0,
           "arrowwidth": 1
          },
          "autotypenumbers": "strict",
          "coloraxis": {
           "colorbar": {
            "outlinewidth": 0,
            "ticks": ""
           }
          },
          "colorscale": {
           "diverging": [
            [
             0,
             "#8e0152"
            ],
            [
             0.1,
             "#c51b7d"
            ],
            [
             0.2,
             "#de77ae"
            ],
            [
             0.3,
             "#f1b6da"
            ],
            [
             0.4,
             "#fde0ef"
            ],
            [
             0.5,
             "#f7f7f7"
            ],
            [
             0.6,
             "#e6f5d0"
            ],
            [
             0.7,
             "#b8e186"
            ],
            [
             0.8,
             "#7fbc41"
            ],
            [
             0.9,
             "#4d9221"
            ],
            [
             1,
             "#276419"
            ]
           ],
           "sequential": [
            [
             0,
             "#0d0887"
            ],
            [
             0.1111111111111111,
             "#46039f"
            ],
            [
             0.2222222222222222,
             "#7201a8"
            ],
            [
             0.3333333333333333,
             "#9c179e"
            ],
            [
             0.4444444444444444,
             "#bd3786"
            ],
            [
             0.5555555555555556,
             "#d8576b"
            ],
            [
             0.6666666666666666,
             "#ed7953"
            ],
            [
             0.7777777777777778,
             "#fb9f3a"
            ],
            [
             0.8888888888888888,
             "#fdca26"
            ],
            [
             1,
             "#f0f921"
            ]
           ],
           "sequentialminus": [
            [
             0,
             "#0d0887"
            ],
            [
             0.1111111111111111,
             "#46039f"
            ],
            [
             0.2222222222222222,
             "#7201a8"
            ],
            [
             0.3333333333333333,
             "#9c179e"
            ],
            [
             0.4444444444444444,
             "#bd3786"
            ],
            [
             0.5555555555555556,
             "#d8576b"
            ],
            [
             0.6666666666666666,
             "#ed7953"
            ],
            [
             0.7777777777777778,
             "#fb9f3a"
            ],
            [
             0.8888888888888888,
             "#fdca26"
            ],
            [
             1,
             "#f0f921"
            ]
           ]
          },
          "colorway": [
           "#636efa",
           "#EF553B",
           "#00cc96",
           "#ab63fa",
           "#FFA15A",
           "#19d3f3",
           "#FF6692",
           "#B6E880",
           "#FF97FF",
           "#FECB52"
          ],
          "font": {
           "color": "#2a3f5f"
          },
          "geo": {
           "bgcolor": "white",
           "lakecolor": "white",
           "landcolor": "#E5ECF6",
           "showlakes": true,
           "showland": true,
           "subunitcolor": "white"
          },
          "hoverlabel": {
           "align": "left"
          },
          "hovermode": "closest",
          "mapbox": {
           "style": "light"
          },
          "paper_bgcolor": "white",
          "plot_bgcolor": "#E5ECF6",
          "polar": {
           "angularaxis": {
            "gridcolor": "white",
            "linecolor": "white",
            "ticks": ""
           },
           "bgcolor": "#E5ECF6",
           "radialaxis": {
            "gridcolor": "white",
            "linecolor": "white",
            "ticks": ""
           }
          },
          "scene": {
           "xaxis": {
            "backgroundcolor": "#E5ECF6",
            "gridcolor": "white",
            "gridwidth": 2,
            "linecolor": "white",
            "showbackground": true,
            "ticks": "",
            "zerolinecolor": "white"
           },
           "yaxis": {
            "backgroundcolor": "#E5ECF6",
            "gridcolor": "white",
            "gridwidth": 2,
            "linecolor": "white",
            "showbackground": true,
            "ticks": "",
            "zerolinecolor": "white"
           },
           "zaxis": {
            "backgroundcolor": "#E5ECF6",
            "gridcolor": "white",
            "gridwidth": 2,
            "linecolor": "white",
            "showbackground": true,
            "ticks": "",
            "zerolinecolor": "white"
           }
          },
          "shapedefaults": {
           "line": {
            "color": "#2a3f5f"
           }
          },
          "ternary": {
           "aaxis": {
            "gridcolor": "white",
            "linecolor": "white",
            "ticks": ""
           },
           "baxis": {
            "gridcolor": "white",
            "linecolor": "white",
            "ticks": ""
           },
           "bgcolor": "#E5ECF6",
           "caxis": {
            "gridcolor": "white",
            "linecolor": "white",
            "ticks": ""
           }
          },
          "title": {
           "x": 0.05
          },
          "xaxis": {
           "automargin": true,
           "gridcolor": "white",
           "linecolor": "white",
           "ticks": "",
           "title": {
            "standoff": 15
           },
           "zerolinecolor": "white",
           "zerolinewidth": 2
          },
          "yaxis": {
           "automargin": true,
           "gridcolor": "white",
           "linecolor": "white",
           "ticks": "",
           "title": {
            "standoff": 15
           },
           "zerolinecolor": "white",
           "zerolinewidth": 2
          }
         }
        },
        "xaxis": {
         "anchor": "y",
         "domain": [
          0,
          1
         ],
         "title": {
          "text": "value"
         }
        },
        "yaxis": {
         "anchor": "x",
         "domain": [
          0,
          1
         ],
         "title": {
          "text": "count"
         }
        }
       }
      }
     },
     "metadata": {},
     "output_type": "display_data"
    }
   ],
   "source": [
    "px.histogram(dados[\"O Régano\"], text_auto=True)"
   ]
  },
  {
   "cell_type": "code",
   "execution_count": 57,
   "metadata": {},
   "outputs": [
    {
     "data": {
      "application/vnd.plotly.v1+json": {
       "config": {
        "plotlyServerURL": "https://plot.ly"
       },
       "data": [
        {
         "alignmentgroup": "True",
         "bingroup": "x",
         "hovertemplate": "variable=Sal Sinha<br>value=%{x}<br>count=%{y}<extra></extra>",
         "legendgroup": "Sal Sinha",
         "marker": {
          "color": "#636efa",
          "pattern": {
           "shape": ""
          }
         },
         "name": "Sal Sinha",
         "offsetgroup": "Sal Sinha",
         "orientation": "v",
         "showlegend": true,
         "texttemplate": "%{value}",
         "type": "histogram",
         "x": [
          25,
          39,
          31,
          18,
          15,
          11,
          6,
          32,
          44,
          43,
          22,
          10,
          29,
          22,
          21,
          52,
          25,
          19,
          27,
          19,
          28,
          55,
          48,
          32,
          33,
          30,
          42,
          20,
          53,
          50,
          15,
          25,
          6,
          19,
          6,
          56,
          36,
          32,
          6,
          17,
          19,
          17,
          36,
          22,
          32,
          32,
          4,
          22,
          30,
          53,
          59,
          9,
          2,
          11,
          21,
          14,
          41,
          53,
          20,
          21,
          30,
          20,
          26,
          26,
          37,
          37,
          12,
          12,
          7,
          25,
          31,
          43,
          49,
          3,
          15,
          22,
          22,
          45,
          40,
          32,
          42,
          10,
          15,
          14,
          91,
          46,
          61,
          21,
          15,
          25,
          12,
          46,
          27,
          20,
          25,
          44,
          16,
          16,
          49,
          16,
          28,
          8,
          12,
          12,
          1,
          52,
          4,
          15,
          18,
          11,
          33,
          36,
          47,
          48,
          22,
          3,
          52,
          16,
          65,
          52,
          53,
          40,
          22,
          16,
          16,
          15,
          16,
          8,
          28,
          7,
          15,
          19,
          10,
          48,
          30,
          26,
          7,
          13,
          2,
          10,
          55,
          51,
          32,
          10,
          1,
          42,
          23,
          40,
          28,
          17,
          14,
          10,
          4,
          15,
          37,
          31,
          10,
          2,
          27,
          20,
          41,
          46,
          29,
          48,
          12,
          5,
          6,
          9,
          47,
          36,
          27,
          23,
          9,
          7,
          33,
          34,
          33,
          24,
          16,
          13,
          20,
          3,
          38,
          61,
          46,
          38,
          10,
          11,
          13,
          46,
          30,
          27,
          2,
          13,
          27,
          5,
          34,
          32,
          24,
          32,
          19,
          25,
          7,
          47,
          36,
          38,
          14,
          23,
          9,
          8,
          47,
          60,
          16,
          16,
          11,
          33,
          12,
          17,
          27,
          25,
          19,
          19,
          25,
          19,
          57,
          23,
          9,
          43,
          20,
          17,
          9,
          25,
          26,
          18,
          12,
          15,
          12,
          9,
          38,
          31,
          39,
          31,
          2,
          34,
          14,
          11,
          55,
          11,
          21,
          4,
          30,
          2,
          27,
          33,
          20,
          2,
          10,
          13,
          5,
          43,
          38,
          47,
          41,
          12,
          49,
          31,
          27,
          38,
          20,
          19,
          33,
          41,
          11,
          21,
          28,
          22,
          8,
          19,
          16,
          26,
          45,
          45,
          9,
          31,
          45,
          11,
          26,
          53,
          47,
          11,
          15,
          32,
          34,
          15,
          27,
          56,
          32,
          12,
          29,
          30,
          22,
          38,
          47,
          33,
          8,
          37,
          41,
          33,
          22,
          45,
          26,
          9,
          13,
          36,
          32,
          45,
          57,
          22,
          25,
          12,
          22,
          16,
          39,
          49,
          18,
          15,
          56,
          42,
          21,
          27,
          48,
          13,
          17,
          9,
          55,
          21,
          42,
          52,
          26,
          10,
          21,
          28,
          21,
          41,
          54,
          12,
          7,
          42,
          65,
          51,
          57,
          52,
          37,
          23,
          41,
          44,
          66,
          59,
          66,
          41,
          18,
          56,
          53,
          19,
          49,
          54,
          43,
          5,
          34,
          24,
          22,
          33,
          58,
          17,
          11,
          25,
          17,
          27,
          47,
          48,
          35,
          26,
          27,
          26,
          19,
          42,
          25,
          15,
          4,
          13,
          38,
          12,
          44,
          48,
          28,
          9,
          24,
          30,
          11,
          36,
          47,
          9,
          4,
          6,
          17,
          26,
          33,
          36,
          24,
          25,
          34,
          24,
          33,
          49,
          34,
          14,
          27,
          16,
          16,
          34,
          56,
          63,
          31,
          18,
          38,
          14,
          10,
          35,
          53,
          8,
          6,
          9,
          19,
          22,
          53,
          29,
          16,
          24,
          14,
          18,
          8,
          45,
          34,
          25,
          22,
          18,
          39,
          23,
          60,
          43,
          27,
          31,
          25,
          40,
          22,
          52,
          31,
          21,
          2,
          8,
          15,
          11,
          42,
          24,
          31,
          9,
          22,
          2,
          12,
          74,
          24,
          35,
          21,
          30,
          11,
          3,
          53,
          20
         ],
         "xaxis": "x",
         "yaxis": "y"
        }
       ],
       "layout": {
        "barmode": "relative",
        "legend": {
         "title": {
          "text": "variable"
         },
         "tracegroupgap": 0
        },
        "margin": {
         "t": 60
        },
        "template": {
         "data": {
          "bar": [
           {
            "error_x": {
             "color": "#2a3f5f"
            },
            "error_y": {
             "color": "#2a3f5f"
            },
            "marker": {
             "line": {
              "color": "#E5ECF6",
              "width": 0.5
             },
             "pattern": {
              "fillmode": "overlay",
              "size": 10,
              "solidity": 0.2
             }
            },
            "type": "bar"
           }
          ],
          "barpolar": [
           {
            "marker": {
             "line": {
              "color": "#E5ECF6",
              "width": 0.5
             },
             "pattern": {
              "fillmode": "overlay",
              "size": 10,
              "solidity": 0.2
             }
            },
            "type": "barpolar"
           }
          ],
          "carpet": [
           {
            "aaxis": {
             "endlinecolor": "#2a3f5f",
             "gridcolor": "white",
             "linecolor": "white",
             "minorgridcolor": "white",
             "startlinecolor": "#2a3f5f"
            },
            "baxis": {
             "endlinecolor": "#2a3f5f",
             "gridcolor": "white",
             "linecolor": "white",
             "minorgridcolor": "white",
             "startlinecolor": "#2a3f5f"
            },
            "type": "carpet"
           }
          ],
          "choropleth": [
           {
            "colorbar": {
             "outlinewidth": 0,
             "ticks": ""
            },
            "type": "choropleth"
           }
          ],
          "contour": [
           {
            "colorbar": {
             "outlinewidth": 0,
             "ticks": ""
            },
            "colorscale": [
             [
              0,
              "#0d0887"
             ],
             [
              0.1111111111111111,
              "#46039f"
             ],
             [
              0.2222222222222222,
              "#7201a8"
             ],
             [
              0.3333333333333333,
              "#9c179e"
             ],
             [
              0.4444444444444444,
              "#bd3786"
             ],
             [
              0.5555555555555556,
              "#d8576b"
             ],
             [
              0.6666666666666666,
              "#ed7953"
             ],
             [
              0.7777777777777778,
              "#fb9f3a"
             ],
             [
              0.8888888888888888,
              "#fdca26"
             ],
             [
              1,
              "#f0f921"
             ]
            ],
            "type": "contour"
           }
          ],
          "contourcarpet": [
           {
            "colorbar": {
             "outlinewidth": 0,
             "ticks": ""
            },
            "type": "contourcarpet"
           }
          ],
          "heatmap": [
           {
            "colorbar": {
             "outlinewidth": 0,
             "ticks": ""
            },
            "colorscale": [
             [
              0,
              "#0d0887"
             ],
             [
              0.1111111111111111,
              "#46039f"
             ],
             [
              0.2222222222222222,
              "#7201a8"
             ],
             [
              0.3333333333333333,
              "#9c179e"
             ],
             [
              0.4444444444444444,
              "#bd3786"
             ],
             [
              0.5555555555555556,
              "#d8576b"
             ],
             [
              0.6666666666666666,
              "#ed7953"
             ],
             [
              0.7777777777777778,
              "#fb9f3a"
             ],
             [
              0.8888888888888888,
              "#fdca26"
             ],
             [
              1,
              "#f0f921"
             ]
            ],
            "type": "heatmap"
           }
          ],
          "heatmapgl": [
           {
            "colorbar": {
             "outlinewidth": 0,
             "ticks": ""
            },
            "colorscale": [
             [
              0,
              "#0d0887"
             ],
             [
              0.1111111111111111,
              "#46039f"
             ],
             [
              0.2222222222222222,
              "#7201a8"
             ],
             [
              0.3333333333333333,
              "#9c179e"
             ],
             [
              0.4444444444444444,
              "#bd3786"
             ],
             [
              0.5555555555555556,
              "#d8576b"
             ],
             [
              0.6666666666666666,
              "#ed7953"
             ],
             [
              0.7777777777777778,
              "#fb9f3a"
             ],
             [
              0.8888888888888888,
              "#fdca26"
             ],
             [
              1,
              "#f0f921"
             ]
            ],
            "type": "heatmapgl"
           }
          ],
          "histogram": [
           {
            "marker": {
             "pattern": {
              "fillmode": "overlay",
              "size": 10,
              "solidity": 0.2
             }
            },
            "type": "histogram"
           }
          ],
          "histogram2d": [
           {
            "colorbar": {
             "outlinewidth": 0,
             "ticks": ""
            },
            "colorscale": [
             [
              0,
              "#0d0887"
             ],
             [
              0.1111111111111111,
              "#46039f"
             ],
             [
              0.2222222222222222,
              "#7201a8"
             ],
             [
              0.3333333333333333,
              "#9c179e"
             ],
             [
              0.4444444444444444,
              "#bd3786"
             ],
             [
              0.5555555555555556,
              "#d8576b"
             ],
             [
              0.6666666666666666,
              "#ed7953"
             ],
             [
              0.7777777777777778,
              "#fb9f3a"
             ],
             [
              0.8888888888888888,
              "#fdca26"
             ],
             [
              1,
              "#f0f921"
             ]
            ],
            "type": "histogram2d"
           }
          ],
          "histogram2dcontour": [
           {
            "colorbar": {
             "outlinewidth": 0,
             "ticks": ""
            },
            "colorscale": [
             [
              0,
              "#0d0887"
             ],
             [
              0.1111111111111111,
              "#46039f"
             ],
             [
              0.2222222222222222,
              "#7201a8"
             ],
             [
              0.3333333333333333,
              "#9c179e"
             ],
             [
              0.4444444444444444,
              "#bd3786"
             ],
             [
              0.5555555555555556,
              "#d8576b"
             ],
             [
              0.6666666666666666,
              "#ed7953"
             ],
             [
              0.7777777777777778,
              "#fb9f3a"
             ],
             [
              0.8888888888888888,
              "#fdca26"
             ],
             [
              1,
              "#f0f921"
             ]
            ],
            "type": "histogram2dcontour"
           }
          ],
          "mesh3d": [
           {
            "colorbar": {
             "outlinewidth": 0,
             "ticks": ""
            },
            "type": "mesh3d"
           }
          ],
          "parcoords": [
           {
            "line": {
             "colorbar": {
              "outlinewidth": 0,
              "ticks": ""
             }
            },
            "type": "parcoords"
           }
          ],
          "pie": [
           {
            "automargin": true,
            "type": "pie"
           }
          ],
          "scatter": [
           {
            "fillpattern": {
             "fillmode": "overlay",
             "size": 10,
             "solidity": 0.2
            },
            "type": "scatter"
           }
          ],
          "scatter3d": [
           {
            "line": {
             "colorbar": {
              "outlinewidth": 0,
              "ticks": ""
             }
            },
            "marker": {
             "colorbar": {
              "outlinewidth": 0,
              "ticks": ""
             }
            },
            "type": "scatter3d"
           }
          ],
          "scattercarpet": [
           {
            "marker": {
             "colorbar": {
              "outlinewidth": 0,
              "ticks": ""
             }
            },
            "type": "scattercarpet"
           }
          ],
          "scattergeo": [
           {
            "marker": {
             "colorbar": {
              "outlinewidth": 0,
              "ticks": ""
             }
            },
            "type": "scattergeo"
           }
          ],
          "scattergl": [
           {
            "marker": {
             "colorbar": {
              "outlinewidth": 0,
              "ticks": ""
             }
            },
            "type": "scattergl"
           }
          ],
          "scattermapbox": [
           {
            "marker": {
             "colorbar": {
              "outlinewidth": 0,
              "ticks": ""
             }
            },
            "type": "scattermapbox"
           }
          ],
          "scatterpolar": [
           {
            "marker": {
             "colorbar": {
              "outlinewidth": 0,
              "ticks": ""
             }
            },
            "type": "scatterpolar"
           }
          ],
          "scatterpolargl": [
           {
            "marker": {
             "colorbar": {
              "outlinewidth": 0,
              "ticks": ""
             }
            },
            "type": "scatterpolargl"
           }
          ],
          "scatterternary": [
           {
            "marker": {
             "colorbar": {
              "outlinewidth": 0,
              "ticks": ""
             }
            },
            "type": "scatterternary"
           }
          ],
          "surface": [
           {
            "colorbar": {
             "outlinewidth": 0,
             "ticks": ""
            },
            "colorscale": [
             [
              0,
              "#0d0887"
             ],
             [
              0.1111111111111111,
              "#46039f"
             ],
             [
              0.2222222222222222,
              "#7201a8"
             ],
             [
              0.3333333333333333,
              "#9c179e"
             ],
             [
              0.4444444444444444,
              "#bd3786"
             ],
             [
              0.5555555555555556,
              "#d8576b"
             ],
             [
              0.6666666666666666,
              "#ed7953"
             ],
             [
              0.7777777777777778,
              "#fb9f3a"
             ],
             [
              0.8888888888888888,
              "#fdca26"
             ],
             [
              1,
              "#f0f921"
             ]
            ],
            "type": "surface"
           }
          ],
          "table": [
           {
            "cells": {
             "fill": {
              "color": "#EBF0F8"
             },
             "line": {
              "color": "white"
             }
            },
            "header": {
             "fill": {
              "color": "#C8D4E3"
             },
             "line": {
              "color": "white"
             }
            },
            "type": "table"
           }
          ]
         },
         "layout": {
          "annotationdefaults": {
           "arrowcolor": "#2a3f5f",
           "arrowhead": 0,
           "arrowwidth": 1
          },
          "autotypenumbers": "strict",
          "coloraxis": {
           "colorbar": {
            "outlinewidth": 0,
            "ticks": ""
           }
          },
          "colorscale": {
           "diverging": [
            [
             0,
             "#8e0152"
            ],
            [
             0.1,
             "#c51b7d"
            ],
            [
             0.2,
             "#de77ae"
            ],
            [
             0.3,
             "#f1b6da"
            ],
            [
             0.4,
             "#fde0ef"
            ],
            [
             0.5,
             "#f7f7f7"
            ],
            [
             0.6,
             "#e6f5d0"
            ],
            [
             0.7,
             "#b8e186"
            ],
            [
             0.8,
             "#7fbc41"
            ],
            [
             0.9,
             "#4d9221"
            ],
            [
             1,
             "#276419"
            ]
           ],
           "sequential": [
            [
             0,
             "#0d0887"
            ],
            [
             0.1111111111111111,
             "#46039f"
            ],
            [
             0.2222222222222222,
             "#7201a8"
            ],
            [
             0.3333333333333333,
             "#9c179e"
            ],
            [
             0.4444444444444444,
             "#bd3786"
            ],
            [
             0.5555555555555556,
             "#d8576b"
            ],
            [
             0.6666666666666666,
             "#ed7953"
            ],
            [
             0.7777777777777778,
             "#fb9f3a"
            ],
            [
             0.8888888888888888,
             "#fdca26"
            ],
            [
             1,
             "#f0f921"
            ]
           ],
           "sequentialminus": [
            [
             0,
             "#0d0887"
            ],
            [
             0.1111111111111111,
             "#46039f"
            ],
            [
             0.2222222222222222,
             "#7201a8"
            ],
            [
             0.3333333333333333,
             "#9c179e"
            ],
            [
             0.4444444444444444,
             "#bd3786"
            ],
            [
             0.5555555555555556,
             "#d8576b"
            ],
            [
             0.6666666666666666,
             "#ed7953"
            ],
            [
             0.7777777777777778,
             "#fb9f3a"
            ],
            [
             0.8888888888888888,
             "#fdca26"
            ],
            [
             1,
             "#f0f921"
            ]
           ]
          },
          "colorway": [
           "#636efa",
           "#EF553B",
           "#00cc96",
           "#ab63fa",
           "#FFA15A",
           "#19d3f3",
           "#FF6692",
           "#B6E880",
           "#FF97FF",
           "#FECB52"
          ],
          "font": {
           "color": "#2a3f5f"
          },
          "geo": {
           "bgcolor": "white",
           "lakecolor": "white",
           "landcolor": "#E5ECF6",
           "showlakes": true,
           "showland": true,
           "subunitcolor": "white"
          },
          "hoverlabel": {
           "align": "left"
          },
          "hovermode": "closest",
          "mapbox": {
           "style": "light"
          },
          "paper_bgcolor": "white",
          "plot_bgcolor": "#E5ECF6",
          "polar": {
           "angularaxis": {
            "gridcolor": "white",
            "linecolor": "white",
            "ticks": ""
           },
           "bgcolor": "#E5ECF6",
           "radialaxis": {
            "gridcolor": "white",
            "linecolor": "white",
            "ticks": ""
           }
          },
          "scene": {
           "xaxis": {
            "backgroundcolor": "#E5ECF6",
            "gridcolor": "white",
            "gridwidth": 2,
            "linecolor": "white",
            "showbackground": true,
            "ticks": "",
            "zerolinecolor": "white"
           },
           "yaxis": {
            "backgroundcolor": "#E5ECF6",
            "gridcolor": "white",
            "gridwidth": 2,
            "linecolor": "white",
            "showbackground": true,
            "ticks": "",
            "zerolinecolor": "white"
           },
           "zaxis": {
            "backgroundcolor": "#E5ECF6",
            "gridcolor": "white",
            "gridwidth": 2,
            "linecolor": "white",
            "showbackground": true,
            "ticks": "",
            "zerolinecolor": "white"
           }
          },
          "shapedefaults": {
           "line": {
            "color": "#2a3f5f"
           }
          },
          "ternary": {
           "aaxis": {
            "gridcolor": "white",
            "linecolor": "white",
            "ticks": ""
           },
           "baxis": {
            "gridcolor": "white",
            "linecolor": "white",
            "ticks": ""
           },
           "bgcolor": "#E5ECF6",
           "caxis": {
            "gridcolor": "white",
            "linecolor": "white",
            "ticks": ""
           }
          },
          "title": {
           "x": 0.05
          },
          "xaxis": {
           "automargin": true,
           "gridcolor": "white",
           "linecolor": "white",
           "ticks": "",
           "title": {
            "standoff": 15
           },
           "zerolinecolor": "white",
           "zerolinewidth": 2
          },
          "yaxis": {
           "automargin": true,
           "gridcolor": "white",
           "linecolor": "white",
           "ticks": "",
           "title": {
            "standoff": 15
           },
           "zerolinecolor": "white",
           "zerolinewidth": 2
          }
         }
        },
        "xaxis": {
         "anchor": "y",
         "domain": [
          0,
          1
         ],
         "title": {
          "text": "value"
         }
        },
        "yaxis": {
         "anchor": "x",
         "domain": [
          0,
          1
         ],
         "title": {
          "text": "count"
         }
        }
       }
      }
     },
     "metadata": {},
     "output_type": "display_data"
    }
   ],
   "source": [
    "px.histogram(dados[\"Sal Sinha\"], text_auto=True)"
   ]
  },
  {
   "cell_type": "markdown",
   "metadata": {},
   "source": [
    "# Box plot"
   ]
  },
  {
   "cell_type": "code",
   "execution_count": 58,
   "metadata": {},
   "outputs": [
    {
     "data": {
      "application/vnd.plotly.v1+json": {
       "config": {
        "plotlyServerURL": "https://plot.ly"
       },
       "data": [
        {
         "alignmentgroup": "True",
         "hovertemplate": "variable=%{x}<br>value=%{y}<extra></extra>",
         "legendgroup": "",
         "marker": {
          "color": "#636efa"
         },
         "name": "",
         "notched": false,
         "offsetgroup": "",
         "orientation": "v",
         "showlegend": false,
         "type": "box",
         "x": [
          "O Régano",
          "O Régano",
          "O Régano",
          "O Régano",
          "O Régano",
          "O Régano",
          "O Régano",
          "O Régano",
          "O Régano",
          "O Régano",
          "O Régano",
          "O Régano",
          "O Régano",
          "O Régano",
          "O Régano",
          "O Régano",
          "O Régano",
          "O Régano",
          "O Régano",
          "O Régano",
          "O Régano",
          "O Régano",
          "O Régano",
          "O Régano",
          "O Régano",
          "O Régano",
          "O Régano",
          "O Régano",
          "O Régano",
          "O Régano",
          "O Régano",
          "O Régano",
          "O Régano",
          "O Régano",
          "O Régano",
          "O Régano",
          "O Régano",
          "O Régano",
          "O Régano",
          "O Régano",
          "O Régano",
          "O Régano",
          "O Régano",
          "O Régano",
          "O Régano",
          "O Régano",
          "O Régano",
          "O Régano",
          "O Régano",
          "O Régano",
          "O Régano",
          "O Régano",
          "O Régano",
          "O Régano",
          "O Régano",
          "O Régano",
          "O Régano",
          "O Régano",
          "O Régano",
          "O Régano",
          "O Régano",
          "O Régano",
          "O Régano",
          "O Régano",
          "O Régano",
          "O Régano",
          "O Régano",
          "O Régano",
          "O Régano",
          "O Régano",
          "O Régano",
          "O Régano",
          "O Régano",
          "O Régano",
          "O Régano",
          "O Régano",
          "O Régano",
          "O Régano",
          "O Régano",
          "O Régano",
          "O Régano",
          "O Régano",
          "O Régano",
          "O Régano",
          "O Régano",
          "O Régano",
          "O Régano",
          "O Régano",
          "O Régano",
          "O Régano",
          "O Régano",
          "O Régano",
          "O Régano",
          "O Régano",
          "O Régano",
          "O Régano",
          "O Régano",
          "O Régano",
          "O Régano",
          "O Régano",
          "O Régano",
          "O Régano",
          "O Régano",
          "O Régano",
          "O Régano",
          "O Régano",
          "O Régano",
          "O Régano",
          "O Régano",
          "O Régano",
          "O Régano",
          "O Régano",
          "O Régano",
          "O Régano",
          "O Régano",
          "O Régano",
          "O Régano",
          "O Régano",
          "O Régano",
          "O Régano",
          "O Régano",
          "O Régano",
          "O Régano",
          "O Régano",
          "O Régano",
          "O Régano",
          "O Régano",
          "O Régano",
          "O Régano",
          "O Régano",
          "O Régano",
          "O Régano",
          "O Régano",
          "O Régano",
          "O Régano",
          "O Régano",
          "O Régano",
          "O Régano",
          "O Régano",
          "O Régano",
          "O Régano",
          "O Régano",
          "O Régano",
          "O Régano",
          "O Régano",
          "O Régano",
          "O Régano",
          "O Régano",
          "O Régano",
          "O Régano",
          "O Régano",
          "O Régano",
          "O Régano",
          "O Régano",
          "O Régano",
          "O Régano",
          "O Régano",
          "O Régano",
          "O Régano",
          "O Régano",
          "O Régano",
          "O Régano",
          "O Régano",
          "O Régano",
          "O Régano",
          "O Régano",
          "O Régano",
          "O Régano",
          "O Régano",
          "O Régano",
          "O Régano",
          "O Régano",
          "O Régano",
          "O Régano",
          "O Régano",
          "O Régano",
          "O Régano",
          "O Régano",
          "O Régano",
          "O Régano",
          "O Régano",
          "O Régano",
          "O Régano",
          "O Régano",
          "O Régano",
          "O Régano",
          "O Régano",
          "O Régano",
          "O Régano",
          "O Régano",
          "O Régano",
          "O Régano",
          "O Régano",
          "O Régano",
          "O Régano",
          "O Régano",
          "O Régano",
          "O Régano",
          "O Régano",
          "O Régano",
          "O Régano",
          "O Régano",
          "O Régano",
          "O Régano",
          "O Régano",
          "O Régano",
          "O Régano",
          "O Régano",
          "O Régano",
          "O Régano",
          "O Régano",
          "O Régano",
          "O Régano",
          "O Régano",
          "O Régano",
          "O Régano",
          "O Régano",
          "O Régano",
          "O Régano",
          "O Régano",
          "O Régano",
          "O Régano",
          "O Régano",
          "O Régano",
          "O Régano",
          "O Régano",
          "O Régano",
          "O Régano",
          "O Régano",
          "O Régano",
          "O Régano",
          "O Régano",
          "O Régano",
          "O Régano",
          "O Régano",
          "O Régano",
          "O Régano",
          "O Régano",
          "O Régano",
          "O Régano",
          "O Régano",
          "O Régano",
          "O Régano",
          "O Régano",
          "O Régano",
          "O Régano",
          "O Régano",
          "O Régano",
          "O Régano",
          "O Régano",
          "O Régano",
          "O Régano",
          "O Régano",
          "O Régano",
          "O Régano",
          "O Régano",
          "O Régano",
          "O Régano",
          "O Régano",
          "O Régano",
          "O Régano",
          "O Régano",
          "O Régano",
          "O Régano",
          "O Régano",
          "O Régano",
          "O Régano",
          "O Régano",
          "O Régano",
          "O Régano",
          "O Régano",
          "O Régano",
          "O Régano",
          "O Régano",
          "O Régano",
          "O Régano",
          "O Régano",
          "O Régano",
          "O Régano",
          "O Régano",
          "O Régano",
          "O Régano",
          "O Régano",
          "O Régano",
          "O Régano",
          "O Régano",
          "O Régano",
          "O Régano",
          "O Régano",
          "O Régano",
          "O Régano",
          "O Régano",
          "O Régano",
          "O Régano",
          "O Régano",
          "O Régano",
          "O Régano",
          "O Régano",
          "O Régano",
          "O Régano",
          "O Régano",
          "O Régano",
          "O Régano",
          "O Régano",
          "O Régano",
          "O Régano",
          "O Régano",
          "O Régano",
          "O Régano",
          "O Régano",
          "O Régano",
          "O Régano",
          "O Régano",
          "O Régano",
          "O Régano",
          "O Régano",
          "O Régano",
          "O Régano",
          "O Régano",
          "O Régano",
          "O Régano",
          "O Régano",
          "O Régano",
          "O Régano",
          "O Régano",
          "O Régano",
          "O Régano",
          "O Régano",
          "O Régano",
          "O Régano",
          "O Régano",
          "O Régano",
          "O Régano",
          "O Régano",
          "O Régano",
          "O Régano",
          "O Régano",
          "O Régano",
          "O Régano",
          "O Régano",
          "O Régano",
          "O Régano",
          "O Régano",
          "O Régano",
          "O Régano",
          "O Régano",
          "O Régano",
          "O Régano",
          "O Régano",
          "O Régano",
          "O Régano",
          "O Régano",
          "O Régano",
          "O Régano",
          "O Régano",
          "O Régano",
          "O Régano",
          "O Régano",
          "O Régano",
          "O Régano",
          "O Régano",
          "O Régano",
          "O Régano",
          "O Régano",
          "O Régano",
          "O Régano",
          "O Régano",
          "O Régano",
          "O Régano",
          "O Régano",
          "O Régano",
          "O Régano",
          "O Régano",
          "O Régano",
          "O Régano",
          "O Régano",
          "O Régano",
          "O Régano",
          "O Régano",
          "O Régano",
          "O Régano",
          "O Régano",
          "O Régano",
          "O Régano",
          "O Régano",
          "O Régano",
          "O Régano",
          "O Régano",
          "O Régano",
          "O Régano",
          "O Régano",
          "O Régano",
          "O Régano",
          "O Régano",
          "O Régano",
          "O Régano",
          "O Régano",
          "O Régano",
          "O Régano",
          "O Régano",
          "O Régano",
          "O Régano",
          "O Régano",
          "O Régano",
          "O Régano",
          "O Régano",
          "O Régano",
          "O Régano",
          "O Régano",
          "O Régano",
          "O Régano",
          "O Régano",
          "O Régano",
          "O Régano",
          "O Régano",
          "O Régano",
          "O Régano",
          "O Régano",
          "O Régano",
          "O Régano",
          "O Régano",
          "O Régano",
          "O Régano",
          "O Régano",
          "O Régano",
          "O Régano",
          "O Régano",
          "O Régano",
          "O Régano",
          "O Régano",
          "O Régano",
          "O Régano",
          "O Régano",
          "O Régano",
          "O Régano",
          "O Régano",
          "O Régano",
          "O Régano",
          "O Régano",
          "O Régano",
          "O Régano",
          "O Régano",
          "O Régano",
          "O Régano",
          "O Régano",
          "O Régano",
          "O Régano",
          "O Régano",
          "O Régano",
          "O Régano",
          "O Régano",
          "O Régano",
          "O Régano",
          "O Régano",
          "O Régano",
          "O Régano",
          "O Régano",
          "O Régano",
          "O Régano",
          "O Régano",
          "O Régano",
          "O Régano",
          "O Régano",
          "O Régano",
          "O Régano",
          "O Régano",
          "O Régano",
          "O Régano",
          "O Régano",
          "O Régano",
          "O Régano",
          "O Régano",
          "O Régano",
          "O Régano",
          "O Régano",
          "O Régano",
          "O Régano",
          "O Régano",
          "Sal Sinha",
          "Sal Sinha",
          "Sal Sinha",
          "Sal Sinha",
          "Sal Sinha",
          "Sal Sinha",
          "Sal Sinha",
          "Sal Sinha",
          "Sal Sinha",
          "Sal Sinha",
          "Sal Sinha",
          "Sal Sinha",
          "Sal Sinha",
          "Sal Sinha",
          "Sal Sinha",
          "Sal Sinha",
          "Sal Sinha",
          "Sal Sinha",
          "Sal Sinha",
          "Sal Sinha",
          "Sal Sinha",
          "Sal Sinha",
          "Sal Sinha",
          "Sal Sinha",
          "Sal Sinha",
          "Sal Sinha",
          "Sal Sinha",
          "Sal Sinha",
          "Sal Sinha",
          "Sal Sinha",
          "Sal Sinha",
          "Sal Sinha",
          "Sal Sinha",
          "Sal Sinha",
          "Sal Sinha",
          "Sal Sinha",
          "Sal Sinha",
          "Sal Sinha",
          "Sal Sinha",
          "Sal Sinha",
          "Sal Sinha",
          "Sal Sinha",
          "Sal Sinha",
          "Sal Sinha",
          "Sal Sinha",
          "Sal Sinha",
          "Sal Sinha",
          "Sal Sinha",
          "Sal Sinha",
          "Sal Sinha",
          "Sal Sinha",
          "Sal Sinha",
          "Sal Sinha",
          "Sal Sinha",
          "Sal Sinha",
          "Sal Sinha",
          "Sal Sinha",
          "Sal Sinha",
          "Sal Sinha",
          "Sal Sinha",
          "Sal Sinha",
          "Sal Sinha",
          "Sal Sinha",
          "Sal Sinha",
          "Sal Sinha",
          "Sal Sinha",
          "Sal Sinha",
          "Sal Sinha",
          "Sal Sinha",
          "Sal Sinha",
          "Sal Sinha",
          "Sal Sinha",
          "Sal Sinha",
          "Sal Sinha",
          "Sal Sinha",
          "Sal Sinha",
          "Sal Sinha",
          "Sal Sinha",
          "Sal Sinha",
          "Sal Sinha",
          "Sal Sinha",
          "Sal Sinha",
          "Sal Sinha",
          "Sal Sinha",
          "Sal Sinha",
          "Sal Sinha",
          "Sal Sinha",
          "Sal Sinha",
          "Sal Sinha",
          "Sal Sinha",
          "Sal Sinha",
          "Sal Sinha",
          "Sal Sinha",
          "Sal Sinha",
          "Sal Sinha",
          "Sal Sinha",
          "Sal Sinha",
          "Sal Sinha",
          "Sal Sinha",
          "Sal Sinha",
          "Sal Sinha",
          "Sal Sinha",
          "Sal Sinha",
          "Sal Sinha",
          "Sal Sinha",
          "Sal Sinha",
          "Sal Sinha",
          "Sal Sinha",
          "Sal Sinha",
          "Sal Sinha",
          "Sal Sinha",
          "Sal Sinha",
          "Sal Sinha",
          "Sal Sinha",
          "Sal Sinha",
          "Sal Sinha",
          "Sal Sinha",
          "Sal Sinha",
          "Sal Sinha",
          "Sal Sinha",
          "Sal Sinha",
          "Sal Sinha",
          "Sal Sinha",
          "Sal Sinha",
          "Sal Sinha",
          "Sal Sinha",
          "Sal Sinha",
          "Sal Sinha",
          "Sal Sinha",
          "Sal Sinha",
          "Sal Sinha",
          "Sal Sinha",
          "Sal Sinha",
          "Sal Sinha",
          "Sal Sinha",
          "Sal Sinha",
          "Sal Sinha",
          "Sal Sinha",
          "Sal Sinha",
          "Sal Sinha",
          "Sal Sinha",
          "Sal Sinha",
          "Sal Sinha",
          "Sal Sinha",
          "Sal Sinha",
          "Sal Sinha",
          "Sal Sinha",
          "Sal Sinha",
          "Sal Sinha",
          "Sal Sinha",
          "Sal Sinha",
          "Sal Sinha",
          "Sal Sinha",
          "Sal Sinha",
          "Sal Sinha",
          "Sal Sinha",
          "Sal Sinha",
          "Sal Sinha",
          "Sal Sinha",
          "Sal Sinha",
          "Sal Sinha",
          "Sal Sinha",
          "Sal Sinha",
          "Sal Sinha",
          "Sal Sinha",
          "Sal Sinha",
          "Sal Sinha",
          "Sal Sinha",
          "Sal Sinha",
          "Sal Sinha",
          "Sal Sinha",
          "Sal Sinha",
          "Sal Sinha",
          "Sal Sinha",
          "Sal Sinha",
          "Sal Sinha",
          "Sal Sinha",
          "Sal Sinha",
          "Sal Sinha",
          "Sal Sinha",
          "Sal Sinha",
          "Sal Sinha",
          "Sal Sinha",
          "Sal Sinha",
          "Sal Sinha",
          "Sal Sinha",
          "Sal Sinha",
          "Sal Sinha",
          "Sal Sinha",
          "Sal Sinha",
          "Sal Sinha",
          "Sal Sinha",
          "Sal Sinha",
          "Sal Sinha",
          "Sal Sinha",
          "Sal Sinha",
          "Sal Sinha",
          "Sal Sinha",
          "Sal Sinha",
          "Sal Sinha",
          "Sal Sinha",
          "Sal Sinha",
          "Sal Sinha",
          "Sal Sinha",
          "Sal Sinha",
          "Sal Sinha",
          "Sal Sinha",
          "Sal Sinha",
          "Sal Sinha",
          "Sal Sinha",
          "Sal Sinha",
          "Sal Sinha",
          "Sal Sinha",
          "Sal Sinha",
          "Sal Sinha",
          "Sal Sinha",
          "Sal Sinha",
          "Sal Sinha",
          "Sal Sinha",
          "Sal Sinha",
          "Sal Sinha",
          "Sal Sinha",
          "Sal Sinha",
          "Sal Sinha",
          "Sal Sinha",
          "Sal Sinha",
          "Sal Sinha",
          "Sal Sinha",
          "Sal Sinha",
          "Sal Sinha",
          "Sal Sinha",
          "Sal Sinha",
          "Sal Sinha",
          "Sal Sinha",
          "Sal Sinha",
          "Sal Sinha",
          "Sal Sinha",
          "Sal Sinha",
          "Sal Sinha",
          "Sal Sinha",
          "Sal Sinha",
          "Sal Sinha",
          "Sal Sinha",
          "Sal Sinha",
          "Sal Sinha",
          "Sal Sinha",
          "Sal Sinha",
          "Sal Sinha",
          "Sal Sinha",
          "Sal Sinha",
          "Sal Sinha",
          "Sal Sinha",
          "Sal Sinha",
          "Sal Sinha",
          "Sal Sinha",
          "Sal Sinha",
          "Sal Sinha",
          "Sal Sinha",
          "Sal Sinha",
          "Sal Sinha",
          "Sal Sinha",
          "Sal Sinha",
          "Sal Sinha",
          "Sal Sinha",
          "Sal Sinha",
          "Sal Sinha",
          "Sal Sinha",
          "Sal Sinha",
          "Sal Sinha",
          "Sal Sinha",
          "Sal Sinha",
          "Sal Sinha",
          "Sal Sinha",
          "Sal Sinha",
          "Sal Sinha",
          "Sal Sinha",
          "Sal Sinha",
          "Sal Sinha",
          "Sal Sinha",
          "Sal Sinha",
          "Sal Sinha",
          "Sal Sinha",
          "Sal Sinha",
          "Sal Sinha",
          "Sal Sinha",
          "Sal Sinha",
          "Sal Sinha",
          "Sal Sinha",
          "Sal Sinha",
          "Sal Sinha",
          "Sal Sinha",
          "Sal Sinha",
          "Sal Sinha",
          "Sal Sinha",
          "Sal Sinha",
          "Sal Sinha",
          "Sal Sinha",
          "Sal Sinha",
          "Sal Sinha",
          "Sal Sinha",
          "Sal Sinha",
          "Sal Sinha",
          "Sal Sinha",
          "Sal Sinha",
          "Sal Sinha",
          "Sal Sinha",
          "Sal Sinha",
          "Sal Sinha",
          "Sal Sinha",
          "Sal Sinha",
          "Sal Sinha",
          "Sal Sinha",
          "Sal Sinha",
          "Sal Sinha",
          "Sal Sinha",
          "Sal Sinha",
          "Sal Sinha",
          "Sal Sinha",
          "Sal Sinha",
          "Sal Sinha",
          "Sal Sinha",
          "Sal Sinha",
          "Sal Sinha",
          "Sal Sinha",
          "Sal Sinha",
          "Sal Sinha",
          "Sal Sinha",
          "Sal Sinha",
          "Sal Sinha",
          "Sal Sinha",
          "Sal Sinha",
          "Sal Sinha",
          "Sal Sinha",
          "Sal Sinha",
          "Sal Sinha",
          "Sal Sinha",
          "Sal Sinha",
          "Sal Sinha",
          "Sal Sinha",
          "Sal Sinha",
          "Sal Sinha",
          "Sal Sinha",
          "Sal Sinha",
          "Sal Sinha",
          "Sal Sinha",
          "Sal Sinha",
          "Sal Sinha",
          "Sal Sinha",
          "Sal Sinha",
          "Sal Sinha",
          "Sal Sinha",
          "Sal Sinha",
          "Sal Sinha",
          "Sal Sinha",
          "Sal Sinha",
          "Sal Sinha",
          "Sal Sinha",
          "Sal Sinha",
          "Sal Sinha",
          "Sal Sinha",
          "Sal Sinha",
          "Sal Sinha",
          "Sal Sinha",
          "Sal Sinha",
          "Sal Sinha",
          "Sal Sinha",
          "Sal Sinha",
          "Sal Sinha",
          "Sal Sinha",
          "Sal Sinha",
          "Sal Sinha",
          "Sal Sinha",
          "Sal Sinha",
          "Sal Sinha",
          "Sal Sinha",
          "Sal Sinha",
          "Sal Sinha",
          "Sal Sinha",
          "Sal Sinha",
          "Sal Sinha",
          "Sal Sinha",
          "Sal Sinha",
          "Sal Sinha",
          "Sal Sinha",
          "Sal Sinha",
          "Sal Sinha",
          "Sal Sinha",
          "Sal Sinha",
          "Sal Sinha",
          "Sal Sinha",
          "Sal Sinha",
          "Sal Sinha",
          "Sal Sinha",
          "Sal Sinha",
          "Sal Sinha",
          "Sal Sinha",
          "Sal Sinha",
          "Sal Sinha",
          "Sal Sinha",
          "Sal Sinha",
          "Sal Sinha",
          "Sal Sinha",
          "Sal Sinha",
          "Sal Sinha",
          "Sal Sinha",
          "Sal Sinha",
          "Sal Sinha",
          "Sal Sinha",
          "Sal Sinha",
          "Sal Sinha",
          "Sal Sinha",
          "Sal Sinha",
          "Sal Sinha",
          "Sal Sinha",
          "Sal Sinha",
          "Sal Sinha",
          "Sal Sinha",
          "Sal Sinha",
          "Sal Sinha",
          "Sal Sinha",
          "Sal Sinha",
          "Sal Sinha",
          "Sal Sinha",
          "Sal Sinha",
          "Sal Sinha",
          "Sal Sinha",
          "Sal Sinha",
          "Sal Sinha",
          "Sal Sinha",
          "Sal Sinha",
          "Sal Sinha",
          "Sal Sinha",
          "Sal Sinha",
          "Sal Sinha",
          "Sal Sinha",
          "Sal Sinha",
          "Sal Sinha",
          "Sal Sinha",
          "Sal Sinha",
          "Sal Sinha",
          "Sal Sinha",
          "Sal Sinha",
          "Sal Sinha",
          "Sal Sinha",
          "Sal Sinha",
          "Sal Sinha",
          "Sal Sinha",
          "Sal Sinha",
          "Sal Sinha",
          "Sal Sinha",
          "Sal Sinha",
          "Sal Sinha",
          "Sal Sinha",
          "Sal Sinha",
          "Sal Sinha",
          "Sal Sinha",
          "Sal Sinha",
          "Sal Sinha",
          "Sal Sinha",
          "Sal Sinha",
          "Sal Sinha",
          "Sal Sinha",
          "Sal Sinha",
          "Sal Sinha",
          "Sal Sinha",
          "Sal Sinha",
          "Sal Sinha",
          "Sal Sinha",
          "Sal Sinha",
          "Sal Sinha",
          "Sal Sinha",
          "Sal Sinha",
          "Sal Sinha",
          "Sal Sinha",
          "Sal Sinha",
          "Sal Sinha",
          "Sal Sinha",
          "Sal Sinha"
         ],
         "x0": " ",
         "xaxis": "x",
         "y": [
          67,
          43,
          66,
          52,
          38,
          22,
          18,
          22,
          47,
          49,
          33,
          21,
          11,
          20,
          21,
          50,
          62,
          19,
          20,
          17,
          13,
          23,
          51,
          64,
          19,
          14,
          20,
          22,
          24,
          45,
          60,
          31,
          19,
          16,
          15,
          24,
          81,
          55,
          20,
          24,
          17,
          47,
          54,
          43,
          47,
          30,
          17,
          21,
          22,
          29,
          51,
          32,
          23,
          21,
          12,
          30,
          36,
          48,
          63,
          17,
          23,
          14,
          17,
          29,
          60,
          60,
          25,
          24,
          19,
          23,
          33,
          61,
          60,
          13,
          18,
          18,
          65,
          59,
          44,
          56,
          31,
          22,
          14,
          17,
          64,
          59,
          47,
          58,
          22,
          12,
          25,
          24,
          50,
          52,
          23,
          22,
          18,
          17,
          22,
          51,
          52,
          12,
          9,
          17,
          11,
          38,
          60,
          41,
          6,
          19,
          12,
          22,
          20,
          39,
          38,
          12,
          11,
          18,
          26,
          20,
          71,
          30,
          17,
          43,
          25,
          54,
          17,
          39,
          49,
          7,
          12,
          29,
          26,
          20,
          71,
          58,
          14,
          18,
          8,
          12,
          23,
          54,
          55,
          14,
          13,
          30,
          21,
          30,
          83,
          53,
          51,
          21,
          17,
          23,
          20,
          44,
          50,
          21,
          19,
          18,
          22,
          34,
          43,
          32,
          7,
          23,
          14,
          14,
          13,
          60,
          41,
          20,
          19,
          12,
          16,
          47,
          81,
          57,
          19,
          18,
          51,
          23,
          25,
          51,
          41,
          33,
          27,
          18,
          37,
          17,
          76,
          57,
          42,
          14,
          7,
          18,
          22,
          44,
          60,
          19,
          14,
          8,
          10,
          71,
          69,
          55,
          10,
          23,
          18,
          19,
          20,
          58,
          58,
          11,
          12,
          9,
          24,
          19,
          52,
          45,
          21,
          21,
          12,
          27,
          18,
          75,
          49,
          27,
          23,
          18,
          13,
          31,
          65,
          57,
          16,
          30,
          6,
          21,
          41,
          61,
          47,
          17,
          21,
          20,
          14,
          20,
          48,
          36,
          31,
          20,
          17,
          15,
          25,
          51,
          67,
          14,
          10,
          13,
          23,
          23,
          99,
          55,
          22,
          16,
          21,
          31,
          30,
          62,
          50,
          17,
          18,
          22,
          16,
          33,
          55,
          61,
          17,
          12,
          8,
          16,
          28,
          55,
          44,
          41,
          14,
          17,
          13,
          21,
          54,
          45,
          11,
          17,
          23,
          25,
          32,
          43,
          24,
          17,
          25,
          14,
          16,
          38,
          55,
          59,
          52,
          17,
          23,
          44,
          23,
          59,
          40,
          17,
          20,
          15,
          12,
          37,
          44,
          48,
          16,
          22,
          26,
          18,
          35,
          51,
          34,
          19,
          18,
          20,
          20,
          34,
          60,
          43,
          14,
          26,
          13,
          18,
          19,
          60,
          58,
          20,
          24,
          18,
          15,
          29,
          78,
          45,
          24,
          15,
          19,
          25,
          23,
          65,
          32,
          8,
          15,
          24,
          33,
          56,
          42,
          70,
          20,
          19,
          36,
          27,
          24,
          57,
          47,
          43,
          16,
          23,
          28,
          21,
          39,
          43,
          10,
          18,
          12,
          16,
          16,
          55,
          51,
          29,
          19,
          25,
          19,
          22,
          57,
          49,
          24,
          35,
          22,
          19,
          25,
          74,
          52,
          30,
          31,
          13,
          18,
          34,
          58,
          48,
          18,
          23,
          19,
          32,
          34,
          49,
          42,
          9,
          58,
          17,
          20,
          26,
          61,
          47,
          39,
          9,
          25,
          23,
          23,
          61,
          57,
          7,
          40,
          20,
          27,
          20,
          62,
          66,
          24,
          19,
          35,
          13,
          32,
          80,
          55,
          18,
          22,
          21,
          24,
          37,
          30,
          68,
          19,
          15,
          14,
          19,
          31,
          62,
          48,
          34,
          20,
          22,
          13,
          28,
          36,
          55,
          29,
          22,
          20,
          19,
          40,
          47,
          33,
          17,
          17,
          15,
          12,
          57,
          66,
          60,
          24,
          27,
          30,
          19,
          36,
          50,
          25,
          39,
          31,
          18,
          15,
          11,
          6,
          32,
          44,
          43,
          22,
          10,
          29,
          22,
          21,
          52,
          25,
          19,
          27,
          19,
          28,
          55,
          48,
          32,
          33,
          30,
          42,
          20,
          53,
          50,
          15,
          25,
          6,
          19,
          6,
          56,
          36,
          32,
          6,
          17,
          19,
          17,
          36,
          22,
          32,
          32,
          4,
          22,
          30,
          53,
          59,
          9,
          2,
          11,
          21,
          14,
          41,
          53,
          20,
          21,
          30,
          20,
          26,
          26,
          37,
          37,
          12,
          12,
          7,
          25,
          31,
          43,
          49,
          3,
          15,
          22,
          22,
          45,
          40,
          32,
          42,
          10,
          15,
          14,
          91,
          46,
          61,
          21,
          15,
          25,
          12,
          46,
          27,
          20,
          25,
          44,
          16,
          16,
          49,
          16,
          28,
          8,
          12,
          12,
          1,
          52,
          4,
          15,
          18,
          11,
          33,
          36,
          47,
          48,
          22,
          3,
          52,
          16,
          65,
          52,
          53,
          40,
          22,
          16,
          16,
          15,
          16,
          8,
          28,
          7,
          15,
          19,
          10,
          48,
          30,
          26,
          7,
          13,
          2,
          10,
          55,
          51,
          32,
          10,
          1,
          42,
          23,
          40,
          28,
          17,
          14,
          10,
          4,
          15,
          37,
          31,
          10,
          2,
          27,
          20,
          41,
          46,
          29,
          48,
          12,
          5,
          6,
          9,
          47,
          36,
          27,
          23,
          9,
          7,
          33,
          34,
          33,
          24,
          16,
          13,
          20,
          3,
          38,
          61,
          46,
          38,
          10,
          11,
          13,
          46,
          30,
          27,
          2,
          13,
          27,
          5,
          34,
          32,
          24,
          32,
          19,
          25,
          7,
          47,
          36,
          38,
          14,
          23,
          9,
          8,
          47,
          60,
          16,
          16,
          11,
          33,
          12,
          17,
          27,
          25,
          19,
          19,
          25,
          19,
          57,
          23,
          9,
          43,
          20,
          17,
          9,
          25,
          26,
          18,
          12,
          15,
          12,
          9,
          38,
          31,
          39,
          31,
          2,
          34,
          14,
          11,
          55,
          11,
          21,
          4,
          30,
          2,
          27,
          33,
          20,
          2,
          10,
          13,
          5,
          43,
          38,
          47,
          41,
          12,
          49,
          31,
          27,
          38,
          20,
          19,
          33,
          41,
          11,
          21,
          28,
          22,
          8,
          19,
          16,
          26,
          45,
          45,
          9,
          31,
          45,
          11,
          26,
          53,
          47,
          11,
          15,
          32,
          34,
          15,
          27,
          56,
          32,
          12,
          29,
          30,
          22,
          38,
          47,
          33,
          8,
          37,
          41,
          33,
          22,
          45,
          26,
          9,
          13,
          36,
          32,
          45,
          57,
          22,
          25,
          12,
          22,
          16,
          39,
          49,
          18,
          15,
          56,
          42,
          21,
          27,
          48,
          13,
          17,
          9,
          55,
          21,
          42,
          52,
          26,
          10,
          21,
          28,
          21,
          41,
          54,
          12,
          7,
          42,
          65,
          51,
          57,
          52,
          37,
          23,
          41,
          44,
          66,
          59,
          66,
          41,
          18,
          56,
          53,
          19,
          49,
          54,
          43,
          5,
          34,
          24,
          22,
          33,
          58,
          17,
          11,
          25,
          17,
          27,
          47,
          48,
          35,
          26,
          27,
          26,
          19,
          42,
          25,
          15,
          4,
          13,
          38,
          12,
          44,
          48,
          28,
          9,
          24,
          30,
          11,
          36,
          47,
          9,
          4,
          6,
          17,
          26,
          33,
          36,
          24,
          25,
          34,
          24,
          33,
          49,
          34,
          14,
          27,
          16,
          16,
          34,
          56,
          63,
          31,
          18,
          38,
          14,
          10,
          35,
          53,
          8,
          6,
          9,
          19,
          22,
          53,
          29,
          16,
          24,
          14,
          18,
          8,
          45,
          34,
          25,
          22,
          18,
          39,
          23,
          60,
          43,
          27,
          31,
          25,
          40,
          22,
          52,
          31,
          21,
          2,
          8,
          15,
          11,
          42,
          24,
          31,
          9,
          22,
          2,
          12,
          74,
          24,
          35,
          21,
          30,
          11,
          3,
          53,
          20
         ],
         "y0": " ",
         "yaxis": "y"
        }
       ],
       "layout": {
        "boxmode": "group",
        "legend": {
         "tracegroupgap": 0
        },
        "margin": {
         "t": 60
        },
        "template": {
         "data": {
          "bar": [
           {
            "error_x": {
             "color": "#2a3f5f"
            },
            "error_y": {
             "color": "#2a3f5f"
            },
            "marker": {
             "line": {
              "color": "#E5ECF6",
              "width": 0.5
             },
             "pattern": {
              "fillmode": "overlay",
              "size": 10,
              "solidity": 0.2
             }
            },
            "type": "bar"
           }
          ],
          "barpolar": [
           {
            "marker": {
             "line": {
              "color": "#E5ECF6",
              "width": 0.5
             },
             "pattern": {
              "fillmode": "overlay",
              "size": 10,
              "solidity": 0.2
             }
            },
            "type": "barpolar"
           }
          ],
          "carpet": [
           {
            "aaxis": {
             "endlinecolor": "#2a3f5f",
             "gridcolor": "white",
             "linecolor": "white",
             "minorgridcolor": "white",
             "startlinecolor": "#2a3f5f"
            },
            "baxis": {
             "endlinecolor": "#2a3f5f",
             "gridcolor": "white",
             "linecolor": "white",
             "minorgridcolor": "white",
             "startlinecolor": "#2a3f5f"
            },
            "type": "carpet"
           }
          ],
          "choropleth": [
           {
            "colorbar": {
             "outlinewidth": 0,
             "ticks": ""
            },
            "type": "choropleth"
           }
          ],
          "contour": [
           {
            "colorbar": {
             "outlinewidth": 0,
             "ticks": ""
            },
            "colorscale": [
             [
              0,
              "#0d0887"
             ],
             [
              0.1111111111111111,
              "#46039f"
             ],
             [
              0.2222222222222222,
              "#7201a8"
             ],
             [
              0.3333333333333333,
              "#9c179e"
             ],
             [
              0.4444444444444444,
              "#bd3786"
             ],
             [
              0.5555555555555556,
              "#d8576b"
             ],
             [
              0.6666666666666666,
              "#ed7953"
             ],
             [
              0.7777777777777778,
              "#fb9f3a"
             ],
             [
              0.8888888888888888,
              "#fdca26"
             ],
             [
              1,
              "#f0f921"
             ]
            ],
            "type": "contour"
           }
          ],
          "contourcarpet": [
           {
            "colorbar": {
             "outlinewidth": 0,
             "ticks": ""
            },
            "type": "contourcarpet"
           }
          ],
          "heatmap": [
           {
            "colorbar": {
             "outlinewidth": 0,
             "ticks": ""
            },
            "colorscale": [
             [
              0,
              "#0d0887"
             ],
             [
              0.1111111111111111,
              "#46039f"
             ],
             [
              0.2222222222222222,
              "#7201a8"
             ],
             [
              0.3333333333333333,
              "#9c179e"
             ],
             [
              0.4444444444444444,
              "#bd3786"
             ],
             [
              0.5555555555555556,
              "#d8576b"
             ],
             [
              0.6666666666666666,
              "#ed7953"
             ],
             [
              0.7777777777777778,
              "#fb9f3a"
             ],
             [
              0.8888888888888888,
              "#fdca26"
             ],
             [
              1,
              "#f0f921"
             ]
            ],
            "type": "heatmap"
           }
          ],
          "heatmapgl": [
           {
            "colorbar": {
             "outlinewidth": 0,
             "ticks": ""
            },
            "colorscale": [
             [
              0,
              "#0d0887"
             ],
             [
              0.1111111111111111,
              "#46039f"
             ],
             [
              0.2222222222222222,
              "#7201a8"
             ],
             [
              0.3333333333333333,
              "#9c179e"
             ],
             [
              0.4444444444444444,
              "#bd3786"
             ],
             [
              0.5555555555555556,
              "#d8576b"
             ],
             [
              0.6666666666666666,
              "#ed7953"
             ],
             [
              0.7777777777777778,
              "#fb9f3a"
             ],
             [
              0.8888888888888888,
              "#fdca26"
             ],
             [
              1,
              "#f0f921"
             ]
            ],
            "type": "heatmapgl"
           }
          ],
          "histogram": [
           {
            "marker": {
             "pattern": {
              "fillmode": "overlay",
              "size": 10,
              "solidity": 0.2
             }
            },
            "type": "histogram"
           }
          ],
          "histogram2d": [
           {
            "colorbar": {
             "outlinewidth": 0,
             "ticks": ""
            },
            "colorscale": [
             [
              0,
              "#0d0887"
             ],
             [
              0.1111111111111111,
              "#46039f"
             ],
             [
              0.2222222222222222,
              "#7201a8"
             ],
             [
              0.3333333333333333,
              "#9c179e"
             ],
             [
              0.4444444444444444,
              "#bd3786"
             ],
             [
              0.5555555555555556,
              "#d8576b"
             ],
             [
              0.6666666666666666,
              "#ed7953"
             ],
             [
              0.7777777777777778,
              "#fb9f3a"
             ],
             [
              0.8888888888888888,
              "#fdca26"
             ],
             [
              1,
              "#f0f921"
             ]
            ],
            "type": "histogram2d"
           }
          ],
          "histogram2dcontour": [
           {
            "colorbar": {
             "outlinewidth": 0,
             "ticks": ""
            },
            "colorscale": [
             [
              0,
              "#0d0887"
             ],
             [
              0.1111111111111111,
              "#46039f"
             ],
             [
              0.2222222222222222,
              "#7201a8"
             ],
             [
              0.3333333333333333,
              "#9c179e"
             ],
             [
              0.4444444444444444,
              "#bd3786"
             ],
             [
              0.5555555555555556,
              "#d8576b"
             ],
             [
              0.6666666666666666,
              "#ed7953"
             ],
             [
              0.7777777777777778,
              "#fb9f3a"
             ],
             [
              0.8888888888888888,
              "#fdca26"
             ],
             [
              1,
              "#f0f921"
             ]
            ],
            "type": "histogram2dcontour"
           }
          ],
          "mesh3d": [
           {
            "colorbar": {
             "outlinewidth": 0,
             "ticks": ""
            },
            "type": "mesh3d"
           }
          ],
          "parcoords": [
           {
            "line": {
             "colorbar": {
              "outlinewidth": 0,
              "ticks": ""
             }
            },
            "type": "parcoords"
           }
          ],
          "pie": [
           {
            "automargin": true,
            "type": "pie"
           }
          ],
          "scatter": [
           {
            "fillpattern": {
             "fillmode": "overlay",
             "size": 10,
             "solidity": 0.2
            },
            "type": "scatter"
           }
          ],
          "scatter3d": [
           {
            "line": {
             "colorbar": {
              "outlinewidth": 0,
              "ticks": ""
             }
            },
            "marker": {
             "colorbar": {
              "outlinewidth": 0,
              "ticks": ""
             }
            },
            "type": "scatter3d"
           }
          ],
          "scattercarpet": [
           {
            "marker": {
             "colorbar": {
              "outlinewidth": 0,
              "ticks": ""
             }
            },
            "type": "scattercarpet"
           }
          ],
          "scattergeo": [
           {
            "marker": {
             "colorbar": {
              "outlinewidth": 0,
              "ticks": ""
             }
            },
            "type": "scattergeo"
           }
          ],
          "scattergl": [
           {
            "marker": {
             "colorbar": {
              "outlinewidth": 0,
              "ticks": ""
             }
            },
            "type": "scattergl"
           }
          ],
          "scattermapbox": [
           {
            "marker": {
             "colorbar": {
              "outlinewidth": 0,
              "ticks": ""
             }
            },
            "type": "scattermapbox"
           }
          ],
          "scatterpolar": [
           {
            "marker": {
             "colorbar": {
              "outlinewidth": 0,
              "ticks": ""
             }
            },
            "type": "scatterpolar"
           }
          ],
          "scatterpolargl": [
           {
            "marker": {
             "colorbar": {
              "outlinewidth": 0,
              "ticks": ""
             }
            },
            "type": "scatterpolargl"
           }
          ],
          "scatterternary": [
           {
            "marker": {
             "colorbar": {
              "outlinewidth": 0,
              "ticks": ""
             }
            },
            "type": "scatterternary"
           }
          ],
          "surface": [
           {
            "colorbar": {
             "outlinewidth": 0,
             "ticks": ""
            },
            "colorscale": [
             [
              0,
              "#0d0887"
             ],
             [
              0.1111111111111111,
              "#46039f"
             ],
             [
              0.2222222222222222,
              "#7201a8"
             ],
             [
              0.3333333333333333,
              "#9c179e"
             ],
             [
              0.4444444444444444,
              "#bd3786"
             ],
             [
              0.5555555555555556,
              "#d8576b"
             ],
             [
              0.6666666666666666,
              "#ed7953"
             ],
             [
              0.7777777777777778,
              "#fb9f3a"
             ],
             [
              0.8888888888888888,
              "#fdca26"
             ],
             [
              1,
              "#f0f921"
             ]
            ],
            "type": "surface"
           }
          ],
          "table": [
           {
            "cells": {
             "fill": {
              "color": "#EBF0F8"
             },
             "line": {
              "color": "white"
             }
            },
            "header": {
             "fill": {
              "color": "#C8D4E3"
             },
             "line": {
              "color": "white"
             }
            },
            "type": "table"
           }
          ]
         },
         "layout": {
          "annotationdefaults": {
           "arrowcolor": "#2a3f5f",
           "arrowhead": 0,
           "arrowwidth": 1
          },
          "autotypenumbers": "strict",
          "coloraxis": {
           "colorbar": {
            "outlinewidth": 0,
            "ticks": ""
           }
          },
          "colorscale": {
           "diverging": [
            [
             0,
             "#8e0152"
            ],
            [
             0.1,
             "#c51b7d"
            ],
            [
             0.2,
             "#de77ae"
            ],
            [
             0.3,
             "#f1b6da"
            ],
            [
             0.4,
             "#fde0ef"
            ],
            [
             0.5,
             "#f7f7f7"
            ],
            [
             0.6,
             "#e6f5d0"
            ],
            [
             0.7,
             "#b8e186"
            ],
            [
             0.8,
             "#7fbc41"
            ],
            [
             0.9,
             "#4d9221"
            ],
            [
             1,
             "#276419"
            ]
           ],
           "sequential": [
            [
             0,
             "#0d0887"
            ],
            [
             0.1111111111111111,
             "#46039f"
            ],
            [
             0.2222222222222222,
             "#7201a8"
            ],
            [
             0.3333333333333333,
             "#9c179e"
            ],
            [
             0.4444444444444444,
             "#bd3786"
            ],
            [
             0.5555555555555556,
             "#d8576b"
            ],
            [
             0.6666666666666666,
             "#ed7953"
            ],
            [
             0.7777777777777778,
             "#fb9f3a"
            ],
            [
             0.8888888888888888,
             "#fdca26"
            ],
            [
             1,
             "#f0f921"
            ]
           ],
           "sequentialminus": [
            [
             0,
             "#0d0887"
            ],
            [
             0.1111111111111111,
             "#46039f"
            ],
            [
             0.2222222222222222,
             "#7201a8"
            ],
            [
             0.3333333333333333,
             "#9c179e"
            ],
            [
             0.4444444444444444,
             "#bd3786"
            ],
            [
             0.5555555555555556,
             "#d8576b"
            ],
            [
             0.6666666666666666,
             "#ed7953"
            ],
            [
             0.7777777777777778,
             "#fb9f3a"
            ],
            [
             0.8888888888888888,
             "#fdca26"
            ],
            [
             1,
             "#f0f921"
            ]
           ]
          },
          "colorway": [
           "#636efa",
           "#EF553B",
           "#00cc96",
           "#ab63fa",
           "#FFA15A",
           "#19d3f3",
           "#FF6692",
           "#B6E880",
           "#FF97FF",
           "#FECB52"
          ],
          "font": {
           "color": "#2a3f5f"
          },
          "geo": {
           "bgcolor": "white",
           "lakecolor": "white",
           "landcolor": "#E5ECF6",
           "showlakes": true,
           "showland": true,
           "subunitcolor": "white"
          },
          "hoverlabel": {
           "align": "left"
          },
          "hovermode": "closest",
          "mapbox": {
           "style": "light"
          },
          "paper_bgcolor": "white",
          "plot_bgcolor": "#E5ECF6",
          "polar": {
           "angularaxis": {
            "gridcolor": "white",
            "linecolor": "white",
            "ticks": ""
           },
           "bgcolor": "#E5ECF6",
           "radialaxis": {
            "gridcolor": "white",
            "linecolor": "white",
            "ticks": ""
           }
          },
          "scene": {
           "xaxis": {
            "backgroundcolor": "#E5ECF6",
            "gridcolor": "white",
            "gridwidth": 2,
            "linecolor": "white",
            "showbackground": true,
            "ticks": "",
            "zerolinecolor": "white"
           },
           "yaxis": {
            "backgroundcolor": "#E5ECF6",
            "gridcolor": "white",
            "gridwidth": 2,
            "linecolor": "white",
            "showbackground": true,
            "ticks": "",
            "zerolinecolor": "white"
           },
           "zaxis": {
            "backgroundcolor": "#E5ECF6",
            "gridcolor": "white",
            "gridwidth": 2,
            "linecolor": "white",
            "showbackground": true,
            "ticks": "",
            "zerolinecolor": "white"
           }
          },
          "shapedefaults": {
           "line": {
            "color": "#2a3f5f"
           }
          },
          "ternary": {
           "aaxis": {
            "gridcolor": "white",
            "linecolor": "white",
            "ticks": ""
           },
           "baxis": {
            "gridcolor": "white",
            "linecolor": "white",
            "ticks": ""
           },
           "bgcolor": "#E5ECF6",
           "caxis": {
            "gridcolor": "white",
            "linecolor": "white",
            "ticks": ""
           }
          },
          "title": {
           "x": 0.05
          },
          "xaxis": {
           "automargin": true,
           "gridcolor": "white",
           "linecolor": "white",
           "ticks": "",
           "title": {
            "standoff": 15
           },
           "zerolinecolor": "white",
           "zerolinewidth": 2
          },
          "yaxis": {
           "automargin": true,
           "gridcolor": "white",
           "linecolor": "white",
           "ticks": "",
           "title": {
            "standoff": 15
           },
           "zerolinecolor": "white",
           "zerolinewidth": 2
          }
         }
        },
        "xaxis": {
         "anchor": "y",
         "domain": [
          0,
          1
         ],
         "title": {
          "text": "variable"
         }
        },
        "yaxis": {
         "anchor": "x",
         "domain": [
          0,
          1
         ],
         "title": {
          "text": "value"
         }
        }
       }
      }
     },
     "metadata": {},
     "output_type": "display_data"
    }
   ],
   "source": [
    "px.box(dados[[\"O Régano\", \"Sal Sinha\"]])\n"
   ]
  },
  {
   "cell_type": "markdown",
   "metadata": {},
   "source": [
    "# Extraindo insights"
   ]
  },
  {
   "cell_type": "markdown",
   "metadata": {},
   "source": [
    "## Total de clientes"
   ]
  },
  {
   "cell_type": "code",
   "execution_count": 60,
   "metadata": {},
   "outputs": [
    {
     "data": {
      "text/html": [
       "<div>\n",
       "<style scoped>\n",
       "    .dataframe tbody tr th:only-of-type {\n",
       "        vertical-align: middle;\n",
       "    }\n",
       "\n",
       "    .dataframe tbody tr th {\n",
       "        vertical-align: top;\n",
       "    }\n",
       "\n",
       "    .dataframe thead th {\n",
       "        text-align: right;\n",
       "    }\n",
       "</style>\n",
       "<table border=\"1\" class=\"dataframe\">\n",
       "  <thead>\n",
       "    <tr style=\"text-align: right;\">\n",
       "      <th></th>\n",
       "      <th>Sal Sinha</th>\n",
       "      <th>O Régano</th>\n",
       "      <th>Total</th>\n",
       "    </tr>\n",
       "    <tr>\n",
       "      <th>data</th>\n",
       "      <th></th>\n",
       "      <th></th>\n",
       "      <th></th>\n",
       "    </tr>\n",
       "  </thead>\n",
       "  <tbody>\n",
       "    <tr>\n",
       "      <th>2016-01-01</th>\n",
       "      <td>25</td>\n",
       "      <td>67</td>\n",
       "      <td>92</td>\n",
       "    </tr>\n",
       "    <tr>\n",
       "      <th>2016-01-02</th>\n",
       "      <td>39</td>\n",
       "      <td>43</td>\n",
       "      <td>82</td>\n",
       "    </tr>\n",
       "    <tr>\n",
       "      <th>2016-01-03</th>\n",
       "      <td>31</td>\n",
       "      <td>66</td>\n",
       "      <td>97</td>\n",
       "    </tr>\n",
       "    <tr>\n",
       "      <th>2016-01-04</th>\n",
       "      <td>18</td>\n",
       "      <td>52</td>\n",
       "      <td>70</td>\n",
       "    </tr>\n",
       "    <tr>\n",
       "      <th>2016-01-05</th>\n",
       "      <td>15</td>\n",
       "      <td>38</td>\n",
       "      <td>53</td>\n",
       "    </tr>\n",
       "    <tr>\n",
       "      <th>...</th>\n",
       "      <td>...</td>\n",
       "      <td>...</td>\n",
       "      <td>...</td>\n",
       "    </tr>\n",
       "    <tr>\n",
       "      <th>2017-04-18</th>\n",
       "      <td>30</td>\n",
       "      <td>27</td>\n",
       "      <td>57</td>\n",
       "    </tr>\n",
       "    <tr>\n",
       "      <th>2017-04-19</th>\n",
       "      <td>11</td>\n",
       "      <td>30</td>\n",
       "      <td>41</td>\n",
       "    </tr>\n",
       "    <tr>\n",
       "      <th>2017-04-20</th>\n",
       "      <td>3</td>\n",
       "      <td>19</td>\n",
       "      <td>22</td>\n",
       "    </tr>\n",
       "    <tr>\n",
       "      <th>2017-04-21</th>\n",
       "      <td>53</td>\n",
       "      <td>36</td>\n",
       "      <td>89</td>\n",
       "    </tr>\n",
       "    <tr>\n",
       "      <th>2017-04-22</th>\n",
       "      <td>20</td>\n",
       "      <td>50</td>\n",
       "      <td>70</td>\n",
       "    </tr>\n",
       "  </tbody>\n",
       "</table>\n",
       "<p>478 rows × 3 columns</p>\n",
       "</div>"
      ],
      "text/plain": [
       "            Sal Sinha  O Régano  Total\n",
       "data                                  \n",
       "2016-01-01         25        67     92\n",
       "2016-01-02         39        43     82\n",
       "2016-01-03         31        66     97\n",
       "2016-01-04         18        52     70\n",
       "2016-01-05         15        38     53\n",
       "...               ...       ...    ...\n",
       "2017-04-18         30        27     57\n",
       "2017-04-19         11        30     41\n",
       "2017-04-20          3        19     22\n",
       "2017-04-21         53        36     89\n",
       "2017-04-22         20        50     70\n",
       "\n",
       "[478 rows x 3 columns]"
      ]
     },
     "execution_count": 60,
     "metadata": {},
     "output_type": "execute_result"
    }
   ],
   "source": [
    "dados['Total'] = dados.sum(axis=1)\n",
    "\n",
    "dados"
   ]
  },
  {
   "cell_type": "code",
   "execution_count": 61,
   "metadata": {},
   "outputs": [
    {
     "data": {
      "application/vnd.plotly.v1+json": {
       "config": {
        "plotlyServerURL": "https://plot.ly"
       },
       "data": [
        {
         "alignmentgroup": "True",
         "bingroup": "x",
         "hovertemplate": "variable=Total<br>value=%{x}<br>count=%{y}<extra></extra>",
         "legendgroup": "Total",
         "marker": {
          "color": "#636efa",
          "pattern": {
           "shape": ""
          }
         },
         "name": "Total",
         "offsetgroup": "Total",
         "orientation": "v",
         "showlegend": true,
         "type": "histogram",
         "x": [
          92,
          82,
          97,
          70,
          53,
          33,
          24,
          54,
          91,
          92,
          55,
          31,
          40,
          42,
          42,
          102,
          87,
          38,
          47,
          36,
          41,
          78,
          99,
          96,
          52,
          44,
          62,
          42,
          77,
          95,
          75,
          56,
          25,
          35,
          21,
          80,
          117,
          87,
          26,
          41,
          36,
          64,
          90,
          65,
          79,
          62,
          21,
          43,
          52,
          82,
          110,
          41,
          25,
          32,
          33,
          44,
          77,
          101,
          83,
          38,
          53,
          34,
          43,
          55,
          97,
          97,
          37,
          36,
          26,
          48,
          64,
          104,
          109,
          16,
          33,
          40,
          87,
          104,
          84,
          88,
          73,
          32,
          29,
          31,
          155,
          105,
          108,
          79,
          37,
          37,
          37,
          70,
          77,
          72,
          48,
          66,
          34,
          33,
          71,
          67,
          80,
          20,
          21,
          29,
          12,
          90,
          64,
          56,
          24,
          30,
          45,
          58,
          67,
          87,
          60,
          15,
          63,
          34,
          91,
          72,
          124,
          70,
          39,
          59,
          41,
          69,
          33,
          47,
          77,
          14,
          27,
          48,
          36,
          68,
          101,
          84,
          21,
          31,
          10,
          22,
          78,
          105,
          87,
          24,
          14,
          72,
          44,
          70,
          111,
          70,
          65,
          31,
          21,
          38,
          57,
          75,
          60,
          23,
          46,
          38,
          63,
          80,
          72,
          80,
          19,
          28,
          20,
          23,
          60,
          96,
          68,
          43,
          28,
          19,
          49,
          81,
          114,
          81,
          35,
          31,
          71,
          26,
          63,
          112,
          87,
          71,
          37,
          29,
          50,
          63,
          106,
          84,
          44,
          27,
          34,
          23,
          56,
          76,
          84,
          51,
          33,
          33,
          17,
          118,
          105,
          93,
          24,
          46,
          27,
          27,
          67,
          118,
          74,
          27,
          23,
          42,
          36,
          36,
          79,
          70,
          40,
          40,
          37,
          46,
          75,
          98,
          58,
          70,
          43,
          35,
          22,
          56,
          91,
          75,
          28,
          45,
          18,
          30,
          79,
          92,
          86,
          48,
          23,
          54,
          28,
          31,
          103,
          47,
          52,
          24,
          47,
          17,
          52,
          84,
          87,
          16,
          20,
          26,
          28,
          66,
          137,
          102,
          63,
          28,
          70,
          62,
          57,
          100,
          70,
          36,
          51,
          63,
          27,
          54,
          83,
          83,
          25,
          31,
          24,
          42,
          73,
          100,
          53,
          72,
          59,
          28,
          39,
          74,
          101,
          56,
          26,
          49,
          57,
          40,
          59,
          99,
          56,
          29,
          54,
          44,
          38,
          76,
          102,
          92,
          60,
          54,
          64,
          77,
          45,
          104,
          66,
          26,
          33,
          51,
          44,
          82,
          101,
          70,
          41,
          34,
          48,
          34,
          74,
          100,
          52,
          34,
          74,
          62,
          41,
          61,
          108,
          56,
          31,
          35,
          68,
          39,
          61,
          112,
          84,
          30,
          45,
          46,
          36,
          70,
          132,
          57,
          31,
          57,
          84,
          76,
          80,
          117,
          69,
          31,
          56,
          68,
          99,
          115,
          108,
          111,
          38,
          75,
          89,
          46,
          73,
          111,
          90,
          48,
          50,
          47,
          50,
          54,
          97,
          60,
          21,
          43,
          29,
          43,
          63,
          103,
          86,
          55,
          46,
          51,
          38,
          64,
          82,
          64,
          28,
          48,
          60,
          31,
          69,
          122,
          80,
          39,
          55,
          43,
          29,
          70,
          105,
          57,
          22,
          29,
          36,
          58,
          67,
          85,
          66,
          34,
          92,
          41,
          53,
          75,
          95,
          61,
          66,
          25,
          41,
          57,
          79,
          124,
          88,
          25,
          78,
          34,
          37,
          55,
          115,
          74,
          30,
          28,
          54,
          35,
          85,
          109,
          71,
          42,
          36,
          39,
          32,
          82,
          64,
          93,
          41,
          33,
          53,
          42,
          91,
          105,
          75,
          65,
          45,
          62,
          35,
          80,
          67,
          76,
          31,
          30,
          35,
          30,
          82,
          71,
          64,
          26,
          39,
          17,
          24,
          131,
          90,
          95,
          45,
          57,
          41,
          22,
          89,
          70
         ],
         "xaxis": "x",
         "yaxis": "y"
        }
       ],
       "layout": {
        "barmode": "relative",
        "legend": {
         "title": {
          "text": "variable"
         },
         "tracegroupgap": 0
        },
        "margin": {
         "t": 60
        },
        "template": {
         "data": {
          "bar": [
           {
            "error_x": {
             "color": "#2a3f5f"
            },
            "error_y": {
             "color": "#2a3f5f"
            },
            "marker": {
             "line": {
              "color": "#E5ECF6",
              "width": 0.5
             },
             "pattern": {
              "fillmode": "overlay",
              "size": 10,
              "solidity": 0.2
             }
            },
            "type": "bar"
           }
          ],
          "barpolar": [
           {
            "marker": {
             "line": {
              "color": "#E5ECF6",
              "width": 0.5
             },
             "pattern": {
              "fillmode": "overlay",
              "size": 10,
              "solidity": 0.2
             }
            },
            "type": "barpolar"
           }
          ],
          "carpet": [
           {
            "aaxis": {
             "endlinecolor": "#2a3f5f",
             "gridcolor": "white",
             "linecolor": "white",
             "minorgridcolor": "white",
             "startlinecolor": "#2a3f5f"
            },
            "baxis": {
             "endlinecolor": "#2a3f5f",
             "gridcolor": "white",
             "linecolor": "white",
             "minorgridcolor": "white",
             "startlinecolor": "#2a3f5f"
            },
            "type": "carpet"
           }
          ],
          "choropleth": [
           {
            "colorbar": {
             "outlinewidth": 0,
             "ticks": ""
            },
            "type": "choropleth"
           }
          ],
          "contour": [
           {
            "colorbar": {
             "outlinewidth": 0,
             "ticks": ""
            },
            "colorscale": [
             [
              0,
              "#0d0887"
             ],
             [
              0.1111111111111111,
              "#46039f"
             ],
             [
              0.2222222222222222,
              "#7201a8"
             ],
             [
              0.3333333333333333,
              "#9c179e"
             ],
             [
              0.4444444444444444,
              "#bd3786"
             ],
             [
              0.5555555555555556,
              "#d8576b"
             ],
             [
              0.6666666666666666,
              "#ed7953"
             ],
             [
              0.7777777777777778,
              "#fb9f3a"
             ],
             [
              0.8888888888888888,
              "#fdca26"
             ],
             [
              1,
              "#f0f921"
             ]
            ],
            "type": "contour"
           }
          ],
          "contourcarpet": [
           {
            "colorbar": {
             "outlinewidth": 0,
             "ticks": ""
            },
            "type": "contourcarpet"
           }
          ],
          "heatmap": [
           {
            "colorbar": {
             "outlinewidth": 0,
             "ticks": ""
            },
            "colorscale": [
             [
              0,
              "#0d0887"
             ],
             [
              0.1111111111111111,
              "#46039f"
             ],
             [
              0.2222222222222222,
              "#7201a8"
             ],
             [
              0.3333333333333333,
              "#9c179e"
             ],
             [
              0.4444444444444444,
              "#bd3786"
             ],
             [
              0.5555555555555556,
              "#d8576b"
             ],
             [
              0.6666666666666666,
              "#ed7953"
             ],
             [
              0.7777777777777778,
              "#fb9f3a"
             ],
             [
              0.8888888888888888,
              "#fdca26"
             ],
             [
              1,
              "#f0f921"
             ]
            ],
            "type": "heatmap"
           }
          ],
          "heatmapgl": [
           {
            "colorbar": {
             "outlinewidth": 0,
             "ticks": ""
            },
            "colorscale": [
             [
              0,
              "#0d0887"
             ],
             [
              0.1111111111111111,
              "#46039f"
             ],
             [
              0.2222222222222222,
              "#7201a8"
             ],
             [
              0.3333333333333333,
              "#9c179e"
             ],
             [
              0.4444444444444444,
              "#bd3786"
             ],
             [
              0.5555555555555556,
              "#d8576b"
             ],
             [
              0.6666666666666666,
              "#ed7953"
             ],
             [
              0.7777777777777778,
              "#fb9f3a"
             ],
             [
              0.8888888888888888,
              "#fdca26"
             ],
             [
              1,
              "#f0f921"
             ]
            ],
            "type": "heatmapgl"
           }
          ],
          "histogram": [
           {
            "marker": {
             "pattern": {
              "fillmode": "overlay",
              "size": 10,
              "solidity": 0.2
             }
            },
            "type": "histogram"
           }
          ],
          "histogram2d": [
           {
            "colorbar": {
             "outlinewidth": 0,
             "ticks": ""
            },
            "colorscale": [
             [
              0,
              "#0d0887"
             ],
             [
              0.1111111111111111,
              "#46039f"
             ],
             [
              0.2222222222222222,
              "#7201a8"
             ],
             [
              0.3333333333333333,
              "#9c179e"
             ],
             [
              0.4444444444444444,
              "#bd3786"
             ],
             [
              0.5555555555555556,
              "#d8576b"
             ],
             [
              0.6666666666666666,
              "#ed7953"
             ],
             [
              0.7777777777777778,
              "#fb9f3a"
             ],
             [
              0.8888888888888888,
              "#fdca26"
             ],
             [
              1,
              "#f0f921"
             ]
            ],
            "type": "histogram2d"
           }
          ],
          "histogram2dcontour": [
           {
            "colorbar": {
             "outlinewidth": 0,
             "ticks": ""
            },
            "colorscale": [
             [
              0,
              "#0d0887"
             ],
             [
              0.1111111111111111,
              "#46039f"
             ],
             [
              0.2222222222222222,
              "#7201a8"
             ],
             [
              0.3333333333333333,
              "#9c179e"
             ],
             [
              0.4444444444444444,
              "#bd3786"
             ],
             [
              0.5555555555555556,
              "#d8576b"
             ],
             [
              0.6666666666666666,
              "#ed7953"
             ],
             [
              0.7777777777777778,
              "#fb9f3a"
             ],
             [
              0.8888888888888888,
              "#fdca26"
             ],
             [
              1,
              "#f0f921"
             ]
            ],
            "type": "histogram2dcontour"
           }
          ],
          "mesh3d": [
           {
            "colorbar": {
             "outlinewidth": 0,
             "ticks": ""
            },
            "type": "mesh3d"
           }
          ],
          "parcoords": [
           {
            "line": {
             "colorbar": {
              "outlinewidth": 0,
              "ticks": ""
             }
            },
            "type": "parcoords"
           }
          ],
          "pie": [
           {
            "automargin": true,
            "type": "pie"
           }
          ],
          "scatter": [
           {
            "fillpattern": {
             "fillmode": "overlay",
             "size": 10,
             "solidity": 0.2
            },
            "type": "scatter"
           }
          ],
          "scatter3d": [
           {
            "line": {
             "colorbar": {
              "outlinewidth": 0,
              "ticks": ""
             }
            },
            "marker": {
             "colorbar": {
              "outlinewidth": 0,
              "ticks": ""
             }
            },
            "type": "scatter3d"
           }
          ],
          "scattercarpet": [
           {
            "marker": {
             "colorbar": {
              "outlinewidth": 0,
              "ticks": ""
             }
            },
            "type": "scattercarpet"
           }
          ],
          "scattergeo": [
           {
            "marker": {
             "colorbar": {
              "outlinewidth": 0,
              "ticks": ""
             }
            },
            "type": "scattergeo"
           }
          ],
          "scattergl": [
           {
            "marker": {
             "colorbar": {
              "outlinewidth": 0,
              "ticks": ""
             }
            },
            "type": "scattergl"
           }
          ],
          "scattermapbox": [
           {
            "marker": {
             "colorbar": {
              "outlinewidth": 0,
              "ticks": ""
             }
            },
            "type": "scattermapbox"
           }
          ],
          "scatterpolar": [
           {
            "marker": {
             "colorbar": {
              "outlinewidth": 0,
              "ticks": ""
             }
            },
            "type": "scatterpolar"
           }
          ],
          "scatterpolargl": [
           {
            "marker": {
             "colorbar": {
              "outlinewidth": 0,
              "ticks": ""
             }
            },
            "type": "scatterpolargl"
           }
          ],
          "scatterternary": [
           {
            "marker": {
             "colorbar": {
              "outlinewidth": 0,
              "ticks": ""
             }
            },
            "type": "scatterternary"
           }
          ],
          "surface": [
           {
            "colorbar": {
             "outlinewidth": 0,
             "ticks": ""
            },
            "colorscale": [
             [
              0,
              "#0d0887"
             ],
             [
              0.1111111111111111,
              "#46039f"
             ],
             [
              0.2222222222222222,
              "#7201a8"
             ],
             [
              0.3333333333333333,
              "#9c179e"
             ],
             [
              0.4444444444444444,
              "#bd3786"
             ],
             [
              0.5555555555555556,
              "#d8576b"
             ],
             [
              0.6666666666666666,
              "#ed7953"
             ],
             [
              0.7777777777777778,
              "#fb9f3a"
             ],
             [
              0.8888888888888888,
              "#fdca26"
             ],
             [
              1,
              "#f0f921"
             ]
            ],
            "type": "surface"
           }
          ],
          "table": [
           {
            "cells": {
             "fill": {
              "color": "#EBF0F8"
             },
             "line": {
              "color": "white"
             }
            },
            "header": {
             "fill": {
              "color": "#C8D4E3"
             },
             "line": {
              "color": "white"
             }
            },
            "type": "table"
           }
          ]
         },
         "layout": {
          "annotationdefaults": {
           "arrowcolor": "#2a3f5f",
           "arrowhead": 0,
           "arrowwidth": 1
          },
          "autotypenumbers": "strict",
          "coloraxis": {
           "colorbar": {
            "outlinewidth": 0,
            "ticks": ""
           }
          },
          "colorscale": {
           "diverging": [
            [
             0,
             "#8e0152"
            ],
            [
             0.1,
             "#c51b7d"
            ],
            [
             0.2,
             "#de77ae"
            ],
            [
             0.3,
             "#f1b6da"
            ],
            [
             0.4,
             "#fde0ef"
            ],
            [
             0.5,
             "#f7f7f7"
            ],
            [
             0.6,
             "#e6f5d0"
            ],
            [
             0.7,
             "#b8e186"
            ],
            [
             0.8,
             "#7fbc41"
            ],
            [
             0.9,
             "#4d9221"
            ],
            [
             1,
             "#276419"
            ]
           ],
           "sequential": [
            [
             0,
             "#0d0887"
            ],
            [
             0.1111111111111111,
             "#46039f"
            ],
            [
             0.2222222222222222,
             "#7201a8"
            ],
            [
             0.3333333333333333,
             "#9c179e"
            ],
            [
             0.4444444444444444,
             "#bd3786"
            ],
            [
             0.5555555555555556,
             "#d8576b"
            ],
            [
             0.6666666666666666,
             "#ed7953"
            ],
            [
             0.7777777777777778,
             "#fb9f3a"
            ],
            [
             0.8888888888888888,
             "#fdca26"
            ],
            [
             1,
             "#f0f921"
            ]
           ],
           "sequentialminus": [
            [
             0,
             "#0d0887"
            ],
            [
             0.1111111111111111,
             "#46039f"
            ],
            [
             0.2222222222222222,
             "#7201a8"
            ],
            [
             0.3333333333333333,
             "#9c179e"
            ],
            [
             0.4444444444444444,
             "#bd3786"
            ],
            [
             0.5555555555555556,
             "#d8576b"
            ],
            [
             0.6666666666666666,
             "#ed7953"
            ],
            [
             0.7777777777777778,
             "#fb9f3a"
            ],
            [
             0.8888888888888888,
             "#fdca26"
            ],
            [
             1,
             "#f0f921"
            ]
           ]
          },
          "colorway": [
           "#636efa",
           "#EF553B",
           "#00cc96",
           "#ab63fa",
           "#FFA15A",
           "#19d3f3",
           "#FF6692",
           "#B6E880",
           "#FF97FF",
           "#FECB52"
          ],
          "font": {
           "color": "#2a3f5f"
          },
          "geo": {
           "bgcolor": "white",
           "lakecolor": "white",
           "landcolor": "#E5ECF6",
           "showlakes": true,
           "showland": true,
           "subunitcolor": "white"
          },
          "hoverlabel": {
           "align": "left"
          },
          "hovermode": "closest",
          "mapbox": {
           "style": "light"
          },
          "paper_bgcolor": "white",
          "plot_bgcolor": "#E5ECF6",
          "polar": {
           "angularaxis": {
            "gridcolor": "white",
            "linecolor": "white",
            "ticks": ""
           },
           "bgcolor": "#E5ECF6",
           "radialaxis": {
            "gridcolor": "white",
            "linecolor": "white",
            "ticks": ""
           }
          },
          "scene": {
           "xaxis": {
            "backgroundcolor": "#E5ECF6",
            "gridcolor": "white",
            "gridwidth": 2,
            "linecolor": "white",
            "showbackground": true,
            "ticks": "",
            "zerolinecolor": "white"
           },
           "yaxis": {
            "backgroundcolor": "#E5ECF6",
            "gridcolor": "white",
            "gridwidth": 2,
            "linecolor": "white",
            "showbackground": true,
            "ticks": "",
            "zerolinecolor": "white"
           },
           "zaxis": {
            "backgroundcolor": "#E5ECF6",
            "gridcolor": "white",
            "gridwidth": 2,
            "linecolor": "white",
            "showbackground": true,
            "ticks": "",
            "zerolinecolor": "white"
           }
          },
          "shapedefaults": {
           "line": {
            "color": "#2a3f5f"
           }
          },
          "ternary": {
           "aaxis": {
            "gridcolor": "white",
            "linecolor": "white",
            "ticks": ""
           },
           "baxis": {
            "gridcolor": "white",
            "linecolor": "white",
            "ticks": ""
           },
           "bgcolor": "#E5ECF6",
           "caxis": {
            "gridcolor": "white",
            "linecolor": "white",
            "ticks": ""
           }
          },
          "title": {
           "x": 0.05
          },
          "xaxis": {
           "automargin": true,
           "gridcolor": "white",
           "linecolor": "white",
           "ticks": "",
           "title": {
            "standoff": 15
           },
           "zerolinecolor": "white",
           "zerolinewidth": 2
          },
          "yaxis": {
           "automargin": true,
           "gridcolor": "white",
           "linecolor": "white",
           "ticks": "",
           "title": {
            "standoff": 15
           },
           "zerolinecolor": "white",
           "zerolinewidth": 2
          }
         }
        },
        "xaxis": {
         "anchor": "y",
         "domain": [
          0,
          1
         ],
         "title": {
          "text": "value"
         }
        },
        "yaxis": {
         "anchor": "x",
         "domain": [
          0,
          1
         ],
         "title": {
          "text": "count"
         }
        }
       }
      }
     },
     "metadata": {},
     "output_type": "display_data"
    }
   ],
   "source": [
    "px.histogram(dados['Total'])"
   ]
  }
 ],
 "metadata": {
  "kernelspec": {
   "display_name": "base",
   "language": "python",
   "name": "python3"
  },
  "language_info": {
   "codemirror_mode": {
    "name": "ipython",
    "version": 3
   },
   "file_extension": ".py",
   "mimetype": "text/x-python",
   "name": "python",
   "nbconvert_exporter": "python",
   "pygments_lexer": "ipython3",
   "version": "3.11.7"
  }
 },
 "nbformat": 4,
 "nbformat_minor": 2
}
