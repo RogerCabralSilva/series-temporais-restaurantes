{
 "cells": [
  {
   "cell_type": "markdown",
   "metadata": {},
   "source": [
    "# Bibliotecas"
   ]
  },
  {
   "cell_type": "code",
   "execution_count": 97,
   "metadata": {},
   "outputs": [],
   "source": [
    "import pandas as pd\n",
    "import numpy as np\n",
    "import plotly.express as px"
   ]
  },
  {
   "cell_type": "markdown",
   "metadata": {},
   "source": [
    "# Dados"
   ]
  },
  {
   "cell_type": "code",
   "execution_count": 98,
   "metadata": {},
   "outputs": [],
   "source": [
    "dados = pd.read_csv(\"clientes_restaurantes.csv\")"
   ]
  },
  {
   "cell_type": "code",
   "execution_count": 99,
   "metadata": {},
   "outputs": [
    {
     "data": {
      "text/html": [
       "<div>\n",
       "<style scoped>\n",
       "    .dataframe tbody tr th:only-of-type {\n",
       "        vertical-align: middle;\n",
       "    }\n",
       "\n",
       "    .dataframe tbody tr th {\n",
       "        vertical-align: top;\n",
       "    }\n",
       "\n",
       "    .dataframe thead th {\n",
       "        text-align: right;\n",
       "    }\n",
       "</style>\n",
       "<table border=\"1\" class=\"dataframe\">\n",
       "  <thead>\n",
       "    <tr style=\"text-align: right;\">\n",
       "      <th></th>\n",
       "      <th>data</th>\n",
       "      <th>Chimi &amp; Churri</th>\n",
       "      <th>Assa Frão</th>\n",
       "    </tr>\n",
       "  </thead>\n",
       "  <tbody>\n",
       "    <tr>\n",
       "      <th>0</th>\n",
       "      <td>1/1/2016</td>\n",
       "      <td>65.0</td>\n",
       "      <td>139.0</td>\n",
       "    </tr>\n",
       "    <tr>\n",
       "      <th>1</th>\n",
       "      <td>1/2/2016</td>\n",
       "      <td>24.0</td>\n",
       "      <td>85.0</td>\n",
       "    </tr>\n",
       "  </tbody>\n",
       "</table>\n",
       "</div>"
      ],
      "text/plain": [
       "       data  Chimi & Churri  Assa Frão\n",
       "0  1/1/2016            65.0      139.0\n",
       "1  1/2/2016            24.0       85.0"
      ]
     },
     "execution_count": 99,
     "metadata": {},
     "output_type": "execute_result"
    }
   ],
   "source": [
    "dados.head(2)"
   ]
  },
  {
   "cell_type": "code",
   "execution_count": 100,
   "metadata": {},
   "outputs": [
    {
     "name": "stdout",
     "output_type": "stream",
     "text": [
      "<class 'pandas.core.frame.DataFrame'>\n",
      "RangeIndex: 478 entries, 0 to 477\n",
      "Data columns (total 3 columns):\n",
      " #   Column          Non-Null Count  Dtype  \n",
      "---  ------          --------------  -----  \n",
      " 0   data            478 non-null    object \n",
      " 1   Chimi & Churri  476 non-null    float64\n",
      " 2   Assa Frão       477 non-null    float64\n",
      "dtypes: float64(2), object(1)\n",
      "memory usage: 11.3+ KB\n"
     ]
    }
   ],
   "source": [
    "dados.info()"
   ]
  },
  {
   "cell_type": "code",
   "execution_count": 101,
   "metadata": {},
   "outputs": [],
   "source": [
    "dados['data'] = pd.to_datetime(dados['data'])\n",
    "\n",
    "dados.set_index('data', inplace=True)"
   ]
  },
  {
   "cell_type": "code",
   "execution_count": 102,
   "metadata": {},
   "outputs": [
    {
     "data": {
      "text/html": [
       "<div>\n",
       "<style scoped>\n",
       "    .dataframe tbody tr th:only-of-type {\n",
       "        vertical-align: middle;\n",
       "    }\n",
       "\n",
       "    .dataframe tbody tr th {\n",
       "        vertical-align: top;\n",
       "    }\n",
       "\n",
       "    .dataframe thead th {\n",
       "        text-align: right;\n",
       "    }\n",
       "</style>\n",
       "<table border=\"1\" class=\"dataframe\">\n",
       "  <thead>\n",
       "    <tr style=\"text-align: right;\">\n",
       "      <th></th>\n",
       "      <th>Chimi &amp; Churri</th>\n",
       "      <th>Assa Frão</th>\n",
       "    </tr>\n",
       "    <tr>\n",
       "      <th>data</th>\n",
       "      <th></th>\n",
       "      <th></th>\n",
       "    </tr>\n",
       "  </thead>\n",
       "  <tbody>\n",
       "    <tr>\n",
       "      <th>2016-01-01</th>\n",
       "      <td>65.0</td>\n",
       "      <td>139.0</td>\n",
       "    </tr>\n",
       "    <tr>\n",
       "      <th>2016-01-02</th>\n",
       "      <td>24.0</td>\n",
       "      <td>85.0</td>\n",
       "    </tr>\n",
       "    <tr>\n",
       "      <th>2016-01-03</th>\n",
       "      <td>24.0</td>\n",
       "      <td>81.0</td>\n",
       "    </tr>\n",
       "    <tr>\n",
       "      <th>2016-01-04</th>\n",
       "      <td>23.0</td>\n",
       "      <td>32.0</td>\n",
       "    </tr>\n",
       "    <tr>\n",
       "      <th>2016-01-05</th>\n",
       "      <td>2.0</td>\n",
       "      <td>43.0</td>\n",
       "    </tr>\n",
       "    <tr>\n",
       "      <th>...</th>\n",
       "      <td>...</td>\n",
       "      <td>...</td>\n",
       "    </tr>\n",
       "    <tr>\n",
       "      <th>2017-04-18</th>\n",
       "      <td>30.0</td>\n",
       "      <td>18.0</td>\n",
       "    </tr>\n",
       "    <tr>\n",
       "      <th>2017-04-19</th>\n",
       "      <td>20.0</td>\n",
       "      <td>18.0</td>\n",
       "    </tr>\n",
       "    <tr>\n",
       "      <th>2017-04-20</th>\n",
       "      <td>22.0</td>\n",
       "      <td>46.0</td>\n",
       "    </tr>\n",
       "    <tr>\n",
       "      <th>2017-04-21</th>\n",
       "      <td>38.0</td>\n",
       "      <td>38.0</td>\n",
       "    </tr>\n",
       "    <tr>\n",
       "      <th>2017-04-22</th>\n",
       "      <td>97.0</td>\n",
       "      <td>59.0</td>\n",
       "    </tr>\n",
       "  </tbody>\n",
       "</table>\n",
       "<p>478 rows × 2 columns</p>\n",
       "</div>"
      ],
      "text/plain": [
       "            Chimi & Churri  Assa Frão\n",
       "data                                 \n",
       "2016-01-01            65.0      139.0\n",
       "2016-01-02            24.0       85.0\n",
       "2016-01-03            24.0       81.0\n",
       "2016-01-04            23.0       32.0\n",
       "2016-01-05             2.0       43.0\n",
       "...                    ...        ...\n",
       "2017-04-18            30.0       18.0\n",
       "2017-04-19            20.0       18.0\n",
       "2017-04-20            22.0       46.0\n",
       "2017-04-21            38.0       38.0\n",
       "2017-04-22            97.0       59.0\n",
       "\n",
       "[478 rows x 2 columns]"
      ]
     },
     "execution_count": 102,
     "metadata": {},
     "output_type": "execute_result"
    }
   ],
   "source": [
    "dados"
   ]
  },
  {
   "cell_type": "markdown",
   "metadata": {},
   "source": [
    "# Tratando os dados nulos"
   ]
  },
  {
   "cell_type": "code",
   "execution_count": 103,
   "metadata": {},
   "outputs": [],
   "source": [
    "dados = dados.interpolate()"
   ]
  },
  {
   "cell_type": "markdown",
   "metadata": {},
   "source": [
    "32 + 2 / 2 = 17"
   ]
  },
  {
   "cell_type": "code",
   "execution_count": 104,
   "metadata": {},
   "outputs": [
    {
     "data": {
      "text/html": [
       "<div>\n",
       "<style scoped>\n",
       "    .dataframe tbody tr th:only-of-type {\n",
       "        vertical-align: middle;\n",
       "    }\n",
       "\n",
       "    .dataframe tbody tr th {\n",
       "        vertical-align: top;\n",
       "    }\n",
       "\n",
       "    .dataframe thead th {\n",
       "        text-align: right;\n",
       "    }\n",
       "</style>\n",
       "<table border=\"1\" class=\"dataframe\">\n",
       "  <thead>\n",
       "    <tr style=\"text-align: right;\">\n",
       "      <th></th>\n",
       "      <th>Chimi &amp; Churri</th>\n",
       "      <th>Assa Frão</th>\n",
       "    </tr>\n",
       "    <tr>\n",
       "      <th>data</th>\n",
       "      <th></th>\n",
       "      <th></th>\n",
       "    </tr>\n",
       "  </thead>\n",
       "  <tbody>\n",
       "    <tr>\n",
       "      <th>2016-04-04</th>\n",
       "      <td>32.0</td>\n",
       "      <td>12.0</td>\n",
       "    </tr>\n",
       "    <tr>\n",
       "      <th>2016-04-05</th>\n",
       "      <td>17.0</td>\n",
       "      <td>34.0</td>\n",
       "    </tr>\n",
       "    <tr>\n",
       "      <th>2016-04-06</th>\n",
       "      <td>2.0</td>\n",
       "      <td>40.0</td>\n",
       "    </tr>\n",
       "  </tbody>\n",
       "</table>\n",
       "</div>"
      ],
      "text/plain": [
       "            Chimi & Churri  Assa Frão\n",
       "data                                 \n",
       "2016-04-04            32.0       12.0\n",
       "2016-04-05            17.0       34.0\n",
       "2016-04-06             2.0       40.0"
      ]
     },
     "execution_count": 104,
     "metadata": {},
     "output_type": "execute_result"
    }
   ],
   "source": [
    "dados.loc['2016-04-04' : '2016-04-06']"
   ]
  },
  {
   "cell_type": "markdown",
   "metadata": {},
   "source": [
    "Não existe 27.2 cliente então vamos deixar tudo arredondado com o INT"
   ]
  },
  {
   "cell_type": "code",
   "execution_count": 105,
   "metadata": {},
   "outputs": [
    {
     "data": {
      "text/html": [
       "<div>\n",
       "<style scoped>\n",
       "    .dataframe tbody tr th:only-of-type {\n",
       "        vertical-align: middle;\n",
       "    }\n",
       "\n",
       "    .dataframe tbody tr th {\n",
       "        vertical-align: top;\n",
       "    }\n",
       "\n",
       "    .dataframe thead th {\n",
       "        text-align: right;\n",
       "    }\n",
       "</style>\n",
       "<table border=\"1\" class=\"dataframe\">\n",
       "  <thead>\n",
       "    <tr style=\"text-align: right;\">\n",
       "      <th></th>\n",
       "      <th>Chimi &amp; Churri</th>\n",
       "      <th>Assa Frão</th>\n",
       "    </tr>\n",
       "    <tr>\n",
       "      <th>data</th>\n",
       "      <th></th>\n",
       "      <th></th>\n",
       "    </tr>\n",
       "  </thead>\n",
       "  <tbody>\n",
       "    <tr>\n",
       "      <th>2016-01-01</th>\n",
       "      <td>65</td>\n",
       "      <td>139</td>\n",
       "    </tr>\n",
       "    <tr>\n",
       "      <th>2016-01-02</th>\n",
       "      <td>24</td>\n",
       "      <td>85</td>\n",
       "    </tr>\n",
       "    <tr>\n",
       "      <th>2016-01-03</th>\n",
       "      <td>24</td>\n",
       "      <td>81</td>\n",
       "    </tr>\n",
       "    <tr>\n",
       "      <th>2016-01-04</th>\n",
       "      <td>23</td>\n",
       "      <td>32</td>\n",
       "    </tr>\n",
       "    <tr>\n",
       "      <th>2016-01-05</th>\n",
       "      <td>2</td>\n",
       "      <td>43</td>\n",
       "    </tr>\n",
       "    <tr>\n",
       "      <th>...</th>\n",
       "      <td>...</td>\n",
       "      <td>...</td>\n",
       "    </tr>\n",
       "    <tr>\n",
       "      <th>2017-04-18</th>\n",
       "      <td>30</td>\n",
       "      <td>18</td>\n",
       "    </tr>\n",
       "    <tr>\n",
       "      <th>2017-04-19</th>\n",
       "      <td>20</td>\n",
       "      <td>18</td>\n",
       "    </tr>\n",
       "    <tr>\n",
       "      <th>2017-04-20</th>\n",
       "      <td>22</td>\n",
       "      <td>46</td>\n",
       "    </tr>\n",
       "    <tr>\n",
       "      <th>2017-04-21</th>\n",
       "      <td>38</td>\n",
       "      <td>38</td>\n",
       "    </tr>\n",
       "    <tr>\n",
       "      <th>2017-04-22</th>\n",
       "      <td>97</td>\n",
       "      <td>59</td>\n",
       "    </tr>\n",
       "  </tbody>\n",
       "</table>\n",
       "<p>478 rows × 2 columns</p>\n",
       "</div>"
      ],
      "text/plain": [
       "            Chimi & Churri  Assa Frão\n",
       "data                                 \n",
       "2016-01-01              65        139\n",
       "2016-01-02              24         85\n",
       "2016-01-03              24         81\n",
       "2016-01-04              23         32\n",
       "2016-01-05               2         43\n",
       "...                    ...        ...\n",
       "2017-04-18              30         18\n",
       "2017-04-19              20         18\n",
       "2017-04-20              22         46\n",
       "2017-04-21              38         38\n",
       "2017-04-22              97         59\n",
       "\n",
       "[478 rows x 2 columns]"
      ]
     },
     "execution_count": 105,
     "metadata": {},
     "output_type": "execute_result"
    }
   ],
   "source": [
    "dados = dados.astype(int)\n",
    "dados"
   ]
  },
  {
   "cell_type": "markdown",
   "metadata": {},
   "source": [
    "# Explorando os dados"
   ]
  },
  {
   "cell_type": "markdown",
   "metadata": {},
   "source": [
    "## Gráfico Histograma"
   ]
  },
  {
   "cell_type": "code",
   "execution_count": 106,
   "metadata": {},
   "outputs": [
    {
     "data": {
      "application/vnd.plotly.v1+json": {
       "config": {
        "plotlyServerURL": "https://plot.ly"
       },
       "data": [
        {
         "alignmentgroup": "True",
         "bingroup": "x",
         "hovertemplate": "variable=Chimi & Churri<br>Cliente=%{x}<br>count=%{y}<extra></extra>",
         "legendgroup": "Chimi & Churri",
         "marker": {
          "color": "#636efa",
          "pattern": {
           "shape": ""
          }
         },
         "name": "Chimi & Churri",
         "offsetgroup": "Chimi & Churri",
         "orientation": "v",
         "showlegend": true,
         "texttemplate": "%{value}",
         "type": "histogram",
         "x": [
          65,
          24,
          24,
          23,
          2,
          9,
          15,
          79,
          44,
          26,
          9,
          6,
          1,
          7,
          32,
          49,
          60,
          10,
          12,
          24,
          37,
          39,
          42,
          59,
          34,
          9,
          5,
          16,
          57,
          46,
          55,
          25,
          43,
          16,
          30,
          56,
          88,
          65,
          18,
          28,
          24,
          34,
          32,
          75,
          30,
          7,
          33,
          25,
          22,
          33,
          50,
          21,
          25,
          32,
          13,
          37,
          52,
          84,
          58,
          53,
          7,
          13,
          17,
          56,
          66,
          45,
          22,
          64,
          4,
          16,
          43,
          76,
          53,
          18,
          22,
          16,
          67,
          63,
          73,
          50,
          21,
          22,
          12,
          23,
          75,
          78,
          25,
          35,
          58,
          23,
          14,
          36,
          55,
          30,
          32,
          17,
          2,
          23,
          47,
          64,
          53,
          15,
          30,
          11,
          7,
          56,
          80,
          38,
          3,
          11,
          20,
          35,
          28,
          96,
          50,
          34,
          33,
          16,
          25,
          109,
          33,
          49,
          4,
          22,
          38,
          19,
          37,
          40,
          48,
          12,
          11,
          6,
          6,
          26,
          71,
          40,
          17,
          9,
          44,
          32,
          44,
          55,
          20,
          20,
          18,
          24,
          30,
          29,
          77,
          33,
          48,
          28,
          23,
          10,
          24,
          49,
          41,
          19,
          26,
          38,
          21,
          39,
          61,
          58,
          16,
          41,
          38,
          35,
          70,
          76,
          88,
          33,
          53,
          25,
          44,
          62,
          74,
          66,
          26,
          39,
          30,
          37,
          38,
          62,
          52,
          22,
          37,
          40,
          30,
          35,
          88,
          88,
          17,
          38,
          21,
          39,
          47,
          88,
          32,
          48,
          23,
          30,
          22,
          58,
          50,
          27,
          35,
          26,
          23,
          35,
          51,
          67,
          30,
          9,
          27,
          47,
          26,
          45,
          46,
          49,
          26,
          17,
          23,
          33,
          36,
          44,
          32,
          46,
          22,
          18,
          23,
          23,
          55,
          20,
          25,
          24,
          23,
          28,
          30,
          55,
          35,
          19,
          25,
          41,
          10,
          32,
          89,
          19,
          61,
          22,
          38,
          22,
          39,
          68,
          40,
          10,
          25,
          20,
          26,
          23,
          37,
          52,
          37,
          12,
          40,
          49,
          36,
          67,
          31,
          8,
          31,
          27,
          18,
          48,
          30,
          46,
          34,
          32,
          12,
          8,
          55,
          82,
          57,
          37,
          19,
          9,
          13,
          71,
          66,
          37,
          6,
          32,
          25,
          20,
          46,
          73,
          32,
          30,
          27,
          18,
          33,
          38,
          100,
          8,
          39,
          33,
          41,
          61,
          33,
          66,
          24,
          15,
          28,
          27,
          23,
          75,
          58,
          29,
          9,
          19,
          27,
          35,
          44,
          80,
          32,
          23,
          59,
          5,
          17,
          72,
          69,
          49,
          20,
          32,
          8,
          23,
          34,
          55,
          54,
          29,
          13,
          10,
          33,
          40,
          69,
          31,
          16,
          35,
          23,
          25,
          50,
          86,
          39,
          29,
          11,
          27,
          57,
          51,
          64,
          64,
          35,
          38,
          31,
          33,
          64,
          88,
          48,
          7,
          39,
          23,
          14,
          16,
          85,
          27,
          40,
          12,
          19,
          21,
          30,
          84,
          33,
          56,
          38,
          37,
          23,
          40,
          63,
          38,
          18,
          17,
          35,
          33,
          27,
          78,
          63,
          16,
          28,
          29,
          26,
          23,
          86,
          45,
          14,
          21,
          44,
          41,
          55,
          82,
          26,
          15,
          39,
          31,
          41,
          40,
          103,
          21,
          51,
          22,
          38,
          44,
          44,
          88,
          42,
          31,
          31,
          19,
          40,
          36,
          92,
          39,
          10,
          28,
          27,
          63,
          38,
          128,
          46,
          43,
          21,
          12,
          30,
          73,
          71,
          33,
          34,
          4,
          33,
          29,
          50,
          95,
          33,
          26,
          21,
          39,
          36,
          49,
          67,
          69,
          24,
          45,
          44,
          22,
          55,
          71,
          54,
          21,
          23,
          44,
          19,
          41,
          69,
          58,
          63,
          30,
          20,
          22,
          38,
          97
         ],
         "xaxis": "x",
         "yaxis": "y"
        }
       ],
       "layout": {
        "barmode": "relative",
        "legend": {
         "title": {
          "text": "variable"
         },
         "tracegroupgap": 0
        },
        "margin": {
         "t": 60
        },
        "template": {
         "data": {
          "bar": [
           {
            "error_x": {
             "color": "#2a3f5f"
            },
            "error_y": {
             "color": "#2a3f5f"
            },
            "marker": {
             "line": {
              "color": "#E5ECF6",
              "width": 0.5
             },
             "pattern": {
              "fillmode": "overlay",
              "size": 10,
              "solidity": 0.2
             }
            },
            "type": "bar"
           }
          ],
          "barpolar": [
           {
            "marker": {
             "line": {
              "color": "#E5ECF6",
              "width": 0.5
             },
             "pattern": {
              "fillmode": "overlay",
              "size": 10,
              "solidity": 0.2
             }
            },
            "type": "barpolar"
           }
          ],
          "carpet": [
           {
            "aaxis": {
             "endlinecolor": "#2a3f5f",
             "gridcolor": "white",
             "linecolor": "white",
             "minorgridcolor": "white",
             "startlinecolor": "#2a3f5f"
            },
            "baxis": {
             "endlinecolor": "#2a3f5f",
             "gridcolor": "white",
             "linecolor": "white",
             "minorgridcolor": "white",
             "startlinecolor": "#2a3f5f"
            },
            "type": "carpet"
           }
          ],
          "choropleth": [
           {
            "colorbar": {
             "outlinewidth": 0,
             "ticks": ""
            },
            "type": "choropleth"
           }
          ],
          "contour": [
           {
            "colorbar": {
             "outlinewidth": 0,
             "ticks": ""
            },
            "colorscale": [
             [
              0,
              "#0d0887"
             ],
             [
              0.1111111111111111,
              "#46039f"
             ],
             [
              0.2222222222222222,
              "#7201a8"
             ],
             [
              0.3333333333333333,
              "#9c179e"
             ],
             [
              0.4444444444444444,
              "#bd3786"
             ],
             [
              0.5555555555555556,
              "#d8576b"
             ],
             [
              0.6666666666666666,
              "#ed7953"
             ],
             [
              0.7777777777777778,
              "#fb9f3a"
             ],
             [
              0.8888888888888888,
              "#fdca26"
             ],
             [
              1,
              "#f0f921"
             ]
            ],
            "type": "contour"
           }
          ],
          "contourcarpet": [
           {
            "colorbar": {
             "outlinewidth": 0,
             "ticks": ""
            },
            "type": "contourcarpet"
           }
          ],
          "heatmap": [
           {
            "colorbar": {
             "outlinewidth": 0,
             "ticks": ""
            },
            "colorscale": [
             [
              0,
              "#0d0887"
             ],
             [
              0.1111111111111111,
              "#46039f"
             ],
             [
              0.2222222222222222,
              "#7201a8"
             ],
             [
              0.3333333333333333,
              "#9c179e"
             ],
             [
              0.4444444444444444,
              "#bd3786"
             ],
             [
              0.5555555555555556,
              "#d8576b"
             ],
             [
              0.6666666666666666,
              "#ed7953"
             ],
             [
              0.7777777777777778,
              "#fb9f3a"
             ],
             [
              0.8888888888888888,
              "#fdca26"
             ],
             [
              1,
              "#f0f921"
             ]
            ],
            "type": "heatmap"
           }
          ],
          "heatmapgl": [
           {
            "colorbar": {
             "outlinewidth": 0,
             "ticks": ""
            },
            "colorscale": [
             [
              0,
              "#0d0887"
             ],
             [
              0.1111111111111111,
              "#46039f"
             ],
             [
              0.2222222222222222,
              "#7201a8"
             ],
             [
              0.3333333333333333,
              "#9c179e"
             ],
             [
              0.4444444444444444,
              "#bd3786"
             ],
             [
              0.5555555555555556,
              "#d8576b"
             ],
             [
              0.6666666666666666,
              "#ed7953"
             ],
             [
              0.7777777777777778,
              "#fb9f3a"
             ],
             [
              0.8888888888888888,
              "#fdca26"
             ],
             [
              1,
              "#f0f921"
             ]
            ],
            "type": "heatmapgl"
           }
          ],
          "histogram": [
           {
            "marker": {
             "pattern": {
              "fillmode": "overlay",
              "size": 10,
              "solidity": 0.2
             }
            },
            "type": "histogram"
           }
          ],
          "histogram2d": [
           {
            "colorbar": {
             "outlinewidth": 0,
             "ticks": ""
            },
            "colorscale": [
             [
              0,
              "#0d0887"
             ],
             [
              0.1111111111111111,
              "#46039f"
             ],
             [
              0.2222222222222222,
              "#7201a8"
             ],
             [
              0.3333333333333333,
              "#9c179e"
             ],
             [
              0.4444444444444444,
              "#bd3786"
             ],
             [
              0.5555555555555556,
              "#d8576b"
             ],
             [
              0.6666666666666666,
              "#ed7953"
             ],
             [
              0.7777777777777778,
              "#fb9f3a"
             ],
             [
              0.8888888888888888,
              "#fdca26"
             ],
             [
              1,
              "#f0f921"
             ]
            ],
            "type": "histogram2d"
           }
          ],
          "histogram2dcontour": [
           {
            "colorbar": {
             "outlinewidth": 0,
             "ticks": ""
            },
            "colorscale": [
             [
              0,
              "#0d0887"
             ],
             [
              0.1111111111111111,
              "#46039f"
             ],
             [
              0.2222222222222222,
              "#7201a8"
             ],
             [
              0.3333333333333333,
              "#9c179e"
             ],
             [
              0.4444444444444444,
              "#bd3786"
             ],
             [
              0.5555555555555556,
              "#d8576b"
             ],
             [
              0.6666666666666666,
              "#ed7953"
             ],
             [
              0.7777777777777778,
              "#fb9f3a"
             ],
             [
              0.8888888888888888,
              "#fdca26"
             ],
             [
              1,
              "#f0f921"
             ]
            ],
            "type": "histogram2dcontour"
           }
          ],
          "mesh3d": [
           {
            "colorbar": {
             "outlinewidth": 0,
             "ticks": ""
            },
            "type": "mesh3d"
           }
          ],
          "parcoords": [
           {
            "line": {
             "colorbar": {
              "outlinewidth": 0,
              "ticks": ""
             }
            },
            "type": "parcoords"
           }
          ],
          "pie": [
           {
            "automargin": true,
            "type": "pie"
           }
          ],
          "scatter": [
           {
            "fillpattern": {
             "fillmode": "overlay",
             "size": 10,
             "solidity": 0.2
            },
            "type": "scatter"
           }
          ],
          "scatter3d": [
           {
            "line": {
             "colorbar": {
              "outlinewidth": 0,
              "ticks": ""
             }
            },
            "marker": {
             "colorbar": {
              "outlinewidth": 0,
              "ticks": ""
             }
            },
            "type": "scatter3d"
           }
          ],
          "scattercarpet": [
           {
            "marker": {
             "colorbar": {
              "outlinewidth": 0,
              "ticks": ""
             }
            },
            "type": "scattercarpet"
           }
          ],
          "scattergeo": [
           {
            "marker": {
             "colorbar": {
              "outlinewidth": 0,
              "ticks": ""
             }
            },
            "type": "scattergeo"
           }
          ],
          "scattergl": [
           {
            "marker": {
             "colorbar": {
              "outlinewidth": 0,
              "ticks": ""
             }
            },
            "type": "scattergl"
           }
          ],
          "scattermapbox": [
           {
            "marker": {
             "colorbar": {
              "outlinewidth": 0,
              "ticks": ""
             }
            },
            "type": "scattermapbox"
           }
          ],
          "scatterpolar": [
           {
            "marker": {
             "colorbar": {
              "outlinewidth": 0,
              "ticks": ""
             }
            },
            "type": "scatterpolar"
           }
          ],
          "scatterpolargl": [
           {
            "marker": {
             "colorbar": {
              "outlinewidth": 0,
              "ticks": ""
             }
            },
            "type": "scatterpolargl"
           }
          ],
          "scatterternary": [
           {
            "marker": {
             "colorbar": {
              "outlinewidth": 0,
              "ticks": ""
             }
            },
            "type": "scatterternary"
           }
          ],
          "surface": [
           {
            "colorbar": {
             "outlinewidth": 0,
             "ticks": ""
            },
            "colorscale": [
             [
              0,
              "#0d0887"
             ],
             [
              0.1111111111111111,
              "#46039f"
             ],
             [
              0.2222222222222222,
              "#7201a8"
             ],
             [
              0.3333333333333333,
              "#9c179e"
             ],
             [
              0.4444444444444444,
              "#bd3786"
             ],
             [
              0.5555555555555556,
              "#d8576b"
             ],
             [
              0.6666666666666666,
              "#ed7953"
             ],
             [
              0.7777777777777778,
              "#fb9f3a"
             ],
             [
              0.8888888888888888,
              "#fdca26"
             ],
             [
              1,
              "#f0f921"
             ]
            ],
            "type": "surface"
           }
          ],
          "table": [
           {
            "cells": {
             "fill": {
              "color": "#EBF0F8"
             },
             "line": {
              "color": "white"
             }
            },
            "header": {
             "fill": {
              "color": "#C8D4E3"
             },
             "line": {
              "color": "white"
             }
            },
            "type": "table"
           }
          ]
         },
         "layout": {
          "annotationdefaults": {
           "arrowcolor": "#2a3f5f",
           "arrowhead": 0,
           "arrowwidth": 1
          },
          "autotypenumbers": "strict",
          "coloraxis": {
           "colorbar": {
            "outlinewidth": 0,
            "ticks": ""
           }
          },
          "colorscale": {
           "diverging": [
            [
             0,
             "#8e0152"
            ],
            [
             0.1,
             "#c51b7d"
            ],
            [
             0.2,
             "#de77ae"
            ],
            [
             0.3,
             "#f1b6da"
            ],
            [
             0.4,
             "#fde0ef"
            ],
            [
             0.5,
             "#f7f7f7"
            ],
            [
             0.6,
             "#e6f5d0"
            ],
            [
             0.7,
             "#b8e186"
            ],
            [
             0.8,
             "#7fbc41"
            ],
            [
             0.9,
             "#4d9221"
            ],
            [
             1,
             "#276419"
            ]
           ],
           "sequential": [
            [
             0,
             "#0d0887"
            ],
            [
             0.1111111111111111,
             "#46039f"
            ],
            [
             0.2222222222222222,
             "#7201a8"
            ],
            [
             0.3333333333333333,
             "#9c179e"
            ],
            [
             0.4444444444444444,
             "#bd3786"
            ],
            [
             0.5555555555555556,
             "#d8576b"
            ],
            [
             0.6666666666666666,
             "#ed7953"
            ],
            [
             0.7777777777777778,
             "#fb9f3a"
            ],
            [
             0.8888888888888888,
             "#fdca26"
            ],
            [
             1,
             "#f0f921"
            ]
           ],
           "sequentialminus": [
            [
             0,
             "#0d0887"
            ],
            [
             0.1111111111111111,
             "#46039f"
            ],
            [
             0.2222222222222222,
             "#7201a8"
            ],
            [
             0.3333333333333333,
             "#9c179e"
            ],
            [
             0.4444444444444444,
             "#bd3786"
            ],
            [
             0.5555555555555556,
             "#d8576b"
            ],
            [
             0.6666666666666666,
             "#ed7953"
            ],
            [
             0.7777777777777778,
             "#fb9f3a"
            ],
            [
             0.8888888888888888,
             "#fdca26"
            ],
            [
             1,
             "#f0f921"
            ]
           ]
          },
          "colorway": [
           "#636efa",
           "#EF553B",
           "#00cc96",
           "#ab63fa",
           "#FFA15A",
           "#19d3f3",
           "#FF6692",
           "#B6E880",
           "#FF97FF",
           "#FECB52"
          ],
          "font": {
           "color": "#2a3f5f"
          },
          "geo": {
           "bgcolor": "white",
           "lakecolor": "white",
           "landcolor": "#E5ECF6",
           "showlakes": true,
           "showland": true,
           "subunitcolor": "white"
          },
          "hoverlabel": {
           "align": "left"
          },
          "hovermode": "closest",
          "mapbox": {
           "style": "light"
          },
          "paper_bgcolor": "white",
          "plot_bgcolor": "#E5ECF6",
          "polar": {
           "angularaxis": {
            "gridcolor": "white",
            "linecolor": "white",
            "ticks": ""
           },
           "bgcolor": "#E5ECF6",
           "radialaxis": {
            "gridcolor": "white",
            "linecolor": "white",
            "ticks": ""
           }
          },
          "scene": {
           "xaxis": {
            "backgroundcolor": "#E5ECF6",
            "gridcolor": "white",
            "gridwidth": 2,
            "linecolor": "white",
            "showbackground": true,
            "ticks": "",
            "zerolinecolor": "white"
           },
           "yaxis": {
            "backgroundcolor": "#E5ECF6",
            "gridcolor": "white",
            "gridwidth": 2,
            "linecolor": "white",
            "showbackground": true,
            "ticks": "",
            "zerolinecolor": "white"
           },
           "zaxis": {
            "backgroundcolor": "#E5ECF6",
            "gridcolor": "white",
            "gridwidth": 2,
            "linecolor": "white",
            "showbackground": true,
            "ticks": "",
            "zerolinecolor": "white"
           }
          },
          "shapedefaults": {
           "line": {
            "color": "#2a3f5f"
           }
          },
          "ternary": {
           "aaxis": {
            "gridcolor": "white",
            "linecolor": "white",
            "ticks": ""
           },
           "baxis": {
            "gridcolor": "white",
            "linecolor": "white",
            "ticks": ""
           },
           "bgcolor": "#E5ECF6",
           "caxis": {
            "gridcolor": "white",
            "linecolor": "white",
            "ticks": ""
           }
          },
          "title": {
           "x": 0.05
          },
          "xaxis": {
           "automargin": true,
           "gridcolor": "white",
           "linecolor": "white",
           "ticks": "",
           "title": {
            "standoff": 15
           },
           "zerolinecolor": "white",
           "zerolinewidth": 2
          },
          "yaxis": {
           "automargin": true,
           "gridcolor": "white",
           "linecolor": "white",
           "ticks": "",
           "title": {
            "standoff": 15
           },
           "zerolinecolor": "white",
           "zerolinewidth": 2
          }
         }
        },
        "xaxis": {
         "anchor": "y",
         "domain": [
          0,
          1
         ],
         "title": {
          "text": "Cliente"
         }
        },
        "yaxis": {
         "anchor": "x",
         "domain": [
          0,
          1
         ],
         "title": {
          "text": "count"
         }
        }
       }
      }
     },
     "metadata": {},
     "output_type": "display_data"
    }
   ],
   "source": [
    "px.histogram(dados['Chimi & Churri'], text_auto=True,\n",
    "             labels={\"value\":\"Cliente\"})"
   ]
  },
  {
   "cell_type": "code",
   "execution_count": 107,
   "metadata": {},
   "outputs": [
    {
     "data": {
      "application/vnd.plotly.v1+json": {
       "config": {
        "plotlyServerURL": "https://plot.ly"
       },
       "data": [
        {
         "alignmentgroup": "True",
         "bingroup": "x",
         "hovertemplate": "variable=Assa Frão<br>Cliente=%{x}<br>count=%{y}<extra></extra>",
         "legendgroup": "Assa Frão",
         "marker": {
          "color": "#636efa",
          "pattern": {
           "shape": ""
          }
         },
         "name": "Assa Frão",
         "offsetgroup": "Assa Frão",
         "orientation": "v",
         "showlegend": true,
         "texttemplate": "%{value}",
         "type": "histogram",
         "x": [
          139,
          85,
          81,
          32,
          43,
          41,
          30,
          16,
          99,
          94,
          37,
          20,
          24,
          57,
          21,
          86,
          50,
          84,
          41,
          47,
          28,
          44,
          47,
          50,
          9,
          23,
          38,
          37,
          16,
          84,
          74,
          13,
          32,
          21,
          46,
          11,
          49,
          25,
          24,
          64,
          47,
          78,
          17,
          87,
          121,
          43,
          37,
          44,
          44,
          52,
          53,
          85,
          20,
          42,
          49,
          49,
          53,
          113,
          55,
          22,
          37,
          21,
          28,
          24,
          91,
          50,
          4,
          52,
          26,
          38,
          11,
          96,
          26,
          22,
          43,
          36,
          55,
          17,
          79,
          84,
          37,
          44,
          60,
          72,
          41,
          109,
          104,
          44,
          70,
          43,
          49,
          19,
          103,
          79,
          12,
          34,
          40,
          32,
          45,
          94,
          30,
          21,
          18,
          27,
          23,
          17,
          31,
          77,
          27,
          40,
          22,
          30,
          48,
          109,
          51,
          25,
          34,
          17,
          19,
          17,
          88,
          96,
          64,
          21,
          29,
          95,
          32,
          90,
          115,
          14,
          22,
          60,
          36,
          25,
          63,
          52,
          18,
          13,
          34,
          23,
          20,
          80,
          52,
          6,
          24,
          27,
          50,
          20,
          48,
          51,
          41,
          17,
          23,
          29,
          18,
          50,
          52,
          31,
          24,
          26,
          25,
          37,
          74,
          48,
          9,
          28,
          28,
          24,
          24,
          48,
          68,
          12,
          8,
          16,
          14,
          14,
          53,
          56,
          15,
          21,
          16,
          23,
          14,
          56,
          35,
          43,
          41,
          61,
          13,
          50,
          48,
          47,
          23,
          15,
          20,
          6,
          15,
          60,
          79,
          18,
          12,
          17,
          17,
          16,
          40,
          36,
          11,
          19,
          14,
          44,
          23,
          51,
          42,
          15,
          23,
          25,
          19,
          20,
          29,
          38,
          9,
          20,
          43,
          43,
          39,
          54,
          59,
          45,
          19,
          22,
          6,
          48,
          37,
          49,
          12,
          14,
          37,
          55,
          20,
          49,
          54,
          17,
          9,
          15,
          16,
          40,
          51,
          97,
          45,
          17,
          17,
          22,
          12,
          57,
          54,
          37,
          11,
          27,
          39,
          51,
          60,
          57,
          19,
          11,
          10,
          35,
          44,
          40,
          73,
          9,
          45,
          49,
          12,
          27,
          78,
          42,
          15,
          42,
          22,
          25,
          21,
          46,
          79,
          85,
          8,
          35,
          16,
          36,
          47,
          56,
          9,
          28,
          19,
          19,
          16,
          46,
          54,
          20,
          15,
          23,
          26,
          28,
          54,
          96,
          82,
          23,
          16,
          60,
          28,
          33,
          48,
          20,
          16,
          14,
          16,
          50,
          49,
          50,
          27,
          9,
          45,
          32,
          32,
          26,
          14,
          9,
          15,
          38,
          70,
          102,
          55,
          50,
          20,
          30,
          26,
          14,
          15,
          63,
          49,
          21,
          15,
          14,
          24,
          30,
          37,
          96,
          19,
          11,
          13,
          24,
          27,
          43,
          47,
          23,
          24,
          23,
          25,
          30,
          94,
          59,
          27,
          11,
          24,
          43,
          59,
          117,
          118,
          75,
          55,
          29,
          11,
          21,
          51,
          85,
          30,
          14,
          14,
          15,
          9,
          39,
          39,
          26,
          19,
          12,
          9,
          21,
          37,
          44,
          16,
          17,
          20,
          31,
          35,
          50,
          47,
          19,
          11,
          9,
          12,
          28,
          38,
          55,
          24,
          15,
          32,
          23,
          24,
          52,
          92,
          15,
          117,
          18,
          16,
          25,
          50,
          80,
          17,
          37,
          29,
          17,
          21,
          49,
          23,
          22,
          14,
          8,
          3,
          11,
          30,
          51,
          23,
          13,
          21,
          13,
          32,
          59,
          41,
          13,
          29,
          11,
          9,
          50,
          44,
          79,
          50,
          18,
          23,
          13,
          13,
          64,
          38,
          7,
          31,
          39,
          29,
          20,
          62,
          51,
          14,
          24,
          19,
          22,
          25,
          49,
          59,
          26,
          15,
          28,
          27,
          49,
          59,
          100,
          32,
          18,
          18,
          46,
          38,
          59
         ],
         "xaxis": "x",
         "yaxis": "y"
        }
       ],
       "layout": {
        "barmode": "relative",
        "legend": {
         "title": {
          "text": "variable"
         },
         "tracegroupgap": 0
        },
        "margin": {
         "t": 60
        },
        "template": {
         "data": {
          "bar": [
           {
            "error_x": {
             "color": "#2a3f5f"
            },
            "error_y": {
             "color": "#2a3f5f"
            },
            "marker": {
             "line": {
              "color": "#E5ECF6",
              "width": 0.5
             },
             "pattern": {
              "fillmode": "overlay",
              "size": 10,
              "solidity": 0.2
             }
            },
            "type": "bar"
           }
          ],
          "barpolar": [
           {
            "marker": {
             "line": {
              "color": "#E5ECF6",
              "width": 0.5
             },
             "pattern": {
              "fillmode": "overlay",
              "size": 10,
              "solidity": 0.2
             }
            },
            "type": "barpolar"
           }
          ],
          "carpet": [
           {
            "aaxis": {
             "endlinecolor": "#2a3f5f",
             "gridcolor": "white",
             "linecolor": "white",
             "minorgridcolor": "white",
             "startlinecolor": "#2a3f5f"
            },
            "baxis": {
             "endlinecolor": "#2a3f5f",
             "gridcolor": "white",
             "linecolor": "white",
             "minorgridcolor": "white",
             "startlinecolor": "#2a3f5f"
            },
            "type": "carpet"
           }
          ],
          "choropleth": [
           {
            "colorbar": {
             "outlinewidth": 0,
             "ticks": ""
            },
            "type": "choropleth"
           }
          ],
          "contour": [
           {
            "colorbar": {
             "outlinewidth": 0,
             "ticks": ""
            },
            "colorscale": [
             [
              0,
              "#0d0887"
             ],
             [
              0.1111111111111111,
              "#46039f"
             ],
             [
              0.2222222222222222,
              "#7201a8"
             ],
             [
              0.3333333333333333,
              "#9c179e"
             ],
             [
              0.4444444444444444,
              "#bd3786"
             ],
             [
              0.5555555555555556,
              "#d8576b"
             ],
             [
              0.6666666666666666,
              "#ed7953"
             ],
             [
              0.7777777777777778,
              "#fb9f3a"
             ],
             [
              0.8888888888888888,
              "#fdca26"
             ],
             [
              1,
              "#f0f921"
             ]
            ],
            "type": "contour"
           }
          ],
          "contourcarpet": [
           {
            "colorbar": {
             "outlinewidth": 0,
             "ticks": ""
            },
            "type": "contourcarpet"
           }
          ],
          "heatmap": [
           {
            "colorbar": {
             "outlinewidth": 0,
             "ticks": ""
            },
            "colorscale": [
             [
              0,
              "#0d0887"
             ],
             [
              0.1111111111111111,
              "#46039f"
             ],
             [
              0.2222222222222222,
              "#7201a8"
             ],
             [
              0.3333333333333333,
              "#9c179e"
             ],
             [
              0.4444444444444444,
              "#bd3786"
             ],
             [
              0.5555555555555556,
              "#d8576b"
             ],
             [
              0.6666666666666666,
              "#ed7953"
             ],
             [
              0.7777777777777778,
              "#fb9f3a"
             ],
             [
              0.8888888888888888,
              "#fdca26"
             ],
             [
              1,
              "#f0f921"
             ]
            ],
            "type": "heatmap"
           }
          ],
          "heatmapgl": [
           {
            "colorbar": {
             "outlinewidth": 0,
             "ticks": ""
            },
            "colorscale": [
             [
              0,
              "#0d0887"
             ],
             [
              0.1111111111111111,
              "#46039f"
             ],
             [
              0.2222222222222222,
              "#7201a8"
             ],
             [
              0.3333333333333333,
              "#9c179e"
             ],
             [
              0.4444444444444444,
              "#bd3786"
             ],
             [
              0.5555555555555556,
              "#d8576b"
             ],
             [
              0.6666666666666666,
              "#ed7953"
             ],
             [
              0.7777777777777778,
              "#fb9f3a"
             ],
             [
              0.8888888888888888,
              "#fdca26"
             ],
             [
              1,
              "#f0f921"
             ]
            ],
            "type": "heatmapgl"
           }
          ],
          "histogram": [
           {
            "marker": {
             "pattern": {
              "fillmode": "overlay",
              "size": 10,
              "solidity": 0.2
             }
            },
            "type": "histogram"
           }
          ],
          "histogram2d": [
           {
            "colorbar": {
             "outlinewidth": 0,
             "ticks": ""
            },
            "colorscale": [
             [
              0,
              "#0d0887"
             ],
             [
              0.1111111111111111,
              "#46039f"
             ],
             [
              0.2222222222222222,
              "#7201a8"
             ],
             [
              0.3333333333333333,
              "#9c179e"
             ],
             [
              0.4444444444444444,
              "#bd3786"
             ],
             [
              0.5555555555555556,
              "#d8576b"
             ],
             [
              0.6666666666666666,
              "#ed7953"
             ],
             [
              0.7777777777777778,
              "#fb9f3a"
             ],
             [
              0.8888888888888888,
              "#fdca26"
             ],
             [
              1,
              "#f0f921"
             ]
            ],
            "type": "histogram2d"
           }
          ],
          "histogram2dcontour": [
           {
            "colorbar": {
             "outlinewidth": 0,
             "ticks": ""
            },
            "colorscale": [
             [
              0,
              "#0d0887"
             ],
             [
              0.1111111111111111,
              "#46039f"
             ],
             [
              0.2222222222222222,
              "#7201a8"
             ],
             [
              0.3333333333333333,
              "#9c179e"
             ],
             [
              0.4444444444444444,
              "#bd3786"
             ],
             [
              0.5555555555555556,
              "#d8576b"
             ],
             [
              0.6666666666666666,
              "#ed7953"
             ],
             [
              0.7777777777777778,
              "#fb9f3a"
             ],
             [
              0.8888888888888888,
              "#fdca26"
             ],
             [
              1,
              "#f0f921"
             ]
            ],
            "type": "histogram2dcontour"
           }
          ],
          "mesh3d": [
           {
            "colorbar": {
             "outlinewidth": 0,
             "ticks": ""
            },
            "type": "mesh3d"
           }
          ],
          "parcoords": [
           {
            "line": {
             "colorbar": {
              "outlinewidth": 0,
              "ticks": ""
             }
            },
            "type": "parcoords"
           }
          ],
          "pie": [
           {
            "automargin": true,
            "type": "pie"
           }
          ],
          "scatter": [
           {
            "fillpattern": {
             "fillmode": "overlay",
             "size": 10,
             "solidity": 0.2
            },
            "type": "scatter"
           }
          ],
          "scatter3d": [
           {
            "line": {
             "colorbar": {
              "outlinewidth": 0,
              "ticks": ""
             }
            },
            "marker": {
             "colorbar": {
              "outlinewidth": 0,
              "ticks": ""
             }
            },
            "type": "scatter3d"
           }
          ],
          "scattercarpet": [
           {
            "marker": {
             "colorbar": {
              "outlinewidth": 0,
              "ticks": ""
             }
            },
            "type": "scattercarpet"
           }
          ],
          "scattergeo": [
           {
            "marker": {
             "colorbar": {
              "outlinewidth": 0,
              "ticks": ""
             }
            },
            "type": "scattergeo"
           }
          ],
          "scattergl": [
           {
            "marker": {
             "colorbar": {
              "outlinewidth": 0,
              "ticks": ""
             }
            },
            "type": "scattergl"
           }
          ],
          "scattermapbox": [
           {
            "marker": {
             "colorbar": {
              "outlinewidth": 0,
              "ticks": ""
             }
            },
            "type": "scattermapbox"
           }
          ],
          "scatterpolar": [
           {
            "marker": {
             "colorbar": {
              "outlinewidth": 0,
              "ticks": ""
             }
            },
            "type": "scatterpolar"
           }
          ],
          "scatterpolargl": [
           {
            "marker": {
             "colorbar": {
              "outlinewidth": 0,
              "ticks": ""
             }
            },
            "type": "scatterpolargl"
           }
          ],
          "scatterternary": [
           {
            "marker": {
             "colorbar": {
              "outlinewidth": 0,
              "ticks": ""
             }
            },
            "type": "scatterternary"
           }
          ],
          "surface": [
           {
            "colorbar": {
             "outlinewidth": 0,
             "ticks": ""
            },
            "colorscale": [
             [
              0,
              "#0d0887"
             ],
             [
              0.1111111111111111,
              "#46039f"
             ],
             [
              0.2222222222222222,
              "#7201a8"
             ],
             [
              0.3333333333333333,
              "#9c179e"
             ],
             [
              0.4444444444444444,
              "#bd3786"
             ],
             [
              0.5555555555555556,
              "#d8576b"
             ],
             [
              0.6666666666666666,
              "#ed7953"
             ],
             [
              0.7777777777777778,
              "#fb9f3a"
             ],
             [
              0.8888888888888888,
              "#fdca26"
             ],
             [
              1,
              "#f0f921"
             ]
            ],
            "type": "surface"
           }
          ],
          "table": [
           {
            "cells": {
             "fill": {
              "color": "#EBF0F8"
             },
             "line": {
              "color": "white"
             }
            },
            "header": {
             "fill": {
              "color": "#C8D4E3"
             },
             "line": {
              "color": "white"
             }
            },
            "type": "table"
           }
          ]
         },
         "layout": {
          "annotationdefaults": {
           "arrowcolor": "#2a3f5f",
           "arrowhead": 0,
           "arrowwidth": 1
          },
          "autotypenumbers": "strict",
          "coloraxis": {
           "colorbar": {
            "outlinewidth": 0,
            "ticks": ""
           }
          },
          "colorscale": {
           "diverging": [
            [
             0,
             "#8e0152"
            ],
            [
             0.1,
             "#c51b7d"
            ],
            [
             0.2,
             "#de77ae"
            ],
            [
             0.3,
             "#f1b6da"
            ],
            [
             0.4,
             "#fde0ef"
            ],
            [
             0.5,
             "#f7f7f7"
            ],
            [
             0.6,
             "#e6f5d0"
            ],
            [
             0.7,
             "#b8e186"
            ],
            [
             0.8,
             "#7fbc41"
            ],
            [
             0.9,
             "#4d9221"
            ],
            [
             1,
             "#276419"
            ]
           ],
           "sequential": [
            [
             0,
             "#0d0887"
            ],
            [
             0.1111111111111111,
             "#46039f"
            ],
            [
             0.2222222222222222,
             "#7201a8"
            ],
            [
             0.3333333333333333,
             "#9c179e"
            ],
            [
             0.4444444444444444,
             "#bd3786"
            ],
            [
             0.5555555555555556,
             "#d8576b"
            ],
            [
             0.6666666666666666,
             "#ed7953"
            ],
            [
             0.7777777777777778,
             "#fb9f3a"
            ],
            [
             0.8888888888888888,
             "#fdca26"
            ],
            [
             1,
             "#f0f921"
            ]
           ],
           "sequentialminus": [
            [
             0,
             "#0d0887"
            ],
            [
             0.1111111111111111,
             "#46039f"
            ],
            [
             0.2222222222222222,
             "#7201a8"
            ],
            [
             0.3333333333333333,
             "#9c179e"
            ],
            [
             0.4444444444444444,
             "#bd3786"
            ],
            [
             0.5555555555555556,
             "#d8576b"
            ],
            [
             0.6666666666666666,
             "#ed7953"
            ],
            [
             0.7777777777777778,
             "#fb9f3a"
            ],
            [
             0.8888888888888888,
             "#fdca26"
            ],
            [
             1,
             "#f0f921"
            ]
           ]
          },
          "colorway": [
           "#636efa",
           "#EF553B",
           "#00cc96",
           "#ab63fa",
           "#FFA15A",
           "#19d3f3",
           "#FF6692",
           "#B6E880",
           "#FF97FF",
           "#FECB52"
          ],
          "font": {
           "color": "#2a3f5f"
          },
          "geo": {
           "bgcolor": "white",
           "lakecolor": "white",
           "landcolor": "#E5ECF6",
           "showlakes": true,
           "showland": true,
           "subunitcolor": "white"
          },
          "hoverlabel": {
           "align": "left"
          },
          "hovermode": "closest",
          "mapbox": {
           "style": "light"
          },
          "paper_bgcolor": "white",
          "plot_bgcolor": "#E5ECF6",
          "polar": {
           "angularaxis": {
            "gridcolor": "white",
            "linecolor": "white",
            "ticks": ""
           },
           "bgcolor": "#E5ECF6",
           "radialaxis": {
            "gridcolor": "white",
            "linecolor": "white",
            "ticks": ""
           }
          },
          "scene": {
           "xaxis": {
            "backgroundcolor": "#E5ECF6",
            "gridcolor": "white",
            "gridwidth": 2,
            "linecolor": "white",
            "showbackground": true,
            "ticks": "",
            "zerolinecolor": "white"
           },
           "yaxis": {
            "backgroundcolor": "#E5ECF6",
            "gridcolor": "white",
            "gridwidth": 2,
            "linecolor": "white",
            "showbackground": true,
            "ticks": "",
            "zerolinecolor": "white"
           },
           "zaxis": {
            "backgroundcolor": "#E5ECF6",
            "gridcolor": "white",
            "gridwidth": 2,
            "linecolor": "white",
            "showbackground": true,
            "ticks": "",
            "zerolinecolor": "white"
           }
          },
          "shapedefaults": {
           "line": {
            "color": "#2a3f5f"
           }
          },
          "ternary": {
           "aaxis": {
            "gridcolor": "white",
            "linecolor": "white",
            "ticks": ""
           },
           "baxis": {
            "gridcolor": "white",
            "linecolor": "white",
            "ticks": ""
           },
           "bgcolor": "#E5ECF6",
           "caxis": {
            "gridcolor": "white",
            "linecolor": "white",
            "ticks": ""
           }
          },
          "title": {
           "x": 0.05
          },
          "xaxis": {
           "automargin": true,
           "gridcolor": "white",
           "linecolor": "white",
           "ticks": "",
           "title": {
            "standoff": 15
           },
           "zerolinecolor": "white",
           "zerolinewidth": 2
          },
          "yaxis": {
           "automargin": true,
           "gridcolor": "white",
           "linecolor": "white",
           "ticks": "",
           "title": {
            "standoff": 15
           },
           "zerolinecolor": "white",
           "zerolinewidth": 2
          }
         }
        },
        "xaxis": {
         "anchor": "y",
         "domain": [
          0,
          1
         ],
         "title": {
          "text": "Cliente"
         }
        },
        "yaxis": {
         "anchor": "x",
         "domain": [
          0,
          1
         ],
         "title": {
          "text": "count"
         }
        }
       }
      }
     },
     "metadata": {},
     "output_type": "display_data"
    }
   ],
   "source": [
    "px.histogram(dados['Assa Frão'], text_auto=True,\n",
    "             labels={\"value\":\"Cliente\"})"
   ]
  },
  {
   "cell_type": "code",
   "execution_count": 108,
   "metadata": {},
   "outputs": [
    {
     "data": {
      "text/html": [
       "<div>\n",
       "<style scoped>\n",
       "    .dataframe tbody tr th:only-of-type {\n",
       "        vertical-align: middle;\n",
       "    }\n",
       "\n",
       "    .dataframe tbody tr th {\n",
       "        vertical-align: top;\n",
       "    }\n",
       "\n",
       "    .dataframe thead th {\n",
       "        text-align: right;\n",
       "    }\n",
       "</style>\n",
       "<table border=\"1\" class=\"dataframe\">\n",
       "  <thead>\n",
       "    <tr style=\"text-align: right;\">\n",
       "      <th></th>\n",
       "      <th>Chimi &amp; Churri</th>\n",
       "      <th>Assa Frão</th>\n",
       "    </tr>\n",
       "  </thead>\n",
       "  <tbody>\n",
       "    <tr>\n",
       "      <th>count</th>\n",
       "      <td>478.00</td>\n",
       "      <td>478.00</td>\n",
       "    </tr>\n",
       "    <tr>\n",
       "      <th>mean</th>\n",
       "      <td>37.45</td>\n",
       "      <td>37.68</td>\n",
       "    </tr>\n",
       "    <tr>\n",
       "      <th>std</th>\n",
       "      <td>21.43</td>\n",
       "      <td>24.62</td>\n",
       "    </tr>\n",
       "    <tr>\n",
       "      <th>min</th>\n",
       "      <td>1.00</td>\n",
       "      <td>3.00</td>\n",
       "    </tr>\n",
       "    <tr>\n",
       "      <th>25%</th>\n",
       "      <td>22.25</td>\n",
       "      <td>19.00</td>\n",
       "    </tr>\n",
       "    <tr>\n",
       "      <th>50%</th>\n",
       "      <td>33.00</td>\n",
       "      <td>30.50</td>\n",
       "    </tr>\n",
       "    <tr>\n",
       "      <th>75%</th>\n",
       "      <td>49.00</td>\n",
       "      <td>50.00</td>\n",
       "    </tr>\n",
       "    <tr>\n",
       "      <th>max</th>\n",
       "      <td>128.00</td>\n",
       "      <td>139.00</td>\n",
       "    </tr>\n",
       "  </tbody>\n",
       "</table>\n",
       "</div>"
      ],
      "text/plain": [
       "       Chimi & Churri  Assa Frão\n",
       "count          478.00     478.00\n",
       "mean            37.45      37.68\n",
       "std             21.43      24.62\n",
       "min              1.00       3.00\n",
       "25%             22.25      19.00\n",
       "50%             33.00      30.50\n",
       "75%             49.00      50.00\n",
       "max            128.00     139.00"
      ]
     },
     "execution_count": 108,
     "metadata": {},
     "output_type": "execute_result"
    }
   ],
   "source": [
    "dados.describe().round(2)"
   ]
  },
  {
   "cell_type": "markdown",
   "metadata": {},
   "source": [
    "# Gráfico BoxPlot"
   ]
  },
  {
   "cell_type": "code",
   "execution_count": 109,
   "metadata": {},
   "outputs": [
    {
     "data": {
      "application/vnd.plotly.v1+json": {
       "config": {
        "plotlyServerURL": "https://plot.ly"
       },
       "data": [
        {
         "alignmentgroup": "True",
         "hovertemplate": "variable=%{x}<br>value=%{y}<extra></extra>",
         "legendgroup": "",
         "marker": {
          "color": "#636efa"
         },
         "name": "",
         "notched": false,
         "offsetgroup": "",
         "orientation": "v",
         "showlegend": false,
         "type": "box",
         "x": [
          "Chimi & Churri",
          "Chimi & Churri",
          "Chimi & Churri",
          "Chimi & Churri",
          "Chimi & Churri",
          "Chimi & Churri",
          "Chimi & Churri",
          "Chimi & Churri",
          "Chimi & Churri",
          "Chimi & Churri",
          "Chimi & Churri",
          "Chimi & Churri",
          "Chimi & Churri",
          "Chimi & Churri",
          "Chimi & Churri",
          "Chimi & Churri",
          "Chimi & Churri",
          "Chimi & Churri",
          "Chimi & Churri",
          "Chimi & Churri",
          "Chimi & Churri",
          "Chimi & Churri",
          "Chimi & Churri",
          "Chimi & Churri",
          "Chimi & Churri",
          "Chimi & Churri",
          "Chimi & Churri",
          "Chimi & Churri",
          "Chimi & Churri",
          "Chimi & Churri",
          "Chimi & Churri",
          "Chimi & Churri",
          "Chimi & Churri",
          "Chimi & Churri",
          "Chimi & Churri",
          "Chimi & Churri",
          "Chimi & Churri",
          "Chimi & Churri",
          "Chimi & Churri",
          "Chimi & Churri",
          "Chimi & Churri",
          "Chimi & Churri",
          "Chimi & Churri",
          "Chimi & Churri",
          "Chimi & Churri",
          "Chimi & Churri",
          "Chimi & Churri",
          "Chimi & Churri",
          "Chimi & Churri",
          "Chimi & Churri",
          "Chimi & Churri",
          "Chimi & Churri",
          "Chimi & Churri",
          "Chimi & Churri",
          "Chimi & Churri",
          "Chimi & Churri",
          "Chimi & Churri",
          "Chimi & Churri",
          "Chimi & Churri",
          "Chimi & Churri",
          "Chimi & Churri",
          "Chimi & Churri",
          "Chimi & Churri",
          "Chimi & Churri",
          "Chimi & Churri",
          "Chimi & Churri",
          "Chimi & Churri",
          "Chimi & Churri",
          "Chimi & Churri",
          "Chimi & Churri",
          "Chimi & Churri",
          "Chimi & Churri",
          "Chimi & Churri",
          "Chimi & Churri",
          "Chimi & Churri",
          "Chimi & Churri",
          "Chimi & Churri",
          "Chimi & Churri",
          "Chimi & Churri",
          "Chimi & Churri",
          "Chimi & Churri",
          "Chimi & Churri",
          "Chimi & Churri",
          "Chimi & Churri",
          "Chimi & Churri",
          "Chimi & Churri",
          "Chimi & Churri",
          "Chimi & Churri",
          "Chimi & Churri",
          "Chimi & Churri",
          "Chimi & Churri",
          "Chimi & Churri",
          "Chimi & Churri",
          "Chimi & Churri",
          "Chimi & Churri",
          "Chimi & Churri",
          "Chimi & Churri",
          "Chimi & Churri",
          "Chimi & Churri",
          "Chimi & Churri",
          "Chimi & Churri",
          "Chimi & Churri",
          "Chimi & Churri",
          "Chimi & Churri",
          "Chimi & Churri",
          "Chimi & Churri",
          "Chimi & Churri",
          "Chimi & Churri",
          "Chimi & Churri",
          "Chimi & Churri",
          "Chimi & Churri",
          "Chimi & Churri",
          "Chimi & Churri",
          "Chimi & Churri",
          "Chimi & Churri",
          "Chimi & Churri",
          "Chimi & Churri",
          "Chimi & Churri",
          "Chimi & Churri",
          "Chimi & Churri",
          "Chimi & Churri",
          "Chimi & Churri",
          "Chimi & Churri",
          "Chimi & Churri",
          "Chimi & Churri",
          "Chimi & Churri",
          "Chimi & Churri",
          "Chimi & Churri",
          "Chimi & Churri",
          "Chimi & Churri",
          "Chimi & Churri",
          "Chimi & Churri",
          "Chimi & Churri",
          "Chimi & Churri",
          "Chimi & Churri",
          "Chimi & Churri",
          "Chimi & Churri",
          "Chimi & Churri",
          "Chimi & Churri",
          "Chimi & Churri",
          "Chimi & Churri",
          "Chimi & Churri",
          "Chimi & Churri",
          "Chimi & Churri",
          "Chimi & Churri",
          "Chimi & Churri",
          "Chimi & Churri",
          "Chimi & Churri",
          "Chimi & Churri",
          "Chimi & Churri",
          "Chimi & Churri",
          "Chimi & Churri",
          "Chimi & Churri",
          "Chimi & Churri",
          "Chimi & Churri",
          "Chimi & Churri",
          "Chimi & Churri",
          "Chimi & Churri",
          "Chimi & Churri",
          "Chimi & Churri",
          "Chimi & Churri",
          "Chimi & Churri",
          "Chimi & Churri",
          "Chimi & Churri",
          "Chimi & Churri",
          "Chimi & Churri",
          "Chimi & Churri",
          "Chimi & Churri",
          "Chimi & Churri",
          "Chimi & Churri",
          "Chimi & Churri",
          "Chimi & Churri",
          "Chimi & Churri",
          "Chimi & Churri",
          "Chimi & Churri",
          "Chimi & Churri",
          "Chimi & Churri",
          "Chimi & Churri",
          "Chimi & Churri",
          "Chimi & Churri",
          "Chimi & Churri",
          "Chimi & Churri",
          "Chimi & Churri",
          "Chimi & Churri",
          "Chimi & Churri",
          "Chimi & Churri",
          "Chimi & Churri",
          "Chimi & Churri",
          "Chimi & Churri",
          "Chimi & Churri",
          "Chimi & Churri",
          "Chimi & Churri",
          "Chimi & Churri",
          "Chimi & Churri",
          "Chimi & Churri",
          "Chimi & Churri",
          "Chimi & Churri",
          "Chimi & Churri",
          "Chimi & Churri",
          "Chimi & Churri",
          "Chimi & Churri",
          "Chimi & Churri",
          "Chimi & Churri",
          "Chimi & Churri",
          "Chimi & Churri",
          "Chimi & Churri",
          "Chimi & Churri",
          "Chimi & Churri",
          "Chimi & Churri",
          "Chimi & Churri",
          "Chimi & Churri",
          "Chimi & Churri",
          "Chimi & Churri",
          "Chimi & Churri",
          "Chimi & Churri",
          "Chimi & Churri",
          "Chimi & Churri",
          "Chimi & Churri",
          "Chimi & Churri",
          "Chimi & Churri",
          "Chimi & Churri",
          "Chimi & Churri",
          "Chimi & Churri",
          "Chimi & Churri",
          "Chimi & Churri",
          "Chimi & Churri",
          "Chimi & Churri",
          "Chimi & Churri",
          "Chimi & Churri",
          "Chimi & Churri",
          "Chimi & Churri",
          "Chimi & Churri",
          "Chimi & Churri",
          "Chimi & Churri",
          "Chimi & Churri",
          "Chimi & Churri",
          "Chimi & Churri",
          "Chimi & Churri",
          "Chimi & Churri",
          "Chimi & Churri",
          "Chimi & Churri",
          "Chimi & Churri",
          "Chimi & Churri",
          "Chimi & Churri",
          "Chimi & Churri",
          "Chimi & Churri",
          "Chimi & Churri",
          "Chimi & Churri",
          "Chimi & Churri",
          "Chimi & Churri",
          "Chimi & Churri",
          "Chimi & Churri",
          "Chimi & Churri",
          "Chimi & Churri",
          "Chimi & Churri",
          "Chimi & Churri",
          "Chimi & Churri",
          "Chimi & Churri",
          "Chimi & Churri",
          "Chimi & Churri",
          "Chimi & Churri",
          "Chimi & Churri",
          "Chimi & Churri",
          "Chimi & Churri",
          "Chimi & Churri",
          "Chimi & Churri",
          "Chimi & Churri",
          "Chimi & Churri",
          "Chimi & Churri",
          "Chimi & Churri",
          "Chimi & Churri",
          "Chimi & Churri",
          "Chimi & Churri",
          "Chimi & Churri",
          "Chimi & Churri",
          "Chimi & Churri",
          "Chimi & Churri",
          "Chimi & Churri",
          "Chimi & Churri",
          "Chimi & Churri",
          "Chimi & Churri",
          "Chimi & Churri",
          "Chimi & Churri",
          "Chimi & Churri",
          "Chimi & Churri",
          "Chimi & Churri",
          "Chimi & Churri",
          "Chimi & Churri",
          "Chimi & Churri",
          "Chimi & Churri",
          "Chimi & Churri",
          "Chimi & Churri",
          "Chimi & Churri",
          "Chimi & Churri",
          "Chimi & Churri",
          "Chimi & Churri",
          "Chimi & Churri",
          "Chimi & Churri",
          "Chimi & Churri",
          "Chimi & Churri",
          "Chimi & Churri",
          "Chimi & Churri",
          "Chimi & Churri",
          "Chimi & Churri",
          "Chimi & Churri",
          "Chimi & Churri",
          "Chimi & Churri",
          "Chimi & Churri",
          "Chimi & Churri",
          "Chimi & Churri",
          "Chimi & Churri",
          "Chimi & Churri",
          "Chimi & Churri",
          "Chimi & Churri",
          "Chimi & Churri",
          "Chimi & Churri",
          "Chimi & Churri",
          "Chimi & Churri",
          "Chimi & Churri",
          "Chimi & Churri",
          "Chimi & Churri",
          "Chimi & Churri",
          "Chimi & Churri",
          "Chimi & Churri",
          "Chimi & Churri",
          "Chimi & Churri",
          "Chimi & Churri",
          "Chimi & Churri",
          "Chimi & Churri",
          "Chimi & Churri",
          "Chimi & Churri",
          "Chimi & Churri",
          "Chimi & Churri",
          "Chimi & Churri",
          "Chimi & Churri",
          "Chimi & Churri",
          "Chimi & Churri",
          "Chimi & Churri",
          "Chimi & Churri",
          "Chimi & Churri",
          "Chimi & Churri",
          "Chimi & Churri",
          "Chimi & Churri",
          "Chimi & Churri",
          "Chimi & Churri",
          "Chimi & Churri",
          "Chimi & Churri",
          "Chimi & Churri",
          "Chimi & Churri",
          "Chimi & Churri",
          "Chimi & Churri",
          "Chimi & Churri",
          "Chimi & Churri",
          "Chimi & Churri",
          "Chimi & Churri",
          "Chimi & Churri",
          "Chimi & Churri",
          "Chimi & Churri",
          "Chimi & Churri",
          "Chimi & Churri",
          "Chimi & Churri",
          "Chimi & Churri",
          "Chimi & Churri",
          "Chimi & Churri",
          "Chimi & Churri",
          "Chimi & Churri",
          "Chimi & Churri",
          "Chimi & Churri",
          "Chimi & Churri",
          "Chimi & Churri",
          "Chimi & Churri",
          "Chimi & Churri",
          "Chimi & Churri",
          "Chimi & Churri",
          "Chimi & Churri",
          "Chimi & Churri",
          "Chimi & Churri",
          "Chimi & Churri",
          "Chimi & Churri",
          "Chimi & Churri",
          "Chimi & Churri",
          "Chimi & Churri",
          "Chimi & Churri",
          "Chimi & Churri",
          "Chimi & Churri",
          "Chimi & Churri",
          "Chimi & Churri",
          "Chimi & Churri",
          "Chimi & Churri",
          "Chimi & Churri",
          "Chimi & Churri",
          "Chimi & Churri",
          "Chimi & Churri",
          "Chimi & Churri",
          "Chimi & Churri",
          "Chimi & Churri",
          "Chimi & Churri",
          "Chimi & Churri",
          "Chimi & Churri",
          "Chimi & Churri",
          "Chimi & Churri",
          "Chimi & Churri",
          "Chimi & Churri",
          "Chimi & Churri",
          "Chimi & Churri",
          "Chimi & Churri",
          "Chimi & Churri",
          "Chimi & Churri",
          "Chimi & Churri",
          "Chimi & Churri",
          "Chimi & Churri",
          "Chimi & Churri",
          "Chimi & Churri",
          "Chimi & Churri",
          "Chimi & Churri",
          "Chimi & Churri",
          "Chimi & Churri",
          "Chimi & Churri",
          "Chimi & Churri",
          "Chimi & Churri",
          "Chimi & Churri",
          "Chimi & Churri",
          "Chimi & Churri",
          "Chimi & Churri",
          "Chimi & Churri",
          "Chimi & Churri",
          "Chimi & Churri",
          "Chimi & Churri",
          "Chimi & Churri",
          "Chimi & Churri",
          "Chimi & Churri",
          "Chimi & Churri",
          "Chimi & Churri",
          "Chimi & Churri",
          "Chimi & Churri",
          "Chimi & Churri",
          "Chimi & Churri",
          "Chimi & Churri",
          "Chimi & Churri",
          "Chimi & Churri",
          "Chimi & Churri",
          "Chimi & Churri",
          "Chimi & Churri",
          "Chimi & Churri",
          "Chimi & Churri",
          "Chimi & Churri",
          "Chimi & Churri",
          "Chimi & Churri",
          "Chimi & Churri",
          "Chimi & Churri",
          "Chimi & Churri",
          "Chimi & Churri",
          "Chimi & Churri",
          "Chimi & Churri",
          "Chimi & Churri",
          "Chimi & Churri",
          "Chimi & Churri",
          "Chimi & Churri",
          "Chimi & Churri",
          "Chimi & Churri",
          "Chimi & Churri",
          "Chimi & Churri",
          "Chimi & Churri",
          "Chimi & Churri",
          "Chimi & Churri",
          "Chimi & Churri",
          "Chimi & Churri",
          "Chimi & Churri",
          "Chimi & Churri",
          "Chimi & Churri",
          "Chimi & Churri",
          "Chimi & Churri",
          "Chimi & Churri",
          "Chimi & Churri",
          "Chimi & Churri",
          "Chimi & Churri",
          "Chimi & Churri",
          "Chimi & Churri",
          "Assa Frão",
          "Assa Frão",
          "Assa Frão",
          "Assa Frão",
          "Assa Frão",
          "Assa Frão",
          "Assa Frão",
          "Assa Frão",
          "Assa Frão",
          "Assa Frão",
          "Assa Frão",
          "Assa Frão",
          "Assa Frão",
          "Assa Frão",
          "Assa Frão",
          "Assa Frão",
          "Assa Frão",
          "Assa Frão",
          "Assa Frão",
          "Assa Frão",
          "Assa Frão",
          "Assa Frão",
          "Assa Frão",
          "Assa Frão",
          "Assa Frão",
          "Assa Frão",
          "Assa Frão",
          "Assa Frão",
          "Assa Frão",
          "Assa Frão",
          "Assa Frão",
          "Assa Frão",
          "Assa Frão",
          "Assa Frão",
          "Assa Frão",
          "Assa Frão",
          "Assa Frão",
          "Assa Frão",
          "Assa Frão",
          "Assa Frão",
          "Assa Frão",
          "Assa Frão",
          "Assa Frão",
          "Assa Frão",
          "Assa Frão",
          "Assa Frão",
          "Assa Frão",
          "Assa Frão",
          "Assa Frão",
          "Assa Frão",
          "Assa Frão",
          "Assa Frão",
          "Assa Frão",
          "Assa Frão",
          "Assa Frão",
          "Assa Frão",
          "Assa Frão",
          "Assa Frão",
          "Assa Frão",
          "Assa Frão",
          "Assa Frão",
          "Assa Frão",
          "Assa Frão",
          "Assa Frão",
          "Assa Frão",
          "Assa Frão",
          "Assa Frão",
          "Assa Frão",
          "Assa Frão",
          "Assa Frão",
          "Assa Frão",
          "Assa Frão",
          "Assa Frão",
          "Assa Frão",
          "Assa Frão",
          "Assa Frão",
          "Assa Frão",
          "Assa Frão",
          "Assa Frão",
          "Assa Frão",
          "Assa Frão",
          "Assa Frão",
          "Assa Frão",
          "Assa Frão",
          "Assa Frão",
          "Assa Frão",
          "Assa Frão",
          "Assa Frão",
          "Assa Frão",
          "Assa Frão",
          "Assa Frão",
          "Assa Frão",
          "Assa Frão",
          "Assa Frão",
          "Assa Frão",
          "Assa Frão",
          "Assa Frão",
          "Assa Frão",
          "Assa Frão",
          "Assa Frão",
          "Assa Frão",
          "Assa Frão",
          "Assa Frão",
          "Assa Frão",
          "Assa Frão",
          "Assa Frão",
          "Assa Frão",
          "Assa Frão",
          "Assa Frão",
          "Assa Frão",
          "Assa Frão",
          "Assa Frão",
          "Assa Frão",
          "Assa Frão",
          "Assa Frão",
          "Assa Frão",
          "Assa Frão",
          "Assa Frão",
          "Assa Frão",
          "Assa Frão",
          "Assa Frão",
          "Assa Frão",
          "Assa Frão",
          "Assa Frão",
          "Assa Frão",
          "Assa Frão",
          "Assa Frão",
          "Assa Frão",
          "Assa Frão",
          "Assa Frão",
          "Assa Frão",
          "Assa Frão",
          "Assa Frão",
          "Assa Frão",
          "Assa Frão",
          "Assa Frão",
          "Assa Frão",
          "Assa Frão",
          "Assa Frão",
          "Assa Frão",
          "Assa Frão",
          "Assa Frão",
          "Assa Frão",
          "Assa Frão",
          "Assa Frão",
          "Assa Frão",
          "Assa Frão",
          "Assa Frão",
          "Assa Frão",
          "Assa Frão",
          "Assa Frão",
          "Assa Frão",
          "Assa Frão",
          "Assa Frão",
          "Assa Frão",
          "Assa Frão",
          "Assa Frão",
          "Assa Frão",
          "Assa Frão",
          "Assa Frão",
          "Assa Frão",
          "Assa Frão",
          "Assa Frão",
          "Assa Frão",
          "Assa Frão",
          "Assa Frão",
          "Assa Frão",
          "Assa Frão",
          "Assa Frão",
          "Assa Frão",
          "Assa Frão",
          "Assa Frão",
          "Assa Frão",
          "Assa Frão",
          "Assa Frão",
          "Assa Frão",
          "Assa Frão",
          "Assa Frão",
          "Assa Frão",
          "Assa Frão",
          "Assa Frão",
          "Assa Frão",
          "Assa Frão",
          "Assa Frão",
          "Assa Frão",
          "Assa Frão",
          "Assa Frão",
          "Assa Frão",
          "Assa Frão",
          "Assa Frão",
          "Assa Frão",
          "Assa Frão",
          "Assa Frão",
          "Assa Frão",
          "Assa Frão",
          "Assa Frão",
          "Assa Frão",
          "Assa Frão",
          "Assa Frão",
          "Assa Frão",
          "Assa Frão",
          "Assa Frão",
          "Assa Frão",
          "Assa Frão",
          "Assa Frão",
          "Assa Frão",
          "Assa Frão",
          "Assa Frão",
          "Assa Frão",
          "Assa Frão",
          "Assa Frão",
          "Assa Frão",
          "Assa Frão",
          "Assa Frão",
          "Assa Frão",
          "Assa Frão",
          "Assa Frão",
          "Assa Frão",
          "Assa Frão",
          "Assa Frão",
          "Assa Frão",
          "Assa Frão",
          "Assa Frão",
          "Assa Frão",
          "Assa Frão",
          "Assa Frão",
          "Assa Frão",
          "Assa Frão",
          "Assa Frão",
          "Assa Frão",
          "Assa Frão",
          "Assa Frão",
          "Assa Frão",
          "Assa Frão",
          "Assa Frão",
          "Assa Frão",
          "Assa Frão",
          "Assa Frão",
          "Assa Frão",
          "Assa Frão",
          "Assa Frão",
          "Assa Frão",
          "Assa Frão",
          "Assa Frão",
          "Assa Frão",
          "Assa Frão",
          "Assa Frão",
          "Assa Frão",
          "Assa Frão",
          "Assa Frão",
          "Assa Frão",
          "Assa Frão",
          "Assa Frão",
          "Assa Frão",
          "Assa Frão",
          "Assa Frão",
          "Assa Frão",
          "Assa Frão",
          "Assa Frão",
          "Assa Frão",
          "Assa Frão",
          "Assa Frão",
          "Assa Frão",
          "Assa Frão",
          "Assa Frão",
          "Assa Frão",
          "Assa Frão",
          "Assa Frão",
          "Assa Frão",
          "Assa Frão",
          "Assa Frão",
          "Assa Frão",
          "Assa Frão",
          "Assa Frão",
          "Assa Frão",
          "Assa Frão",
          "Assa Frão",
          "Assa Frão",
          "Assa Frão",
          "Assa Frão",
          "Assa Frão",
          "Assa Frão",
          "Assa Frão",
          "Assa Frão",
          "Assa Frão",
          "Assa Frão",
          "Assa Frão",
          "Assa Frão",
          "Assa Frão",
          "Assa Frão",
          "Assa Frão",
          "Assa Frão",
          "Assa Frão",
          "Assa Frão",
          "Assa Frão",
          "Assa Frão",
          "Assa Frão",
          "Assa Frão",
          "Assa Frão",
          "Assa Frão",
          "Assa Frão",
          "Assa Frão",
          "Assa Frão",
          "Assa Frão",
          "Assa Frão",
          "Assa Frão",
          "Assa Frão",
          "Assa Frão",
          "Assa Frão",
          "Assa Frão",
          "Assa Frão",
          "Assa Frão",
          "Assa Frão",
          "Assa Frão",
          "Assa Frão",
          "Assa Frão",
          "Assa Frão",
          "Assa Frão",
          "Assa Frão",
          "Assa Frão",
          "Assa Frão",
          "Assa Frão",
          "Assa Frão",
          "Assa Frão",
          "Assa Frão",
          "Assa Frão",
          "Assa Frão",
          "Assa Frão",
          "Assa Frão",
          "Assa Frão",
          "Assa Frão",
          "Assa Frão",
          "Assa Frão",
          "Assa Frão",
          "Assa Frão",
          "Assa Frão",
          "Assa Frão",
          "Assa Frão",
          "Assa Frão",
          "Assa Frão",
          "Assa Frão",
          "Assa Frão",
          "Assa Frão",
          "Assa Frão",
          "Assa Frão",
          "Assa Frão",
          "Assa Frão",
          "Assa Frão",
          "Assa Frão",
          "Assa Frão",
          "Assa Frão",
          "Assa Frão",
          "Assa Frão",
          "Assa Frão",
          "Assa Frão",
          "Assa Frão",
          "Assa Frão",
          "Assa Frão",
          "Assa Frão",
          "Assa Frão",
          "Assa Frão",
          "Assa Frão",
          "Assa Frão",
          "Assa Frão",
          "Assa Frão",
          "Assa Frão",
          "Assa Frão",
          "Assa Frão",
          "Assa Frão",
          "Assa Frão",
          "Assa Frão",
          "Assa Frão",
          "Assa Frão",
          "Assa Frão",
          "Assa Frão",
          "Assa Frão",
          "Assa Frão",
          "Assa Frão",
          "Assa Frão",
          "Assa Frão",
          "Assa Frão",
          "Assa Frão",
          "Assa Frão",
          "Assa Frão",
          "Assa Frão",
          "Assa Frão",
          "Assa Frão",
          "Assa Frão",
          "Assa Frão",
          "Assa Frão",
          "Assa Frão",
          "Assa Frão",
          "Assa Frão",
          "Assa Frão",
          "Assa Frão",
          "Assa Frão",
          "Assa Frão",
          "Assa Frão",
          "Assa Frão",
          "Assa Frão",
          "Assa Frão",
          "Assa Frão",
          "Assa Frão",
          "Assa Frão",
          "Assa Frão",
          "Assa Frão",
          "Assa Frão",
          "Assa Frão",
          "Assa Frão",
          "Assa Frão",
          "Assa Frão",
          "Assa Frão",
          "Assa Frão",
          "Assa Frão",
          "Assa Frão",
          "Assa Frão",
          "Assa Frão",
          "Assa Frão",
          "Assa Frão",
          "Assa Frão",
          "Assa Frão",
          "Assa Frão",
          "Assa Frão",
          "Assa Frão",
          "Assa Frão",
          "Assa Frão",
          "Assa Frão",
          "Assa Frão",
          "Assa Frão",
          "Assa Frão",
          "Assa Frão",
          "Assa Frão",
          "Assa Frão",
          "Assa Frão",
          "Assa Frão",
          "Assa Frão",
          "Assa Frão",
          "Assa Frão",
          "Assa Frão",
          "Assa Frão",
          "Assa Frão",
          "Assa Frão",
          "Assa Frão",
          "Assa Frão",
          "Assa Frão",
          "Assa Frão",
          "Assa Frão",
          "Assa Frão",
          "Assa Frão",
          "Assa Frão",
          "Assa Frão",
          "Assa Frão",
          "Assa Frão",
          "Assa Frão",
          "Assa Frão",
          "Assa Frão",
          "Assa Frão",
          "Assa Frão",
          "Assa Frão",
          "Assa Frão",
          "Assa Frão",
          "Assa Frão",
          "Assa Frão",
          "Assa Frão",
          "Assa Frão",
          "Assa Frão",
          "Assa Frão",
          "Assa Frão",
          "Assa Frão",
          "Assa Frão",
          "Assa Frão",
          "Assa Frão",
          "Assa Frão",
          "Assa Frão",
          "Assa Frão",
          "Assa Frão",
          "Assa Frão",
          "Assa Frão"
         ],
         "x0": " ",
         "xaxis": "x",
         "y": [
          65,
          24,
          24,
          23,
          2,
          9,
          15,
          79,
          44,
          26,
          9,
          6,
          1,
          7,
          32,
          49,
          60,
          10,
          12,
          24,
          37,
          39,
          42,
          59,
          34,
          9,
          5,
          16,
          57,
          46,
          55,
          25,
          43,
          16,
          30,
          56,
          88,
          65,
          18,
          28,
          24,
          34,
          32,
          75,
          30,
          7,
          33,
          25,
          22,
          33,
          50,
          21,
          25,
          32,
          13,
          37,
          52,
          84,
          58,
          53,
          7,
          13,
          17,
          56,
          66,
          45,
          22,
          64,
          4,
          16,
          43,
          76,
          53,
          18,
          22,
          16,
          67,
          63,
          73,
          50,
          21,
          22,
          12,
          23,
          75,
          78,
          25,
          35,
          58,
          23,
          14,
          36,
          55,
          30,
          32,
          17,
          2,
          23,
          47,
          64,
          53,
          15,
          30,
          11,
          7,
          56,
          80,
          38,
          3,
          11,
          20,
          35,
          28,
          96,
          50,
          34,
          33,
          16,
          25,
          109,
          33,
          49,
          4,
          22,
          38,
          19,
          37,
          40,
          48,
          12,
          11,
          6,
          6,
          26,
          71,
          40,
          17,
          9,
          44,
          32,
          44,
          55,
          20,
          20,
          18,
          24,
          30,
          29,
          77,
          33,
          48,
          28,
          23,
          10,
          24,
          49,
          41,
          19,
          26,
          38,
          21,
          39,
          61,
          58,
          16,
          41,
          38,
          35,
          70,
          76,
          88,
          33,
          53,
          25,
          44,
          62,
          74,
          66,
          26,
          39,
          30,
          37,
          38,
          62,
          52,
          22,
          37,
          40,
          30,
          35,
          88,
          88,
          17,
          38,
          21,
          39,
          47,
          88,
          32,
          48,
          23,
          30,
          22,
          58,
          50,
          27,
          35,
          26,
          23,
          35,
          51,
          67,
          30,
          9,
          27,
          47,
          26,
          45,
          46,
          49,
          26,
          17,
          23,
          33,
          36,
          44,
          32,
          46,
          22,
          18,
          23,
          23,
          55,
          20,
          25,
          24,
          23,
          28,
          30,
          55,
          35,
          19,
          25,
          41,
          10,
          32,
          89,
          19,
          61,
          22,
          38,
          22,
          39,
          68,
          40,
          10,
          25,
          20,
          26,
          23,
          37,
          52,
          37,
          12,
          40,
          49,
          36,
          67,
          31,
          8,
          31,
          27,
          18,
          48,
          30,
          46,
          34,
          32,
          12,
          8,
          55,
          82,
          57,
          37,
          19,
          9,
          13,
          71,
          66,
          37,
          6,
          32,
          25,
          20,
          46,
          73,
          32,
          30,
          27,
          18,
          33,
          38,
          100,
          8,
          39,
          33,
          41,
          61,
          33,
          66,
          24,
          15,
          28,
          27,
          23,
          75,
          58,
          29,
          9,
          19,
          27,
          35,
          44,
          80,
          32,
          23,
          59,
          5,
          17,
          72,
          69,
          49,
          20,
          32,
          8,
          23,
          34,
          55,
          54,
          29,
          13,
          10,
          33,
          40,
          69,
          31,
          16,
          35,
          23,
          25,
          50,
          86,
          39,
          29,
          11,
          27,
          57,
          51,
          64,
          64,
          35,
          38,
          31,
          33,
          64,
          88,
          48,
          7,
          39,
          23,
          14,
          16,
          85,
          27,
          40,
          12,
          19,
          21,
          30,
          84,
          33,
          56,
          38,
          37,
          23,
          40,
          63,
          38,
          18,
          17,
          35,
          33,
          27,
          78,
          63,
          16,
          28,
          29,
          26,
          23,
          86,
          45,
          14,
          21,
          44,
          41,
          55,
          82,
          26,
          15,
          39,
          31,
          41,
          40,
          103,
          21,
          51,
          22,
          38,
          44,
          44,
          88,
          42,
          31,
          31,
          19,
          40,
          36,
          92,
          39,
          10,
          28,
          27,
          63,
          38,
          128,
          46,
          43,
          21,
          12,
          30,
          73,
          71,
          33,
          34,
          4,
          33,
          29,
          50,
          95,
          33,
          26,
          21,
          39,
          36,
          49,
          67,
          69,
          24,
          45,
          44,
          22,
          55,
          71,
          54,
          21,
          23,
          44,
          19,
          41,
          69,
          58,
          63,
          30,
          20,
          22,
          38,
          97,
          139,
          85,
          81,
          32,
          43,
          41,
          30,
          16,
          99,
          94,
          37,
          20,
          24,
          57,
          21,
          86,
          50,
          84,
          41,
          47,
          28,
          44,
          47,
          50,
          9,
          23,
          38,
          37,
          16,
          84,
          74,
          13,
          32,
          21,
          46,
          11,
          49,
          25,
          24,
          64,
          47,
          78,
          17,
          87,
          121,
          43,
          37,
          44,
          44,
          52,
          53,
          85,
          20,
          42,
          49,
          49,
          53,
          113,
          55,
          22,
          37,
          21,
          28,
          24,
          91,
          50,
          4,
          52,
          26,
          38,
          11,
          96,
          26,
          22,
          43,
          36,
          55,
          17,
          79,
          84,
          37,
          44,
          60,
          72,
          41,
          109,
          104,
          44,
          70,
          43,
          49,
          19,
          103,
          79,
          12,
          34,
          40,
          32,
          45,
          94,
          30,
          21,
          18,
          27,
          23,
          17,
          31,
          77,
          27,
          40,
          22,
          30,
          48,
          109,
          51,
          25,
          34,
          17,
          19,
          17,
          88,
          96,
          64,
          21,
          29,
          95,
          32,
          90,
          115,
          14,
          22,
          60,
          36,
          25,
          63,
          52,
          18,
          13,
          34,
          23,
          20,
          80,
          52,
          6,
          24,
          27,
          50,
          20,
          48,
          51,
          41,
          17,
          23,
          29,
          18,
          50,
          52,
          31,
          24,
          26,
          25,
          37,
          74,
          48,
          9,
          28,
          28,
          24,
          24,
          48,
          68,
          12,
          8,
          16,
          14,
          14,
          53,
          56,
          15,
          21,
          16,
          23,
          14,
          56,
          35,
          43,
          41,
          61,
          13,
          50,
          48,
          47,
          23,
          15,
          20,
          6,
          15,
          60,
          79,
          18,
          12,
          17,
          17,
          16,
          40,
          36,
          11,
          19,
          14,
          44,
          23,
          51,
          42,
          15,
          23,
          25,
          19,
          20,
          29,
          38,
          9,
          20,
          43,
          43,
          39,
          54,
          59,
          45,
          19,
          22,
          6,
          48,
          37,
          49,
          12,
          14,
          37,
          55,
          20,
          49,
          54,
          17,
          9,
          15,
          16,
          40,
          51,
          97,
          45,
          17,
          17,
          22,
          12,
          57,
          54,
          37,
          11,
          27,
          39,
          51,
          60,
          57,
          19,
          11,
          10,
          35,
          44,
          40,
          73,
          9,
          45,
          49,
          12,
          27,
          78,
          42,
          15,
          42,
          22,
          25,
          21,
          46,
          79,
          85,
          8,
          35,
          16,
          36,
          47,
          56,
          9,
          28,
          19,
          19,
          16,
          46,
          54,
          20,
          15,
          23,
          26,
          28,
          54,
          96,
          82,
          23,
          16,
          60,
          28,
          33,
          48,
          20,
          16,
          14,
          16,
          50,
          49,
          50,
          27,
          9,
          45,
          32,
          32,
          26,
          14,
          9,
          15,
          38,
          70,
          102,
          55,
          50,
          20,
          30,
          26,
          14,
          15,
          63,
          49,
          21,
          15,
          14,
          24,
          30,
          37,
          96,
          19,
          11,
          13,
          24,
          27,
          43,
          47,
          23,
          24,
          23,
          25,
          30,
          94,
          59,
          27,
          11,
          24,
          43,
          59,
          117,
          118,
          75,
          55,
          29,
          11,
          21,
          51,
          85,
          30,
          14,
          14,
          15,
          9,
          39,
          39,
          26,
          19,
          12,
          9,
          21,
          37,
          44,
          16,
          17,
          20,
          31,
          35,
          50,
          47,
          19,
          11,
          9,
          12,
          28,
          38,
          55,
          24,
          15,
          32,
          23,
          24,
          52,
          92,
          15,
          117,
          18,
          16,
          25,
          50,
          80,
          17,
          37,
          29,
          17,
          21,
          49,
          23,
          22,
          14,
          8,
          3,
          11,
          30,
          51,
          23,
          13,
          21,
          13,
          32,
          59,
          41,
          13,
          29,
          11,
          9,
          50,
          44,
          79,
          50,
          18,
          23,
          13,
          13,
          64,
          38,
          7,
          31,
          39,
          29,
          20,
          62,
          51,
          14,
          24,
          19,
          22,
          25,
          49,
          59,
          26,
          15,
          28,
          27,
          49,
          59,
          100,
          32,
          18,
          18,
          46,
          38,
          59
         ],
         "y0": " ",
         "yaxis": "y"
        }
       ],
       "layout": {
        "boxmode": "group",
        "legend": {
         "tracegroupgap": 0
        },
        "margin": {
         "t": 60
        },
        "template": {
         "data": {
          "bar": [
           {
            "error_x": {
             "color": "#2a3f5f"
            },
            "error_y": {
             "color": "#2a3f5f"
            },
            "marker": {
             "line": {
              "color": "#E5ECF6",
              "width": 0.5
             },
             "pattern": {
              "fillmode": "overlay",
              "size": 10,
              "solidity": 0.2
             }
            },
            "type": "bar"
           }
          ],
          "barpolar": [
           {
            "marker": {
             "line": {
              "color": "#E5ECF6",
              "width": 0.5
             },
             "pattern": {
              "fillmode": "overlay",
              "size": 10,
              "solidity": 0.2
             }
            },
            "type": "barpolar"
           }
          ],
          "carpet": [
           {
            "aaxis": {
             "endlinecolor": "#2a3f5f",
             "gridcolor": "white",
             "linecolor": "white",
             "minorgridcolor": "white",
             "startlinecolor": "#2a3f5f"
            },
            "baxis": {
             "endlinecolor": "#2a3f5f",
             "gridcolor": "white",
             "linecolor": "white",
             "minorgridcolor": "white",
             "startlinecolor": "#2a3f5f"
            },
            "type": "carpet"
           }
          ],
          "choropleth": [
           {
            "colorbar": {
             "outlinewidth": 0,
             "ticks": ""
            },
            "type": "choropleth"
           }
          ],
          "contour": [
           {
            "colorbar": {
             "outlinewidth": 0,
             "ticks": ""
            },
            "colorscale": [
             [
              0,
              "#0d0887"
             ],
             [
              0.1111111111111111,
              "#46039f"
             ],
             [
              0.2222222222222222,
              "#7201a8"
             ],
             [
              0.3333333333333333,
              "#9c179e"
             ],
             [
              0.4444444444444444,
              "#bd3786"
             ],
             [
              0.5555555555555556,
              "#d8576b"
             ],
             [
              0.6666666666666666,
              "#ed7953"
             ],
             [
              0.7777777777777778,
              "#fb9f3a"
             ],
             [
              0.8888888888888888,
              "#fdca26"
             ],
             [
              1,
              "#f0f921"
             ]
            ],
            "type": "contour"
           }
          ],
          "contourcarpet": [
           {
            "colorbar": {
             "outlinewidth": 0,
             "ticks": ""
            },
            "type": "contourcarpet"
           }
          ],
          "heatmap": [
           {
            "colorbar": {
             "outlinewidth": 0,
             "ticks": ""
            },
            "colorscale": [
             [
              0,
              "#0d0887"
             ],
             [
              0.1111111111111111,
              "#46039f"
             ],
             [
              0.2222222222222222,
              "#7201a8"
             ],
             [
              0.3333333333333333,
              "#9c179e"
             ],
             [
              0.4444444444444444,
              "#bd3786"
             ],
             [
              0.5555555555555556,
              "#d8576b"
             ],
             [
              0.6666666666666666,
              "#ed7953"
             ],
             [
              0.7777777777777778,
              "#fb9f3a"
             ],
             [
              0.8888888888888888,
              "#fdca26"
             ],
             [
              1,
              "#f0f921"
             ]
            ],
            "type": "heatmap"
           }
          ],
          "heatmapgl": [
           {
            "colorbar": {
             "outlinewidth": 0,
             "ticks": ""
            },
            "colorscale": [
             [
              0,
              "#0d0887"
             ],
             [
              0.1111111111111111,
              "#46039f"
             ],
             [
              0.2222222222222222,
              "#7201a8"
             ],
             [
              0.3333333333333333,
              "#9c179e"
             ],
             [
              0.4444444444444444,
              "#bd3786"
             ],
             [
              0.5555555555555556,
              "#d8576b"
             ],
             [
              0.6666666666666666,
              "#ed7953"
             ],
             [
              0.7777777777777778,
              "#fb9f3a"
             ],
             [
              0.8888888888888888,
              "#fdca26"
             ],
             [
              1,
              "#f0f921"
             ]
            ],
            "type": "heatmapgl"
           }
          ],
          "histogram": [
           {
            "marker": {
             "pattern": {
              "fillmode": "overlay",
              "size": 10,
              "solidity": 0.2
             }
            },
            "type": "histogram"
           }
          ],
          "histogram2d": [
           {
            "colorbar": {
             "outlinewidth": 0,
             "ticks": ""
            },
            "colorscale": [
             [
              0,
              "#0d0887"
             ],
             [
              0.1111111111111111,
              "#46039f"
             ],
             [
              0.2222222222222222,
              "#7201a8"
             ],
             [
              0.3333333333333333,
              "#9c179e"
             ],
             [
              0.4444444444444444,
              "#bd3786"
             ],
             [
              0.5555555555555556,
              "#d8576b"
             ],
             [
              0.6666666666666666,
              "#ed7953"
             ],
             [
              0.7777777777777778,
              "#fb9f3a"
             ],
             [
              0.8888888888888888,
              "#fdca26"
             ],
             [
              1,
              "#f0f921"
             ]
            ],
            "type": "histogram2d"
           }
          ],
          "histogram2dcontour": [
           {
            "colorbar": {
             "outlinewidth": 0,
             "ticks": ""
            },
            "colorscale": [
             [
              0,
              "#0d0887"
             ],
             [
              0.1111111111111111,
              "#46039f"
             ],
             [
              0.2222222222222222,
              "#7201a8"
             ],
             [
              0.3333333333333333,
              "#9c179e"
             ],
             [
              0.4444444444444444,
              "#bd3786"
             ],
             [
              0.5555555555555556,
              "#d8576b"
             ],
             [
              0.6666666666666666,
              "#ed7953"
             ],
             [
              0.7777777777777778,
              "#fb9f3a"
             ],
             [
              0.8888888888888888,
              "#fdca26"
             ],
             [
              1,
              "#f0f921"
             ]
            ],
            "type": "histogram2dcontour"
           }
          ],
          "mesh3d": [
           {
            "colorbar": {
             "outlinewidth": 0,
             "ticks": ""
            },
            "type": "mesh3d"
           }
          ],
          "parcoords": [
           {
            "line": {
             "colorbar": {
              "outlinewidth": 0,
              "ticks": ""
             }
            },
            "type": "parcoords"
           }
          ],
          "pie": [
           {
            "automargin": true,
            "type": "pie"
           }
          ],
          "scatter": [
           {
            "fillpattern": {
             "fillmode": "overlay",
             "size": 10,
             "solidity": 0.2
            },
            "type": "scatter"
           }
          ],
          "scatter3d": [
           {
            "line": {
             "colorbar": {
              "outlinewidth": 0,
              "ticks": ""
             }
            },
            "marker": {
             "colorbar": {
              "outlinewidth": 0,
              "ticks": ""
             }
            },
            "type": "scatter3d"
           }
          ],
          "scattercarpet": [
           {
            "marker": {
             "colorbar": {
              "outlinewidth": 0,
              "ticks": ""
             }
            },
            "type": "scattercarpet"
           }
          ],
          "scattergeo": [
           {
            "marker": {
             "colorbar": {
              "outlinewidth": 0,
              "ticks": ""
             }
            },
            "type": "scattergeo"
           }
          ],
          "scattergl": [
           {
            "marker": {
             "colorbar": {
              "outlinewidth": 0,
              "ticks": ""
             }
            },
            "type": "scattergl"
           }
          ],
          "scattermapbox": [
           {
            "marker": {
             "colorbar": {
              "outlinewidth": 0,
              "ticks": ""
             }
            },
            "type": "scattermapbox"
           }
          ],
          "scatterpolar": [
           {
            "marker": {
             "colorbar": {
              "outlinewidth": 0,
              "ticks": ""
             }
            },
            "type": "scatterpolar"
           }
          ],
          "scatterpolargl": [
           {
            "marker": {
             "colorbar": {
              "outlinewidth": 0,
              "ticks": ""
             }
            },
            "type": "scatterpolargl"
           }
          ],
          "scatterternary": [
           {
            "marker": {
             "colorbar": {
              "outlinewidth": 0,
              "ticks": ""
             }
            },
            "type": "scatterternary"
           }
          ],
          "surface": [
           {
            "colorbar": {
             "outlinewidth": 0,
             "ticks": ""
            },
            "colorscale": [
             [
              0,
              "#0d0887"
             ],
             [
              0.1111111111111111,
              "#46039f"
             ],
             [
              0.2222222222222222,
              "#7201a8"
             ],
             [
              0.3333333333333333,
              "#9c179e"
             ],
             [
              0.4444444444444444,
              "#bd3786"
             ],
             [
              0.5555555555555556,
              "#d8576b"
             ],
             [
              0.6666666666666666,
              "#ed7953"
             ],
             [
              0.7777777777777778,
              "#fb9f3a"
             ],
             [
              0.8888888888888888,
              "#fdca26"
             ],
             [
              1,
              "#f0f921"
             ]
            ],
            "type": "surface"
           }
          ],
          "table": [
           {
            "cells": {
             "fill": {
              "color": "#EBF0F8"
             },
             "line": {
              "color": "white"
             }
            },
            "header": {
             "fill": {
              "color": "#C8D4E3"
             },
             "line": {
              "color": "white"
             }
            },
            "type": "table"
           }
          ]
         },
         "layout": {
          "annotationdefaults": {
           "arrowcolor": "#2a3f5f",
           "arrowhead": 0,
           "arrowwidth": 1
          },
          "autotypenumbers": "strict",
          "coloraxis": {
           "colorbar": {
            "outlinewidth": 0,
            "ticks": ""
           }
          },
          "colorscale": {
           "diverging": [
            [
             0,
             "#8e0152"
            ],
            [
             0.1,
             "#c51b7d"
            ],
            [
             0.2,
             "#de77ae"
            ],
            [
             0.3,
             "#f1b6da"
            ],
            [
             0.4,
             "#fde0ef"
            ],
            [
             0.5,
             "#f7f7f7"
            ],
            [
             0.6,
             "#e6f5d0"
            ],
            [
             0.7,
             "#b8e186"
            ],
            [
             0.8,
             "#7fbc41"
            ],
            [
             0.9,
             "#4d9221"
            ],
            [
             1,
             "#276419"
            ]
           ],
           "sequential": [
            [
             0,
             "#0d0887"
            ],
            [
             0.1111111111111111,
             "#46039f"
            ],
            [
             0.2222222222222222,
             "#7201a8"
            ],
            [
             0.3333333333333333,
             "#9c179e"
            ],
            [
             0.4444444444444444,
             "#bd3786"
            ],
            [
             0.5555555555555556,
             "#d8576b"
            ],
            [
             0.6666666666666666,
             "#ed7953"
            ],
            [
             0.7777777777777778,
             "#fb9f3a"
            ],
            [
             0.8888888888888888,
             "#fdca26"
            ],
            [
             1,
             "#f0f921"
            ]
           ],
           "sequentialminus": [
            [
             0,
             "#0d0887"
            ],
            [
             0.1111111111111111,
             "#46039f"
            ],
            [
             0.2222222222222222,
             "#7201a8"
            ],
            [
             0.3333333333333333,
             "#9c179e"
            ],
            [
             0.4444444444444444,
             "#bd3786"
            ],
            [
             0.5555555555555556,
             "#d8576b"
            ],
            [
             0.6666666666666666,
             "#ed7953"
            ],
            [
             0.7777777777777778,
             "#fb9f3a"
            ],
            [
             0.8888888888888888,
             "#fdca26"
            ],
            [
             1,
             "#f0f921"
            ]
           ]
          },
          "colorway": [
           "#636efa",
           "#EF553B",
           "#00cc96",
           "#ab63fa",
           "#FFA15A",
           "#19d3f3",
           "#FF6692",
           "#B6E880",
           "#FF97FF",
           "#FECB52"
          ],
          "font": {
           "color": "#2a3f5f"
          },
          "geo": {
           "bgcolor": "white",
           "lakecolor": "white",
           "landcolor": "#E5ECF6",
           "showlakes": true,
           "showland": true,
           "subunitcolor": "white"
          },
          "hoverlabel": {
           "align": "left"
          },
          "hovermode": "closest",
          "mapbox": {
           "style": "light"
          },
          "paper_bgcolor": "white",
          "plot_bgcolor": "#E5ECF6",
          "polar": {
           "angularaxis": {
            "gridcolor": "white",
            "linecolor": "white",
            "ticks": ""
           },
           "bgcolor": "#E5ECF6",
           "radialaxis": {
            "gridcolor": "white",
            "linecolor": "white",
            "ticks": ""
           }
          },
          "scene": {
           "xaxis": {
            "backgroundcolor": "#E5ECF6",
            "gridcolor": "white",
            "gridwidth": 2,
            "linecolor": "white",
            "showbackground": true,
            "ticks": "",
            "zerolinecolor": "white"
           },
           "yaxis": {
            "backgroundcolor": "#E5ECF6",
            "gridcolor": "white",
            "gridwidth": 2,
            "linecolor": "white",
            "showbackground": true,
            "ticks": "",
            "zerolinecolor": "white"
           },
           "zaxis": {
            "backgroundcolor": "#E5ECF6",
            "gridcolor": "white",
            "gridwidth": 2,
            "linecolor": "white",
            "showbackground": true,
            "ticks": "",
            "zerolinecolor": "white"
           }
          },
          "shapedefaults": {
           "line": {
            "color": "#2a3f5f"
           }
          },
          "ternary": {
           "aaxis": {
            "gridcolor": "white",
            "linecolor": "white",
            "ticks": ""
           },
           "baxis": {
            "gridcolor": "white",
            "linecolor": "white",
            "ticks": ""
           },
           "bgcolor": "#E5ECF6",
           "caxis": {
            "gridcolor": "white",
            "linecolor": "white",
            "ticks": ""
           }
          },
          "title": {
           "x": 0.05
          },
          "xaxis": {
           "automargin": true,
           "gridcolor": "white",
           "linecolor": "white",
           "ticks": "",
           "title": {
            "standoff": 15
           },
           "zerolinecolor": "white",
           "zerolinewidth": 2
          },
          "yaxis": {
           "automargin": true,
           "gridcolor": "white",
           "linecolor": "white",
           "ticks": "",
           "title": {
            "standoff": 15
           },
           "zerolinecolor": "white",
           "zerolinewidth": 2
          }
         }
        },
        "xaxis": {
         "anchor": "y",
         "domain": [
          0,
          1
         ],
         "title": {
          "text": "variable"
         }
        },
        "yaxis": {
         "anchor": "x",
         "domain": [
          0,
          1
         ],
         "title": {
          "text": "value"
         }
        }
       }
      }
     },
     "metadata": {},
     "output_type": "display_data"
    }
   ],
   "source": [
    "px.box(dados[['Chimi & Churri', 'Assa Frão']])"
   ]
  },
  {
   "cell_type": "markdown",
   "metadata": {},
   "source": [
    "# Gerando inseghts"
   ]
  },
  {
   "cell_type": "code",
   "execution_count": 110,
   "metadata": {},
   "outputs": [],
   "source": [
    "dados['Total'] = dados.sum(axis=1)"
   ]
  },
  {
   "cell_type": "code",
   "execution_count": 111,
   "metadata": {},
   "outputs": [
    {
     "data": {
      "application/vnd.plotly.v1+json": {
       "config": {
        "plotlyServerURL": "https://plot.ly"
       },
       "data": [
        {
         "alignmentgroup": "True",
         "bingroup": "x",
         "hovertemplate": "variable=Total<br>value=%{x}<br>count=%{y}<extra></extra>",
         "legendgroup": "Total",
         "marker": {
          "color": "#636efa",
          "pattern": {
           "shape": ""
          }
         },
         "name": "Total",
         "offsetgroup": "Total",
         "orientation": "v",
         "showlegend": true,
         "texttemplate": "%{value}",
         "type": "histogram",
         "x": [
          204,
          109,
          105,
          55,
          45,
          50,
          45,
          95,
          143,
          120,
          46,
          26,
          25,
          64,
          53,
          135,
          110,
          94,
          53,
          71,
          65,
          83,
          89,
          109,
          43,
          32,
          43,
          53,
          73,
          130,
          129,
          38,
          75,
          37,
          76,
          67,
          137,
          90,
          42,
          92,
          71,
          112,
          49,
          162,
          151,
          50,
          70,
          69,
          66,
          85,
          103,
          106,
          45,
          74,
          62,
          86,
          105,
          197,
          113,
          75,
          44,
          34,
          45,
          80,
          157,
          95,
          26,
          116,
          30,
          54,
          54,
          172,
          79,
          40,
          65,
          52,
          122,
          80,
          152,
          134,
          58,
          66,
          72,
          95,
          116,
          187,
          129,
          79,
          128,
          66,
          63,
          55,
          158,
          109,
          44,
          51,
          42,
          55,
          92,
          158,
          83,
          36,
          48,
          38,
          30,
          73,
          111,
          115,
          30,
          51,
          42,
          65,
          76,
          205,
          101,
          59,
          67,
          33,
          44,
          126,
          121,
          145,
          68,
          43,
          67,
          114,
          69,
          130,
          163,
          26,
          33,
          66,
          42,
          51,
          134,
          92,
          35,
          22,
          78,
          55,
          64,
          135,
          72,
          26,
          42,
          51,
          80,
          49,
          125,
          84,
          89,
          45,
          46,
          39,
          42,
          99,
          93,
          50,
          50,
          64,
          46,
          76,
          135,
          106,
          25,
          69,
          66,
          59,
          94,
          124,
          156,
          45,
          61,
          41,
          58,
          76,
          127,
          122,
          41,
          60,
          46,
          60,
          52,
          118,
          87,
          65,
          78,
          101,
          43,
          85,
          136,
          135,
          40,
          53,
          41,
          45,
          62,
          148,
          111,
          66,
          35,
          47,
          39,
          74,
          90,
          63,
          46,
          45,
          37,
          79,
          74,
          118,
          72,
          24,
          50,
          72,
          45,
          65,
          75,
          87,
          35,
          37,
          66,
          76,
          75,
          98,
          91,
          91,
          41,
          40,
          29,
          71,
          92,
          69,
          37,
          38,
          60,
          83,
          50,
          104,
          89,
          36,
          34,
          56,
          26,
          72,
          140,
          116,
          106,
          39,
          55,
          44,
          51,
          125,
          94,
          47,
          36,
          47,
          65,
          74,
          97,
          109,
          56,
          23,
          50,
          84,
          80,
          107,
          104,
          17,
          76,
          76,
          30,
          75,
          108,
          88,
          49,
          74,
          34,
          33,
          76,
          128,
          136,
          122,
          27,
          44,
          29,
          107,
          113,
          93,
          15,
          60,
          44,
          39,
          62,
          119,
          86,
          50,
          42,
          41,
          59,
          66,
          154,
          104,
          121,
          56,
          57,
          121,
          61,
          99,
          72,
          35,
          44,
          41,
          39,
          125,
          107,
          79,
          36,
          28,
          72,
          67,
          76,
          106,
          46,
          32,
          74,
          43,
          87,
          174,
          124,
          99,
          40,
          62,
          34,
          37,
          49,
          118,
          103,
          50,
          28,
          24,
          57,
          70,
          106,
          127,
          35,
          46,
          36,
          49,
          77,
          129,
          86,
          52,
          35,
          50,
          82,
          81,
          158,
          123,
          62,
          49,
          55,
          76,
          123,
          205,
          166,
          82,
          94,
          52,
          25,
          37,
          136,
          112,
          70,
          26,
          33,
          36,
          39,
          123,
          72,
          82,
          57,
          49,
          32,
          61,
          100,
          82,
          34,
          34,
          55,
          64,
          62,
          128,
          110,
          35,
          39,
          38,
          38,
          51,
          124,
          100,
          38,
          36,
          76,
          64,
          79,
          134,
          118,
          30,
          156,
          49,
          57,
          65,
          153,
          101,
          68,
          59,
          67,
          61,
          65,
          137,
          65,
          53,
          45,
          27,
          43,
          47,
          122,
          90,
          33,
          41,
          48,
          76,
          70,
          187,
          87,
          56,
          50,
          23,
          39,
          123,
          115,
          112,
          84,
          22,
          56,
          42,
          63,
          159,
          71,
          33,
          52,
          78,
          65,
          69,
          129,
          120,
          38,
          69,
          63,
          44,
          80,
          120,
          113,
          47,
          38,
          72,
          46,
          90,
          128,
          158,
          95,
          48,
          38,
          68,
          76,
          156
         ],
         "xaxis": "x",
         "yaxis": "y"
        }
       ],
       "layout": {
        "barmode": "relative",
        "legend": {
         "title": {
          "text": "variable"
         },
         "tracegroupgap": 0
        },
        "margin": {
         "t": 60
        },
        "template": {
         "data": {
          "bar": [
           {
            "error_x": {
             "color": "#2a3f5f"
            },
            "error_y": {
             "color": "#2a3f5f"
            },
            "marker": {
             "line": {
              "color": "#E5ECF6",
              "width": 0.5
             },
             "pattern": {
              "fillmode": "overlay",
              "size": 10,
              "solidity": 0.2
             }
            },
            "type": "bar"
           }
          ],
          "barpolar": [
           {
            "marker": {
             "line": {
              "color": "#E5ECF6",
              "width": 0.5
             },
             "pattern": {
              "fillmode": "overlay",
              "size": 10,
              "solidity": 0.2
             }
            },
            "type": "barpolar"
           }
          ],
          "carpet": [
           {
            "aaxis": {
             "endlinecolor": "#2a3f5f",
             "gridcolor": "white",
             "linecolor": "white",
             "minorgridcolor": "white",
             "startlinecolor": "#2a3f5f"
            },
            "baxis": {
             "endlinecolor": "#2a3f5f",
             "gridcolor": "white",
             "linecolor": "white",
             "minorgridcolor": "white",
             "startlinecolor": "#2a3f5f"
            },
            "type": "carpet"
           }
          ],
          "choropleth": [
           {
            "colorbar": {
             "outlinewidth": 0,
             "ticks": ""
            },
            "type": "choropleth"
           }
          ],
          "contour": [
           {
            "colorbar": {
             "outlinewidth": 0,
             "ticks": ""
            },
            "colorscale": [
             [
              0,
              "#0d0887"
             ],
             [
              0.1111111111111111,
              "#46039f"
             ],
             [
              0.2222222222222222,
              "#7201a8"
             ],
             [
              0.3333333333333333,
              "#9c179e"
             ],
             [
              0.4444444444444444,
              "#bd3786"
             ],
             [
              0.5555555555555556,
              "#d8576b"
             ],
             [
              0.6666666666666666,
              "#ed7953"
             ],
             [
              0.7777777777777778,
              "#fb9f3a"
             ],
             [
              0.8888888888888888,
              "#fdca26"
             ],
             [
              1,
              "#f0f921"
             ]
            ],
            "type": "contour"
           }
          ],
          "contourcarpet": [
           {
            "colorbar": {
             "outlinewidth": 0,
             "ticks": ""
            },
            "type": "contourcarpet"
           }
          ],
          "heatmap": [
           {
            "colorbar": {
             "outlinewidth": 0,
             "ticks": ""
            },
            "colorscale": [
             [
              0,
              "#0d0887"
             ],
             [
              0.1111111111111111,
              "#46039f"
             ],
             [
              0.2222222222222222,
              "#7201a8"
             ],
             [
              0.3333333333333333,
              "#9c179e"
             ],
             [
              0.4444444444444444,
              "#bd3786"
             ],
             [
              0.5555555555555556,
              "#d8576b"
             ],
             [
              0.6666666666666666,
              "#ed7953"
             ],
             [
              0.7777777777777778,
              "#fb9f3a"
             ],
             [
              0.8888888888888888,
              "#fdca26"
             ],
             [
              1,
              "#f0f921"
             ]
            ],
            "type": "heatmap"
           }
          ],
          "heatmapgl": [
           {
            "colorbar": {
             "outlinewidth": 0,
             "ticks": ""
            },
            "colorscale": [
             [
              0,
              "#0d0887"
             ],
             [
              0.1111111111111111,
              "#46039f"
             ],
             [
              0.2222222222222222,
              "#7201a8"
             ],
             [
              0.3333333333333333,
              "#9c179e"
             ],
             [
              0.4444444444444444,
              "#bd3786"
             ],
             [
              0.5555555555555556,
              "#d8576b"
             ],
             [
              0.6666666666666666,
              "#ed7953"
             ],
             [
              0.7777777777777778,
              "#fb9f3a"
             ],
             [
              0.8888888888888888,
              "#fdca26"
             ],
             [
              1,
              "#f0f921"
             ]
            ],
            "type": "heatmapgl"
           }
          ],
          "histogram": [
           {
            "marker": {
             "pattern": {
              "fillmode": "overlay",
              "size": 10,
              "solidity": 0.2
             }
            },
            "type": "histogram"
           }
          ],
          "histogram2d": [
           {
            "colorbar": {
             "outlinewidth": 0,
             "ticks": ""
            },
            "colorscale": [
             [
              0,
              "#0d0887"
             ],
             [
              0.1111111111111111,
              "#46039f"
             ],
             [
              0.2222222222222222,
              "#7201a8"
             ],
             [
              0.3333333333333333,
              "#9c179e"
             ],
             [
              0.4444444444444444,
              "#bd3786"
             ],
             [
              0.5555555555555556,
              "#d8576b"
             ],
             [
              0.6666666666666666,
              "#ed7953"
             ],
             [
              0.7777777777777778,
              "#fb9f3a"
             ],
             [
              0.8888888888888888,
              "#fdca26"
             ],
             [
              1,
              "#f0f921"
             ]
            ],
            "type": "histogram2d"
           }
          ],
          "histogram2dcontour": [
           {
            "colorbar": {
             "outlinewidth": 0,
             "ticks": ""
            },
            "colorscale": [
             [
              0,
              "#0d0887"
             ],
             [
              0.1111111111111111,
              "#46039f"
             ],
             [
              0.2222222222222222,
              "#7201a8"
             ],
             [
              0.3333333333333333,
              "#9c179e"
             ],
             [
              0.4444444444444444,
              "#bd3786"
             ],
             [
              0.5555555555555556,
              "#d8576b"
             ],
             [
              0.6666666666666666,
              "#ed7953"
             ],
             [
              0.7777777777777778,
              "#fb9f3a"
             ],
             [
              0.8888888888888888,
              "#fdca26"
             ],
             [
              1,
              "#f0f921"
             ]
            ],
            "type": "histogram2dcontour"
           }
          ],
          "mesh3d": [
           {
            "colorbar": {
             "outlinewidth": 0,
             "ticks": ""
            },
            "type": "mesh3d"
           }
          ],
          "parcoords": [
           {
            "line": {
             "colorbar": {
              "outlinewidth": 0,
              "ticks": ""
             }
            },
            "type": "parcoords"
           }
          ],
          "pie": [
           {
            "automargin": true,
            "type": "pie"
           }
          ],
          "scatter": [
           {
            "fillpattern": {
             "fillmode": "overlay",
             "size": 10,
             "solidity": 0.2
            },
            "type": "scatter"
           }
          ],
          "scatter3d": [
           {
            "line": {
             "colorbar": {
              "outlinewidth": 0,
              "ticks": ""
             }
            },
            "marker": {
             "colorbar": {
              "outlinewidth": 0,
              "ticks": ""
             }
            },
            "type": "scatter3d"
           }
          ],
          "scattercarpet": [
           {
            "marker": {
             "colorbar": {
              "outlinewidth": 0,
              "ticks": ""
             }
            },
            "type": "scattercarpet"
           }
          ],
          "scattergeo": [
           {
            "marker": {
             "colorbar": {
              "outlinewidth": 0,
              "ticks": ""
             }
            },
            "type": "scattergeo"
           }
          ],
          "scattergl": [
           {
            "marker": {
             "colorbar": {
              "outlinewidth": 0,
              "ticks": ""
             }
            },
            "type": "scattergl"
           }
          ],
          "scattermapbox": [
           {
            "marker": {
             "colorbar": {
              "outlinewidth": 0,
              "ticks": ""
             }
            },
            "type": "scattermapbox"
           }
          ],
          "scatterpolar": [
           {
            "marker": {
             "colorbar": {
              "outlinewidth": 0,
              "ticks": ""
             }
            },
            "type": "scatterpolar"
           }
          ],
          "scatterpolargl": [
           {
            "marker": {
             "colorbar": {
              "outlinewidth": 0,
              "ticks": ""
             }
            },
            "type": "scatterpolargl"
           }
          ],
          "scatterternary": [
           {
            "marker": {
             "colorbar": {
              "outlinewidth": 0,
              "ticks": ""
             }
            },
            "type": "scatterternary"
           }
          ],
          "surface": [
           {
            "colorbar": {
             "outlinewidth": 0,
             "ticks": ""
            },
            "colorscale": [
             [
              0,
              "#0d0887"
             ],
             [
              0.1111111111111111,
              "#46039f"
             ],
             [
              0.2222222222222222,
              "#7201a8"
             ],
             [
              0.3333333333333333,
              "#9c179e"
             ],
             [
              0.4444444444444444,
              "#bd3786"
             ],
             [
              0.5555555555555556,
              "#d8576b"
             ],
             [
              0.6666666666666666,
              "#ed7953"
             ],
             [
              0.7777777777777778,
              "#fb9f3a"
             ],
             [
              0.8888888888888888,
              "#fdca26"
             ],
             [
              1,
              "#f0f921"
             ]
            ],
            "type": "surface"
           }
          ],
          "table": [
           {
            "cells": {
             "fill": {
              "color": "#EBF0F8"
             },
             "line": {
              "color": "white"
             }
            },
            "header": {
             "fill": {
              "color": "#C8D4E3"
             },
             "line": {
              "color": "white"
             }
            },
            "type": "table"
           }
          ]
         },
         "layout": {
          "annotationdefaults": {
           "arrowcolor": "#2a3f5f",
           "arrowhead": 0,
           "arrowwidth": 1
          },
          "autotypenumbers": "strict",
          "coloraxis": {
           "colorbar": {
            "outlinewidth": 0,
            "ticks": ""
           }
          },
          "colorscale": {
           "diverging": [
            [
             0,
             "#8e0152"
            ],
            [
             0.1,
             "#c51b7d"
            ],
            [
             0.2,
             "#de77ae"
            ],
            [
             0.3,
             "#f1b6da"
            ],
            [
             0.4,
             "#fde0ef"
            ],
            [
             0.5,
             "#f7f7f7"
            ],
            [
             0.6,
             "#e6f5d0"
            ],
            [
             0.7,
             "#b8e186"
            ],
            [
             0.8,
             "#7fbc41"
            ],
            [
             0.9,
             "#4d9221"
            ],
            [
             1,
             "#276419"
            ]
           ],
           "sequential": [
            [
             0,
             "#0d0887"
            ],
            [
             0.1111111111111111,
             "#46039f"
            ],
            [
             0.2222222222222222,
             "#7201a8"
            ],
            [
             0.3333333333333333,
             "#9c179e"
            ],
            [
             0.4444444444444444,
             "#bd3786"
            ],
            [
             0.5555555555555556,
             "#d8576b"
            ],
            [
             0.6666666666666666,
             "#ed7953"
            ],
            [
             0.7777777777777778,
             "#fb9f3a"
            ],
            [
             0.8888888888888888,
             "#fdca26"
            ],
            [
             1,
             "#f0f921"
            ]
           ],
           "sequentialminus": [
            [
             0,
             "#0d0887"
            ],
            [
             0.1111111111111111,
             "#46039f"
            ],
            [
             0.2222222222222222,
             "#7201a8"
            ],
            [
             0.3333333333333333,
             "#9c179e"
            ],
            [
             0.4444444444444444,
             "#bd3786"
            ],
            [
             0.5555555555555556,
             "#d8576b"
            ],
            [
             0.6666666666666666,
             "#ed7953"
            ],
            [
             0.7777777777777778,
             "#fb9f3a"
            ],
            [
             0.8888888888888888,
             "#fdca26"
            ],
            [
             1,
             "#f0f921"
            ]
           ]
          },
          "colorway": [
           "#636efa",
           "#EF553B",
           "#00cc96",
           "#ab63fa",
           "#FFA15A",
           "#19d3f3",
           "#FF6692",
           "#B6E880",
           "#FF97FF",
           "#FECB52"
          ],
          "font": {
           "color": "#2a3f5f"
          },
          "geo": {
           "bgcolor": "white",
           "lakecolor": "white",
           "landcolor": "#E5ECF6",
           "showlakes": true,
           "showland": true,
           "subunitcolor": "white"
          },
          "hoverlabel": {
           "align": "left"
          },
          "hovermode": "closest",
          "mapbox": {
           "style": "light"
          },
          "paper_bgcolor": "white",
          "plot_bgcolor": "#E5ECF6",
          "polar": {
           "angularaxis": {
            "gridcolor": "white",
            "linecolor": "white",
            "ticks": ""
           },
           "bgcolor": "#E5ECF6",
           "radialaxis": {
            "gridcolor": "white",
            "linecolor": "white",
            "ticks": ""
           }
          },
          "scene": {
           "xaxis": {
            "backgroundcolor": "#E5ECF6",
            "gridcolor": "white",
            "gridwidth": 2,
            "linecolor": "white",
            "showbackground": true,
            "ticks": "",
            "zerolinecolor": "white"
           },
           "yaxis": {
            "backgroundcolor": "#E5ECF6",
            "gridcolor": "white",
            "gridwidth": 2,
            "linecolor": "white",
            "showbackground": true,
            "ticks": "",
            "zerolinecolor": "white"
           },
           "zaxis": {
            "backgroundcolor": "#E5ECF6",
            "gridcolor": "white",
            "gridwidth": 2,
            "linecolor": "white",
            "showbackground": true,
            "ticks": "",
            "zerolinecolor": "white"
           }
          },
          "shapedefaults": {
           "line": {
            "color": "#2a3f5f"
           }
          },
          "ternary": {
           "aaxis": {
            "gridcolor": "white",
            "linecolor": "white",
            "ticks": ""
           },
           "baxis": {
            "gridcolor": "white",
            "linecolor": "white",
            "ticks": ""
           },
           "bgcolor": "#E5ECF6",
           "caxis": {
            "gridcolor": "white",
            "linecolor": "white",
            "ticks": ""
           }
          },
          "title": {
           "x": 0.05
          },
          "xaxis": {
           "automargin": true,
           "gridcolor": "white",
           "linecolor": "white",
           "ticks": "",
           "title": {
            "standoff": 15
           },
           "zerolinecolor": "white",
           "zerolinewidth": 2
          },
          "yaxis": {
           "automargin": true,
           "gridcolor": "white",
           "linecolor": "white",
           "ticks": "",
           "title": {
            "standoff": 15
           },
           "zerolinecolor": "white",
           "zerolinewidth": 2
          }
         }
        },
        "xaxis": {
         "anchor": "y",
         "domain": [
          0,
          1
         ],
         "title": {
          "text": "value"
         }
        },
        "yaxis": {
         "anchor": "x",
         "domain": [
          0,
          1
         ],
         "title": {
          "text": "count"
         }
        }
       }
      }
     },
     "metadata": {},
     "output_type": "display_data"
    }
   ],
   "source": [
    "px.histogram(dados[\"Total\"], text_auto=True)"
   ]
  },
  {
   "cell_type": "markdown",
   "metadata": {},
   "source": [
    "# Gráfico de linha"
   ]
  },
  {
   "cell_type": "code",
   "execution_count": 112,
   "metadata": {},
   "outputs": [
    {
     "data": {
      "application/vnd.plotly.v1+json": {
       "config": {
        "plotlyServerURL": "https://plot.ly"
       },
       "data": [
        {
         "hovertemplate": "variable=Total<br>data=%{x}<br>value=%{y}<extra></extra>",
         "legendgroup": "Total",
         "line": {
          "color": "#636efa",
          "dash": "solid"
         },
         "marker": {
          "symbol": "circle"
         },
         "mode": "lines+markers",
         "name": "Total",
         "orientation": "v",
         "showlegend": true,
         "type": "scatter",
         "x": [
          "2016-01-01T00:00:00",
          "2016-01-02T00:00:00",
          "2016-01-03T00:00:00",
          "2016-01-04T00:00:00",
          "2016-01-05T00:00:00",
          "2016-01-06T00:00:00",
          "2016-01-07T00:00:00",
          "2016-01-08T00:00:00",
          "2016-01-09T00:00:00",
          "2016-01-10T00:00:00",
          "2016-01-11T00:00:00",
          "2016-01-12T00:00:00",
          "2016-01-13T00:00:00",
          "2016-01-14T00:00:00",
          "2016-01-15T00:00:00",
          "2016-01-16T00:00:00",
          "2016-01-17T00:00:00",
          "2016-01-18T00:00:00",
          "2016-01-19T00:00:00",
          "2016-01-20T00:00:00",
          "2016-01-21T00:00:00",
          "2016-01-22T00:00:00",
          "2016-01-23T00:00:00",
          "2016-01-24T00:00:00",
          "2016-01-25T00:00:00",
          "2016-01-26T00:00:00",
          "2016-01-27T00:00:00",
          "2016-01-28T00:00:00",
          "2016-01-29T00:00:00",
          "2016-01-30T00:00:00",
          "2016-01-31T00:00:00",
          "2016-02-01T00:00:00",
          "2016-02-02T00:00:00",
          "2016-02-03T00:00:00",
          "2016-02-04T00:00:00",
          "2016-02-05T00:00:00",
          "2016-02-06T00:00:00",
          "2016-02-07T00:00:00",
          "2016-02-08T00:00:00",
          "2016-02-09T00:00:00",
          "2016-02-10T00:00:00",
          "2016-02-11T00:00:00",
          "2016-02-12T00:00:00",
          "2016-02-13T00:00:00",
          "2016-02-14T00:00:00",
          "2016-02-15T00:00:00",
          "2016-02-16T00:00:00",
          "2016-02-17T00:00:00",
          "2016-02-18T00:00:00",
          "2016-02-19T00:00:00",
          "2016-02-20T00:00:00",
          "2016-02-21T00:00:00",
          "2016-02-22T00:00:00",
          "2016-02-23T00:00:00",
          "2016-02-24T00:00:00",
          "2016-02-25T00:00:00",
          "2016-02-26T00:00:00",
          "2016-02-27T00:00:00",
          "2016-02-28T00:00:00",
          "2016-02-29T00:00:00",
          "2016-03-01T00:00:00",
          "2016-03-02T00:00:00",
          "2016-03-03T00:00:00",
          "2016-03-04T00:00:00",
          "2016-03-05T00:00:00",
          "2016-03-06T00:00:00",
          "2016-03-07T00:00:00",
          "2016-03-08T00:00:00",
          "2016-03-09T00:00:00",
          "2016-03-10T00:00:00",
          "2016-03-11T00:00:00",
          "2016-03-12T00:00:00",
          "2016-03-13T00:00:00",
          "2016-03-14T00:00:00",
          "2016-03-15T00:00:00",
          "2016-03-16T00:00:00",
          "2016-03-17T00:00:00",
          "2016-03-18T00:00:00",
          "2016-03-19T00:00:00",
          "2016-03-20T00:00:00",
          "2016-03-21T00:00:00",
          "2016-03-22T00:00:00",
          "2016-03-23T00:00:00",
          "2016-03-24T00:00:00",
          "2016-03-25T00:00:00",
          "2016-03-26T00:00:00",
          "2016-03-27T00:00:00",
          "2016-03-28T00:00:00",
          "2016-03-29T00:00:00",
          "2016-03-30T00:00:00",
          "2016-03-31T00:00:00",
          "2016-04-01T00:00:00",
          "2016-04-02T00:00:00",
          "2016-04-03T00:00:00",
          "2016-04-04T00:00:00",
          "2016-04-05T00:00:00",
          "2016-04-06T00:00:00",
          "2016-04-07T00:00:00",
          "2016-04-08T00:00:00",
          "2016-04-09T00:00:00",
          "2016-04-10T00:00:00",
          "2016-04-11T00:00:00",
          "2016-04-12T00:00:00",
          "2016-04-13T00:00:00",
          "2016-04-14T00:00:00",
          "2016-04-15T00:00:00",
          "2016-04-16T00:00:00",
          "2016-04-17T00:00:00",
          "2016-04-18T00:00:00",
          "2016-04-19T00:00:00",
          "2016-04-20T00:00:00",
          "2016-04-21T00:00:00",
          "2016-04-22T00:00:00",
          "2016-04-23T00:00:00",
          "2016-04-24T00:00:00",
          "2016-04-25T00:00:00",
          "2016-04-26T00:00:00",
          "2016-04-27T00:00:00",
          "2016-04-28T00:00:00",
          "2016-04-29T00:00:00",
          "2016-04-30T00:00:00",
          "2016-05-01T00:00:00",
          "2016-05-02T00:00:00",
          "2016-05-03T00:00:00",
          "2016-05-04T00:00:00",
          "2016-05-05T00:00:00",
          "2016-05-06T00:00:00",
          "2016-05-07T00:00:00",
          "2016-05-08T00:00:00",
          "2016-05-09T00:00:00",
          "2016-05-10T00:00:00",
          "2016-05-11T00:00:00",
          "2016-05-12T00:00:00",
          "2016-05-13T00:00:00",
          "2016-05-14T00:00:00",
          "2016-05-15T00:00:00",
          "2016-05-16T00:00:00",
          "2016-05-17T00:00:00",
          "2016-05-18T00:00:00",
          "2016-05-19T00:00:00",
          "2016-05-20T00:00:00",
          "2016-05-21T00:00:00",
          "2016-05-22T00:00:00",
          "2016-05-23T00:00:00",
          "2016-05-24T00:00:00",
          "2016-05-25T00:00:00",
          "2016-05-26T00:00:00",
          "2016-05-27T00:00:00",
          "2016-05-28T00:00:00",
          "2016-05-29T00:00:00",
          "2016-05-30T00:00:00",
          "2016-05-31T00:00:00",
          "2016-06-01T00:00:00",
          "2016-06-02T00:00:00",
          "2016-06-03T00:00:00",
          "2016-06-04T00:00:00",
          "2016-06-05T00:00:00",
          "2016-06-06T00:00:00",
          "2016-06-07T00:00:00",
          "2016-06-08T00:00:00",
          "2016-06-09T00:00:00",
          "2016-06-10T00:00:00",
          "2016-06-11T00:00:00",
          "2016-06-12T00:00:00",
          "2016-06-13T00:00:00",
          "2016-06-14T00:00:00",
          "2016-06-15T00:00:00",
          "2016-06-16T00:00:00",
          "2016-06-17T00:00:00",
          "2016-06-18T00:00:00",
          "2016-06-19T00:00:00",
          "2016-06-20T00:00:00",
          "2016-06-21T00:00:00",
          "2016-06-22T00:00:00",
          "2016-06-23T00:00:00",
          "2016-06-24T00:00:00",
          "2016-06-25T00:00:00",
          "2016-06-26T00:00:00",
          "2016-06-27T00:00:00",
          "2016-06-28T00:00:00",
          "2016-06-29T00:00:00",
          "2016-06-30T00:00:00",
          "2016-07-01T00:00:00",
          "2016-07-02T00:00:00",
          "2016-07-03T00:00:00",
          "2016-07-04T00:00:00",
          "2016-07-05T00:00:00",
          "2016-07-06T00:00:00",
          "2016-07-07T00:00:00",
          "2016-07-08T00:00:00",
          "2016-07-09T00:00:00",
          "2016-07-10T00:00:00",
          "2016-07-11T00:00:00",
          "2016-07-12T00:00:00",
          "2016-07-13T00:00:00",
          "2016-07-14T00:00:00",
          "2016-07-15T00:00:00",
          "2016-07-16T00:00:00",
          "2016-07-17T00:00:00",
          "2016-07-18T00:00:00",
          "2016-07-19T00:00:00",
          "2016-07-20T00:00:00",
          "2016-07-21T00:00:00",
          "2016-07-22T00:00:00",
          "2016-07-23T00:00:00",
          "2016-07-24T00:00:00",
          "2016-07-25T00:00:00",
          "2016-07-26T00:00:00",
          "2016-07-27T00:00:00",
          "2016-07-28T00:00:00",
          "2016-07-29T00:00:00",
          "2016-07-30T00:00:00",
          "2016-07-31T00:00:00",
          "2016-08-01T00:00:00",
          "2016-08-02T00:00:00",
          "2016-08-03T00:00:00",
          "2016-08-04T00:00:00",
          "2016-08-05T00:00:00",
          "2016-08-06T00:00:00",
          "2016-08-07T00:00:00",
          "2016-08-08T00:00:00",
          "2016-08-09T00:00:00",
          "2016-08-10T00:00:00",
          "2016-08-11T00:00:00",
          "2016-08-12T00:00:00",
          "2016-08-13T00:00:00",
          "2016-08-14T00:00:00",
          "2016-08-15T00:00:00",
          "2016-08-16T00:00:00",
          "2016-08-17T00:00:00",
          "2016-08-18T00:00:00",
          "2016-08-19T00:00:00",
          "2016-08-20T00:00:00",
          "2016-08-21T00:00:00",
          "2016-08-22T00:00:00",
          "2016-08-23T00:00:00",
          "2016-08-24T00:00:00",
          "2016-08-25T00:00:00",
          "2016-08-26T00:00:00",
          "2016-08-27T00:00:00",
          "2016-08-28T00:00:00",
          "2016-08-29T00:00:00",
          "2016-08-30T00:00:00",
          "2016-08-31T00:00:00",
          "2016-09-01T00:00:00",
          "2016-09-02T00:00:00",
          "2016-09-03T00:00:00",
          "2016-09-04T00:00:00",
          "2016-09-05T00:00:00",
          "2016-09-06T00:00:00",
          "2016-09-07T00:00:00",
          "2016-09-08T00:00:00",
          "2016-09-09T00:00:00",
          "2016-09-10T00:00:00",
          "2016-09-11T00:00:00",
          "2016-09-12T00:00:00",
          "2016-09-13T00:00:00",
          "2016-09-14T00:00:00",
          "2016-09-15T00:00:00",
          "2016-09-16T00:00:00",
          "2016-09-17T00:00:00",
          "2016-09-18T00:00:00",
          "2016-09-19T00:00:00",
          "2016-09-20T00:00:00",
          "2016-09-21T00:00:00",
          "2016-09-22T00:00:00",
          "2016-09-23T00:00:00",
          "2016-09-24T00:00:00",
          "2016-09-25T00:00:00",
          "2016-09-26T00:00:00",
          "2016-09-27T00:00:00",
          "2016-09-28T00:00:00",
          "2016-09-29T00:00:00",
          "2016-09-30T00:00:00",
          "2016-10-01T00:00:00",
          "2016-10-02T00:00:00",
          "2016-10-03T00:00:00",
          "2016-10-04T00:00:00",
          "2016-10-05T00:00:00",
          "2016-10-06T00:00:00",
          "2016-10-07T00:00:00",
          "2016-10-08T00:00:00",
          "2016-10-09T00:00:00",
          "2016-10-10T00:00:00",
          "2016-10-11T00:00:00",
          "2016-10-12T00:00:00",
          "2016-10-13T00:00:00",
          "2016-10-14T00:00:00",
          "2016-10-15T00:00:00",
          "2016-10-16T00:00:00",
          "2016-10-17T00:00:00",
          "2016-10-18T00:00:00",
          "2016-10-19T00:00:00",
          "2016-10-20T00:00:00",
          "2016-10-21T00:00:00",
          "2016-10-22T00:00:00",
          "2016-10-23T00:00:00",
          "2016-10-24T00:00:00",
          "2016-10-25T00:00:00",
          "2016-10-26T00:00:00",
          "2016-10-27T00:00:00",
          "2016-10-28T00:00:00",
          "2016-10-29T00:00:00",
          "2016-10-30T00:00:00",
          "2016-10-31T00:00:00",
          "2016-11-01T00:00:00",
          "2016-11-02T00:00:00",
          "2016-11-03T00:00:00",
          "2016-11-04T00:00:00",
          "2016-11-05T00:00:00",
          "2016-11-06T00:00:00",
          "2016-11-07T00:00:00",
          "2016-11-08T00:00:00",
          "2016-11-09T00:00:00",
          "2016-11-10T00:00:00",
          "2016-11-11T00:00:00",
          "2016-11-12T00:00:00",
          "2016-11-13T00:00:00",
          "2016-11-14T00:00:00",
          "2016-11-15T00:00:00",
          "2016-11-16T00:00:00",
          "2016-11-17T00:00:00",
          "2016-11-18T00:00:00",
          "2016-11-19T00:00:00",
          "2016-11-20T00:00:00",
          "2016-11-21T00:00:00",
          "2016-11-22T00:00:00",
          "2016-11-23T00:00:00",
          "2016-11-24T00:00:00",
          "2016-11-25T00:00:00",
          "2016-11-26T00:00:00",
          "2016-11-27T00:00:00",
          "2016-11-28T00:00:00",
          "2016-11-29T00:00:00",
          "2016-11-30T00:00:00",
          "2016-12-01T00:00:00",
          "2016-12-02T00:00:00",
          "2016-12-03T00:00:00",
          "2016-12-04T00:00:00",
          "2016-12-05T00:00:00",
          "2016-12-06T00:00:00",
          "2016-12-07T00:00:00",
          "2016-12-08T00:00:00",
          "2016-12-09T00:00:00",
          "2016-12-10T00:00:00",
          "2016-12-11T00:00:00",
          "2016-12-12T00:00:00",
          "2016-12-13T00:00:00",
          "2016-12-14T00:00:00",
          "2016-12-15T00:00:00",
          "2016-12-16T00:00:00",
          "2016-12-17T00:00:00",
          "2016-12-18T00:00:00",
          "2016-12-19T00:00:00",
          "2016-12-20T00:00:00",
          "2016-12-21T00:00:00",
          "2016-12-22T00:00:00",
          "2016-12-23T00:00:00",
          "2016-12-24T00:00:00",
          "2016-12-25T00:00:00",
          "2016-12-26T00:00:00",
          "2016-12-27T00:00:00",
          "2016-12-28T00:00:00",
          "2016-12-29T00:00:00",
          "2016-12-30T00:00:00",
          "2016-12-31T00:00:00",
          "2017-01-01T00:00:00",
          "2017-01-02T00:00:00",
          "2017-01-03T00:00:00",
          "2017-01-04T00:00:00",
          "2017-01-05T00:00:00",
          "2017-01-06T00:00:00",
          "2017-01-07T00:00:00",
          "2017-01-08T00:00:00",
          "2017-01-09T00:00:00",
          "2017-01-10T00:00:00",
          "2017-01-11T00:00:00",
          "2017-01-12T00:00:00",
          "2017-01-13T00:00:00",
          "2017-01-14T00:00:00",
          "2017-01-15T00:00:00",
          "2017-01-16T00:00:00",
          "2017-01-17T00:00:00",
          "2017-01-18T00:00:00",
          "2017-01-19T00:00:00",
          "2017-01-20T00:00:00",
          "2017-01-21T00:00:00",
          "2017-01-22T00:00:00",
          "2017-01-23T00:00:00",
          "2017-01-24T00:00:00",
          "2017-01-25T00:00:00",
          "2017-01-26T00:00:00",
          "2017-01-27T00:00:00",
          "2017-01-28T00:00:00",
          "2017-01-29T00:00:00",
          "2017-01-30T00:00:00",
          "2017-01-31T00:00:00",
          "2017-02-01T00:00:00",
          "2017-02-02T00:00:00",
          "2017-02-03T00:00:00",
          "2017-02-04T00:00:00",
          "2017-02-05T00:00:00",
          "2017-02-06T00:00:00",
          "2017-02-07T00:00:00",
          "2017-02-08T00:00:00",
          "2017-02-09T00:00:00",
          "2017-02-10T00:00:00",
          "2017-02-11T00:00:00",
          "2017-02-12T00:00:00",
          "2017-02-13T00:00:00",
          "2017-02-14T00:00:00",
          "2017-02-15T00:00:00",
          "2017-02-16T00:00:00",
          "2017-02-17T00:00:00",
          "2017-02-18T00:00:00",
          "2017-02-19T00:00:00",
          "2017-02-20T00:00:00",
          "2017-02-21T00:00:00",
          "2017-02-22T00:00:00",
          "2017-02-23T00:00:00",
          "2017-02-24T00:00:00",
          "2017-02-25T00:00:00",
          "2017-02-26T00:00:00",
          "2017-02-27T00:00:00",
          "2017-02-28T00:00:00",
          "2017-03-01T00:00:00",
          "2017-03-02T00:00:00",
          "2017-03-03T00:00:00",
          "2017-03-04T00:00:00",
          "2017-03-05T00:00:00",
          "2017-03-06T00:00:00",
          "2017-03-07T00:00:00",
          "2017-03-08T00:00:00",
          "2017-03-09T00:00:00",
          "2017-03-10T00:00:00",
          "2017-03-11T00:00:00",
          "2017-03-12T00:00:00",
          "2017-03-13T00:00:00",
          "2017-03-14T00:00:00",
          "2017-03-15T00:00:00",
          "2017-03-16T00:00:00",
          "2017-03-17T00:00:00",
          "2017-03-18T00:00:00",
          "2017-03-19T00:00:00",
          "2017-03-20T00:00:00",
          "2017-03-21T00:00:00",
          "2017-03-22T00:00:00",
          "2017-03-23T00:00:00",
          "2017-03-24T00:00:00",
          "2017-03-25T00:00:00",
          "2017-03-26T00:00:00",
          "2017-03-27T00:00:00",
          "2017-03-28T00:00:00",
          "2017-03-29T00:00:00",
          "2017-03-30T00:00:00",
          "2017-03-31T00:00:00",
          "2017-04-01T00:00:00",
          "2017-04-02T00:00:00",
          "2017-04-03T00:00:00",
          "2017-04-04T00:00:00",
          "2017-04-05T00:00:00",
          "2017-04-06T00:00:00",
          "2017-04-07T00:00:00",
          "2017-04-08T00:00:00",
          "2017-04-09T00:00:00",
          "2017-04-10T00:00:00",
          "2017-04-11T00:00:00",
          "2017-04-12T00:00:00",
          "2017-04-13T00:00:00",
          "2017-04-14T00:00:00",
          "2017-04-15T00:00:00",
          "2017-04-16T00:00:00",
          "2017-04-17T00:00:00",
          "2017-04-18T00:00:00",
          "2017-04-19T00:00:00",
          "2017-04-20T00:00:00",
          "2017-04-21T00:00:00",
          "2017-04-22T00:00:00"
         ],
         "xaxis": "x",
         "y": [
          204,
          109,
          105,
          55,
          45,
          50,
          45,
          95,
          143,
          120,
          46,
          26,
          25,
          64,
          53,
          135,
          110,
          94,
          53,
          71,
          65,
          83,
          89,
          109,
          43,
          32,
          43,
          53,
          73,
          130,
          129,
          38,
          75,
          37,
          76,
          67,
          137,
          90,
          42,
          92,
          71,
          112,
          49,
          162,
          151,
          50,
          70,
          69,
          66,
          85,
          103,
          106,
          45,
          74,
          62,
          86,
          105,
          197,
          113,
          75,
          44,
          34,
          45,
          80,
          157,
          95,
          26,
          116,
          30,
          54,
          54,
          172,
          79,
          40,
          65,
          52,
          122,
          80,
          152,
          134,
          58,
          66,
          72,
          95,
          116,
          187,
          129,
          79,
          128,
          66,
          63,
          55,
          158,
          109,
          44,
          51,
          42,
          55,
          92,
          158,
          83,
          36,
          48,
          38,
          30,
          73,
          111,
          115,
          30,
          51,
          42,
          65,
          76,
          205,
          101,
          59,
          67,
          33,
          44,
          126,
          121,
          145,
          68,
          43,
          67,
          114,
          69,
          130,
          163,
          26,
          33,
          66,
          42,
          51,
          134,
          92,
          35,
          22,
          78,
          55,
          64,
          135,
          72,
          26,
          42,
          51,
          80,
          49,
          125,
          84,
          89,
          45,
          46,
          39,
          42,
          99,
          93,
          50,
          50,
          64,
          46,
          76,
          135,
          106,
          25,
          69,
          66,
          59,
          94,
          124,
          156,
          45,
          61,
          41,
          58,
          76,
          127,
          122,
          41,
          60,
          46,
          60,
          52,
          118,
          87,
          65,
          78,
          101,
          43,
          85,
          136,
          135,
          40,
          53,
          41,
          45,
          62,
          148,
          111,
          66,
          35,
          47,
          39,
          74,
          90,
          63,
          46,
          45,
          37,
          79,
          74,
          118,
          72,
          24,
          50,
          72,
          45,
          65,
          75,
          87,
          35,
          37,
          66,
          76,
          75,
          98,
          91,
          91,
          41,
          40,
          29,
          71,
          92,
          69,
          37,
          38,
          60,
          83,
          50,
          104,
          89,
          36,
          34,
          56,
          26,
          72,
          140,
          116,
          106,
          39,
          55,
          44,
          51,
          125,
          94,
          47,
          36,
          47,
          65,
          74,
          97,
          109,
          56,
          23,
          50,
          84,
          80,
          107,
          104,
          17,
          76,
          76,
          30,
          75,
          108,
          88,
          49,
          74,
          34,
          33,
          76,
          128,
          136,
          122,
          27,
          44,
          29,
          107,
          113,
          93,
          15,
          60,
          44,
          39,
          62,
          119,
          86,
          50,
          42,
          41,
          59,
          66,
          154,
          104,
          121,
          56,
          57,
          121,
          61,
          99,
          72,
          35,
          44,
          41,
          39,
          125,
          107,
          79,
          36,
          28,
          72,
          67,
          76,
          106,
          46,
          32,
          74,
          43,
          87,
          174,
          124,
          99,
          40,
          62,
          34,
          37,
          49,
          118,
          103,
          50,
          28,
          24,
          57,
          70,
          106,
          127,
          35,
          46,
          36,
          49,
          77,
          129,
          86,
          52,
          35,
          50,
          82,
          81,
          158,
          123,
          62,
          49,
          55,
          76,
          123,
          205,
          166,
          82,
          94,
          52,
          25,
          37,
          136,
          112,
          70,
          26,
          33,
          36,
          39,
          123,
          72,
          82,
          57,
          49,
          32,
          61,
          100,
          82,
          34,
          34,
          55,
          64,
          62,
          128,
          110,
          35,
          39,
          38,
          38,
          51,
          124,
          100,
          38,
          36,
          76,
          64,
          79,
          134,
          118,
          30,
          156,
          49,
          57,
          65,
          153,
          101,
          68,
          59,
          67,
          61,
          65,
          137,
          65,
          53,
          45,
          27,
          43,
          47,
          122,
          90,
          33,
          41,
          48,
          76,
          70,
          187,
          87,
          56,
          50,
          23,
          39,
          123,
          115,
          112,
          84,
          22,
          56,
          42,
          63,
          159,
          71,
          33,
          52,
          78,
          65,
          69,
          129,
          120,
          38,
          69,
          63,
          44,
          80,
          120,
          113,
          47,
          38,
          72,
          46,
          90,
          128,
          158,
          95,
          48,
          38,
          68,
          76,
          156
         ],
         "yaxis": "y"
        }
       ],
       "layout": {
        "legend": {
         "title": {
          "text": "variable"
         },
         "tracegroupgap": 0
        },
        "margin": {
         "t": 60
        },
        "template": {
         "data": {
          "bar": [
           {
            "error_x": {
             "color": "#2a3f5f"
            },
            "error_y": {
             "color": "#2a3f5f"
            },
            "marker": {
             "line": {
              "color": "#E5ECF6",
              "width": 0.5
             },
             "pattern": {
              "fillmode": "overlay",
              "size": 10,
              "solidity": 0.2
             }
            },
            "type": "bar"
           }
          ],
          "barpolar": [
           {
            "marker": {
             "line": {
              "color": "#E5ECF6",
              "width": 0.5
             },
             "pattern": {
              "fillmode": "overlay",
              "size": 10,
              "solidity": 0.2
             }
            },
            "type": "barpolar"
           }
          ],
          "carpet": [
           {
            "aaxis": {
             "endlinecolor": "#2a3f5f",
             "gridcolor": "white",
             "linecolor": "white",
             "minorgridcolor": "white",
             "startlinecolor": "#2a3f5f"
            },
            "baxis": {
             "endlinecolor": "#2a3f5f",
             "gridcolor": "white",
             "linecolor": "white",
             "minorgridcolor": "white",
             "startlinecolor": "#2a3f5f"
            },
            "type": "carpet"
           }
          ],
          "choropleth": [
           {
            "colorbar": {
             "outlinewidth": 0,
             "ticks": ""
            },
            "type": "choropleth"
           }
          ],
          "contour": [
           {
            "colorbar": {
             "outlinewidth": 0,
             "ticks": ""
            },
            "colorscale": [
             [
              0,
              "#0d0887"
             ],
             [
              0.1111111111111111,
              "#46039f"
             ],
             [
              0.2222222222222222,
              "#7201a8"
             ],
             [
              0.3333333333333333,
              "#9c179e"
             ],
             [
              0.4444444444444444,
              "#bd3786"
             ],
             [
              0.5555555555555556,
              "#d8576b"
             ],
             [
              0.6666666666666666,
              "#ed7953"
             ],
             [
              0.7777777777777778,
              "#fb9f3a"
             ],
             [
              0.8888888888888888,
              "#fdca26"
             ],
             [
              1,
              "#f0f921"
             ]
            ],
            "type": "contour"
           }
          ],
          "contourcarpet": [
           {
            "colorbar": {
             "outlinewidth": 0,
             "ticks": ""
            },
            "type": "contourcarpet"
           }
          ],
          "heatmap": [
           {
            "colorbar": {
             "outlinewidth": 0,
             "ticks": ""
            },
            "colorscale": [
             [
              0,
              "#0d0887"
             ],
             [
              0.1111111111111111,
              "#46039f"
             ],
             [
              0.2222222222222222,
              "#7201a8"
             ],
             [
              0.3333333333333333,
              "#9c179e"
             ],
             [
              0.4444444444444444,
              "#bd3786"
             ],
             [
              0.5555555555555556,
              "#d8576b"
             ],
             [
              0.6666666666666666,
              "#ed7953"
             ],
             [
              0.7777777777777778,
              "#fb9f3a"
             ],
             [
              0.8888888888888888,
              "#fdca26"
             ],
             [
              1,
              "#f0f921"
             ]
            ],
            "type": "heatmap"
           }
          ],
          "heatmapgl": [
           {
            "colorbar": {
             "outlinewidth": 0,
             "ticks": ""
            },
            "colorscale": [
             [
              0,
              "#0d0887"
             ],
             [
              0.1111111111111111,
              "#46039f"
             ],
             [
              0.2222222222222222,
              "#7201a8"
             ],
             [
              0.3333333333333333,
              "#9c179e"
             ],
             [
              0.4444444444444444,
              "#bd3786"
             ],
             [
              0.5555555555555556,
              "#d8576b"
             ],
             [
              0.6666666666666666,
              "#ed7953"
             ],
             [
              0.7777777777777778,
              "#fb9f3a"
             ],
             [
              0.8888888888888888,
              "#fdca26"
             ],
             [
              1,
              "#f0f921"
             ]
            ],
            "type": "heatmapgl"
           }
          ],
          "histogram": [
           {
            "marker": {
             "pattern": {
              "fillmode": "overlay",
              "size": 10,
              "solidity": 0.2
             }
            },
            "type": "histogram"
           }
          ],
          "histogram2d": [
           {
            "colorbar": {
             "outlinewidth": 0,
             "ticks": ""
            },
            "colorscale": [
             [
              0,
              "#0d0887"
             ],
             [
              0.1111111111111111,
              "#46039f"
             ],
             [
              0.2222222222222222,
              "#7201a8"
             ],
             [
              0.3333333333333333,
              "#9c179e"
             ],
             [
              0.4444444444444444,
              "#bd3786"
             ],
             [
              0.5555555555555556,
              "#d8576b"
             ],
             [
              0.6666666666666666,
              "#ed7953"
             ],
             [
              0.7777777777777778,
              "#fb9f3a"
             ],
             [
              0.8888888888888888,
              "#fdca26"
             ],
             [
              1,
              "#f0f921"
             ]
            ],
            "type": "histogram2d"
           }
          ],
          "histogram2dcontour": [
           {
            "colorbar": {
             "outlinewidth": 0,
             "ticks": ""
            },
            "colorscale": [
             [
              0,
              "#0d0887"
             ],
             [
              0.1111111111111111,
              "#46039f"
             ],
             [
              0.2222222222222222,
              "#7201a8"
             ],
             [
              0.3333333333333333,
              "#9c179e"
             ],
             [
              0.4444444444444444,
              "#bd3786"
             ],
             [
              0.5555555555555556,
              "#d8576b"
             ],
             [
              0.6666666666666666,
              "#ed7953"
             ],
             [
              0.7777777777777778,
              "#fb9f3a"
             ],
             [
              0.8888888888888888,
              "#fdca26"
             ],
             [
              1,
              "#f0f921"
             ]
            ],
            "type": "histogram2dcontour"
           }
          ],
          "mesh3d": [
           {
            "colorbar": {
             "outlinewidth": 0,
             "ticks": ""
            },
            "type": "mesh3d"
           }
          ],
          "parcoords": [
           {
            "line": {
             "colorbar": {
              "outlinewidth": 0,
              "ticks": ""
             }
            },
            "type": "parcoords"
           }
          ],
          "pie": [
           {
            "automargin": true,
            "type": "pie"
           }
          ],
          "scatter": [
           {
            "fillpattern": {
             "fillmode": "overlay",
             "size": 10,
             "solidity": 0.2
            },
            "type": "scatter"
           }
          ],
          "scatter3d": [
           {
            "line": {
             "colorbar": {
              "outlinewidth": 0,
              "ticks": ""
             }
            },
            "marker": {
             "colorbar": {
              "outlinewidth": 0,
              "ticks": ""
             }
            },
            "type": "scatter3d"
           }
          ],
          "scattercarpet": [
           {
            "marker": {
             "colorbar": {
              "outlinewidth": 0,
              "ticks": ""
             }
            },
            "type": "scattercarpet"
           }
          ],
          "scattergeo": [
           {
            "marker": {
             "colorbar": {
              "outlinewidth": 0,
              "ticks": ""
             }
            },
            "type": "scattergeo"
           }
          ],
          "scattergl": [
           {
            "marker": {
             "colorbar": {
              "outlinewidth": 0,
              "ticks": ""
             }
            },
            "type": "scattergl"
           }
          ],
          "scattermapbox": [
           {
            "marker": {
             "colorbar": {
              "outlinewidth": 0,
              "ticks": ""
             }
            },
            "type": "scattermapbox"
           }
          ],
          "scatterpolar": [
           {
            "marker": {
             "colorbar": {
              "outlinewidth": 0,
              "ticks": ""
             }
            },
            "type": "scatterpolar"
           }
          ],
          "scatterpolargl": [
           {
            "marker": {
             "colorbar": {
              "outlinewidth": 0,
              "ticks": ""
             }
            },
            "type": "scatterpolargl"
           }
          ],
          "scatterternary": [
           {
            "marker": {
             "colorbar": {
              "outlinewidth": 0,
              "ticks": ""
             }
            },
            "type": "scatterternary"
           }
          ],
          "surface": [
           {
            "colorbar": {
             "outlinewidth": 0,
             "ticks": ""
            },
            "colorscale": [
             [
              0,
              "#0d0887"
             ],
             [
              0.1111111111111111,
              "#46039f"
             ],
             [
              0.2222222222222222,
              "#7201a8"
             ],
             [
              0.3333333333333333,
              "#9c179e"
             ],
             [
              0.4444444444444444,
              "#bd3786"
             ],
             [
              0.5555555555555556,
              "#d8576b"
             ],
             [
              0.6666666666666666,
              "#ed7953"
             ],
             [
              0.7777777777777778,
              "#fb9f3a"
             ],
             [
              0.8888888888888888,
              "#fdca26"
             ],
             [
              1,
              "#f0f921"
             ]
            ],
            "type": "surface"
           }
          ],
          "table": [
           {
            "cells": {
             "fill": {
              "color": "#EBF0F8"
             },
             "line": {
              "color": "white"
             }
            },
            "header": {
             "fill": {
              "color": "#C8D4E3"
             },
             "line": {
              "color": "white"
             }
            },
            "type": "table"
           }
          ]
         },
         "layout": {
          "annotationdefaults": {
           "arrowcolor": "#2a3f5f",
           "arrowhead": 0,
           "arrowwidth": 1
          },
          "autotypenumbers": "strict",
          "coloraxis": {
           "colorbar": {
            "outlinewidth": 0,
            "ticks": ""
           }
          },
          "colorscale": {
           "diverging": [
            [
             0,
             "#8e0152"
            ],
            [
             0.1,
             "#c51b7d"
            ],
            [
             0.2,
             "#de77ae"
            ],
            [
             0.3,
             "#f1b6da"
            ],
            [
             0.4,
             "#fde0ef"
            ],
            [
             0.5,
             "#f7f7f7"
            ],
            [
             0.6,
             "#e6f5d0"
            ],
            [
             0.7,
             "#b8e186"
            ],
            [
             0.8,
             "#7fbc41"
            ],
            [
             0.9,
             "#4d9221"
            ],
            [
             1,
             "#276419"
            ]
           ],
           "sequential": [
            [
             0,
             "#0d0887"
            ],
            [
             0.1111111111111111,
             "#46039f"
            ],
            [
             0.2222222222222222,
             "#7201a8"
            ],
            [
             0.3333333333333333,
             "#9c179e"
            ],
            [
             0.4444444444444444,
             "#bd3786"
            ],
            [
             0.5555555555555556,
             "#d8576b"
            ],
            [
             0.6666666666666666,
             "#ed7953"
            ],
            [
             0.7777777777777778,
             "#fb9f3a"
            ],
            [
             0.8888888888888888,
             "#fdca26"
            ],
            [
             1,
             "#f0f921"
            ]
           ],
           "sequentialminus": [
            [
             0,
             "#0d0887"
            ],
            [
             0.1111111111111111,
             "#46039f"
            ],
            [
             0.2222222222222222,
             "#7201a8"
            ],
            [
             0.3333333333333333,
             "#9c179e"
            ],
            [
             0.4444444444444444,
             "#bd3786"
            ],
            [
             0.5555555555555556,
             "#d8576b"
            ],
            [
             0.6666666666666666,
             "#ed7953"
            ],
            [
             0.7777777777777778,
             "#fb9f3a"
            ],
            [
             0.8888888888888888,
             "#fdca26"
            ],
            [
             1,
             "#f0f921"
            ]
           ]
          },
          "colorway": [
           "#636efa",
           "#EF553B",
           "#00cc96",
           "#ab63fa",
           "#FFA15A",
           "#19d3f3",
           "#FF6692",
           "#B6E880",
           "#FF97FF",
           "#FECB52"
          ],
          "font": {
           "color": "#2a3f5f"
          },
          "geo": {
           "bgcolor": "white",
           "lakecolor": "white",
           "landcolor": "#E5ECF6",
           "showlakes": true,
           "showland": true,
           "subunitcolor": "white"
          },
          "hoverlabel": {
           "align": "left"
          },
          "hovermode": "closest",
          "mapbox": {
           "style": "light"
          },
          "paper_bgcolor": "white",
          "plot_bgcolor": "#E5ECF6",
          "polar": {
           "angularaxis": {
            "gridcolor": "white",
            "linecolor": "white",
            "ticks": ""
           },
           "bgcolor": "#E5ECF6",
           "radialaxis": {
            "gridcolor": "white",
            "linecolor": "white",
            "ticks": ""
           }
          },
          "scene": {
           "xaxis": {
            "backgroundcolor": "#E5ECF6",
            "gridcolor": "white",
            "gridwidth": 2,
            "linecolor": "white",
            "showbackground": true,
            "ticks": "",
            "zerolinecolor": "white"
           },
           "yaxis": {
            "backgroundcolor": "#E5ECF6",
            "gridcolor": "white",
            "gridwidth": 2,
            "linecolor": "white",
            "showbackground": true,
            "ticks": "",
            "zerolinecolor": "white"
           },
           "zaxis": {
            "backgroundcolor": "#E5ECF6",
            "gridcolor": "white",
            "gridwidth": 2,
            "linecolor": "white",
            "showbackground": true,
            "ticks": "",
            "zerolinecolor": "white"
           }
          },
          "shapedefaults": {
           "line": {
            "color": "#2a3f5f"
           }
          },
          "ternary": {
           "aaxis": {
            "gridcolor": "white",
            "linecolor": "white",
            "ticks": ""
           },
           "baxis": {
            "gridcolor": "white",
            "linecolor": "white",
            "ticks": ""
           },
           "bgcolor": "#E5ECF6",
           "caxis": {
            "gridcolor": "white",
            "linecolor": "white",
            "ticks": ""
           }
          },
          "title": {
           "x": 0.05
          },
          "xaxis": {
           "automargin": true,
           "gridcolor": "white",
           "linecolor": "white",
           "ticks": "",
           "title": {
            "standoff": 15
           },
           "zerolinecolor": "white",
           "zerolinewidth": 2
          },
          "yaxis": {
           "automargin": true,
           "gridcolor": "white",
           "linecolor": "white",
           "ticks": "",
           "title": {
            "standoff": 15
           },
           "zerolinecolor": "white",
           "zerolinewidth": 2
          }
         }
        },
        "width": 5000,
        "xaxis": {
         "anchor": "y",
         "domain": [
          0,
          1
         ],
         "title": {
          "text": "data"
         }
        },
        "yaxis": {
         "anchor": "x",
         "domain": [
          0,
          1
         ],
         "title": {
          "text": "value"
         }
        }
       }
      }
     },
     "metadata": {},
     "output_type": "display_data"
    }
   ],
   "source": [
    "px.line(dados[\"Total\"], markers=True, width=5000)"
   ]
  },
  {
   "cell_type": "markdown",
   "metadata": {},
   "source": [
    "# Encontrando a quantidade mensal de clientes"
   ]
  },
  {
   "cell_type": "code",
   "execution_count": 113,
   "metadata": {},
   "outputs": [
    {
     "data": {
      "text/html": [
       "<div>\n",
       "<style scoped>\n",
       "    .dataframe tbody tr th:only-of-type {\n",
       "        vertical-align: middle;\n",
       "    }\n",
       "\n",
       "    .dataframe tbody tr th {\n",
       "        vertical-align: top;\n",
       "    }\n",
       "\n",
       "    .dataframe thead th {\n",
       "        text-align: right;\n",
       "    }\n",
       "</style>\n",
       "<table border=\"1\" class=\"dataframe\">\n",
       "  <thead>\n",
       "    <tr style=\"text-align: right;\">\n",
       "      <th></th>\n",
       "      <th>Chimi &amp; Churri</th>\n",
       "      <th>Assa Frão</th>\n",
       "    </tr>\n",
       "    <tr>\n",
       "      <th>data</th>\n",
       "      <th></th>\n",
       "      <th></th>\n",
       "    </tr>\n",
       "  </thead>\n",
       "  <tbody>\n",
       "    <tr>\n",
       "      <th>2016-01-31</th>\n",
       "      <td>920</td>\n",
       "      <td>1577</td>\n",
       "    </tr>\n",
       "    <tr>\n",
       "      <th>2016-02-29</th>\n",
       "      <td>1109</td>\n",
       "      <td>1396</td>\n",
       "    </tr>\n",
       "    <tr>\n",
       "      <th>2016-03-31</th>\n",
       "      <td>1177</td>\n",
       "      <td>1513</td>\n",
       "    </tr>\n",
       "    <tr>\n",
       "      <th>2016-04-30</th>\n",
       "      <td>1089</td>\n",
       "      <td>1229</td>\n",
       "    </tr>\n",
       "    <tr>\n",
       "      <th>2016-05-31</th>\n",
       "      <td>957</td>\n",
       "      <td>1338</td>\n",
       "    </tr>\n",
       "    <tr>\n",
       "      <th>2016-06-30</th>\n",
       "      <td>1262</td>\n",
       "      <td>914</td>\n",
       "    </tr>\n",
       "    <tr>\n",
       "      <th>2016-07-31</th>\n",
       "      <td>1299</td>\n",
       "      <td>986</td>\n",
       "    </tr>\n",
       "    <tr>\n",
       "      <th>2016-08-31</th>\n",
       "      <td>972</td>\n",
       "      <td>944</td>\n",
       "    </tr>\n",
       "    <tr>\n",
       "      <th>2016-09-30</th>\n",
       "      <td>1037</td>\n",
       "      <td>1084</td>\n",
       "    </tr>\n",
       "    <tr>\n",
       "      <th>2016-10-31</th>\n",
       "      <td>1135</td>\n",
       "      <td>1188</td>\n",
       "    </tr>\n",
       "    <tr>\n",
       "      <th>2016-11-30</th>\n",
       "      <td>1113</td>\n",
       "      <td>1023</td>\n",
       "    </tr>\n",
       "    <tr>\n",
       "      <th>2016-12-31</th>\n",
       "      <td>1257</td>\n",
       "      <td>1121</td>\n",
       "    </tr>\n",
       "    <tr>\n",
       "      <th>2017-01-31</th>\n",
       "      <td>1108</td>\n",
       "      <td>1019</td>\n",
       "    </tr>\n",
       "    <tr>\n",
       "      <th>2017-02-28</th>\n",
       "      <td>1173</td>\n",
       "      <td>954</td>\n",
       "    </tr>\n",
       "    <tr>\n",
       "      <th>2017-03-31</th>\n",
       "      <td>1298</td>\n",
       "      <td>885</td>\n",
       "    </tr>\n",
       "    <tr>\n",
       "      <th>2017-04-30</th>\n",
       "      <td>996</td>\n",
       "      <td>840</td>\n",
       "    </tr>\n",
       "  </tbody>\n",
       "</table>\n",
       "</div>"
      ],
      "text/plain": [
       "            Chimi & Churri  Assa Frão\n",
       "data                                 \n",
       "2016-01-31             920       1577\n",
       "2016-02-29            1109       1396\n",
       "2016-03-31            1177       1513\n",
       "2016-04-30            1089       1229\n",
       "2016-05-31             957       1338\n",
       "2016-06-30            1262        914\n",
       "2016-07-31            1299        986\n",
       "2016-08-31             972        944\n",
       "2016-09-30            1037       1084\n",
       "2016-10-31            1135       1188\n",
       "2016-11-30            1113       1023\n",
       "2016-12-31            1257       1121\n",
       "2017-01-31            1108       1019\n",
       "2017-02-28            1173        954\n",
       "2017-03-31            1298        885\n",
       "2017-04-30             996        840"
      ]
     },
     "execution_count": 113,
     "metadata": {},
     "output_type": "execute_result"
    }
   ],
   "source": [
    "clientes_mensais = dados.resample(rule='ME')[['Chimi & Churri', 'Assa Frão']].sum()\n",
    "\n",
    "clientes_mensais"
   ]
  },
  {
   "cell_type": "code",
   "execution_count": 114,
   "metadata": {},
   "outputs": [
    {
     "data": {
      "text/plain": [
       "Index(['Janeiro', 'Fevereiro', 'Março', 'Abril', 'Maio', 'Junho', 'Julho',\n",
       "       'Agosto', 'Setembro', 'Outubro', 'Novembro', 'Dezembro', 'Janeiro',\n",
       "       'Fevereiro', 'Março', 'Abril'],\n",
       "      dtype='object', name='data')"
      ]
     },
     "execution_count": 114,
     "metadata": {},
     "output_type": "execute_result"
    }
   ],
   "source": [
    "clientes_mensais.index.month_name(locale='pt_BR')"
   ]
  },
  {
   "cell_type": "code",
   "execution_count": 115,
   "metadata": {},
   "outputs": [
    {
     "data": {
      "text/html": [
       "<div>\n",
       "<style scoped>\n",
       "    .dataframe tbody tr th:only-of-type {\n",
       "        vertical-align: middle;\n",
       "    }\n",
       "\n",
       "    .dataframe tbody tr th {\n",
       "        vertical-align: top;\n",
       "    }\n",
       "\n",
       "    .dataframe thead th {\n",
       "        text-align: right;\n",
       "    }\n",
       "</style>\n",
       "<table border=\"1\" class=\"dataframe\">\n",
       "  <thead>\n",
       "    <tr style=\"text-align: right;\">\n",
       "      <th></th>\n",
       "      <th>Chimi &amp; Churri</th>\n",
       "      <th>Assa Frão</th>\n",
       "      <th>Mês</th>\n",
       "    </tr>\n",
       "    <tr>\n",
       "      <th>data</th>\n",
       "      <th></th>\n",
       "      <th></th>\n",
       "      <th></th>\n",
       "    </tr>\n",
       "  </thead>\n",
       "  <tbody>\n",
       "    <tr>\n",
       "      <th>2016-01-31</th>\n",
       "      <td>920</td>\n",
       "      <td>1577</td>\n",
       "      <td>Janeiro</td>\n",
       "    </tr>\n",
       "    <tr>\n",
       "      <th>2016-02-29</th>\n",
       "      <td>1109</td>\n",
       "      <td>1396</td>\n",
       "      <td>Fevereiro</td>\n",
       "    </tr>\n",
       "    <tr>\n",
       "      <th>2016-03-31</th>\n",
       "      <td>1177</td>\n",
       "      <td>1513</td>\n",
       "      <td>Março</td>\n",
       "    </tr>\n",
       "    <tr>\n",
       "      <th>2016-04-30</th>\n",
       "      <td>1089</td>\n",
       "      <td>1229</td>\n",
       "      <td>Abril</td>\n",
       "    </tr>\n",
       "    <tr>\n",
       "      <th>2016-05-31</th>\n",
       "      <td>957</td>\n",
       "      <td>1338</td>\n",
       "      <td>Maio</td>\n",
       "    </tr>\n",
       "    <tr>\n",
       "      <th>2016-06-30</th>\n",
       "      <td>1262</td>\n",
       "      <td>914</td>\n",
       "      <td>Junho</td>\n",
       "    </tr>\n",
       "    <tr>\n",
       "      <th>2016-07-31</th>\n",
       "      <td>1299</td>\n",
       "      <td>986</td>\n",
       "      <td>Julho</td>\n",
       "    </tr>\n",
       "    <tr>\n",
       "      <th>2016-08-31</th>\n",
       "      <td>972</td>\n",
       "      <td>944</td>\n",
       "      <td>Agosto</td>\n",
       "    </tr>\n",
       "    <tr>\n",
       "      <th>2016-09-30</th>\n",
       "      <td>1037</td>\n",
       "      <td>1084</td>\n",
       "      <td>Setembro</td>\n",
       "    </tr>\n",
       "    <tr>\n",
       "      <th>2016-10-31</th>\n",
       "      <td>1135</td>\n",
       "      <td>1188</td>\n",
       "      <td>Outubro</td>\n",
       "    </tr>\n",
       "    <tr>\n",
       "      <th>2016-11-30</th>\n",
       "      <td>1113</td>\n",
       "      <td>1023</td>\n",
       "      <td>Novembro</td>\n",
       "    </tr>\n",
       "    <tr>\n",
       "      <th>2016-12-31</th>\n",
       "      <td>1257</td>\n",
       "      <td>1121</td>\n",
       "      <td>Dezembro</td>\n",
       "    </tr>\n",
       "    <tr>\n",
       "      <th>2017-01-31</th>\n",
       "      <td>1108</td>\n",
       "      <td>1019</td>\n",
       "      <td>Janeiro</td>\n",
       "    </tr>\n",
       "    <tr>\n",
       "      <th>2017-02-28</th>\n",
       "      <td>1173</td>\n",
       "      <td>954</td>\n",
       "      <td>Fevereiro</td>\n",
       "    </tr>\n",
       "    <tr>\n",
       "      <th>2017-03-31</th>\n",
       "      <td>1298</td>\n",
       "      <td>885</td>\n",
       "      <td>Março</td>\n",
       "    </tr>\n",
       "    <tr>\n",
       "      <th>2017-04-30</th>\n",
       "      <td>996</td>\n",
       "      <td>840</td>\n",
       "      <td>Abril</td>\n",
       "    </tr>\n",
       "  </tbody>\n",
       "</table>\n",
       "</div>"
      ],
      "text/plain": [
       "            Chimi & Churri  Assa Frão        Mês\n",
       "data                                            \n",
       "2016-01-31             920       1577    Janeiro\n",
       "2016-02-29            1109       1396  Fevereiro\n",
       "2016-03-31            1177       1513      Março\n",
       "2016-04-30            1089       1229      Abril\n",
       "2016-05-31             957       1338       Maio\n",
       "2016-06-30            1262        914      Junho\n",
       "2016-07-31            1299        986      Julho\n",
       "2016-08-31             972        944     Agosto\n",
       "2016-09-30            1037       1084   Setembro\n",
       "2016-10-31            1135       1188    Outubro\n",
       "2016-11-30            1113       1023   Novembro\n",
       "2016-12-31            1257       1121   Dezembro\n",
       "2017-01-31            1108       1019    Janeiro\n",
       "2017-02-28            1173        954  Fevereiro\n",
       "2017-03-31            1298        885      Março\n",
       "2017-04-30             996        840      Abril"
      ]
     },
     "execution_count": 115,
     "metadata": {},
     "output_type": "execute_result"
    }
   ],
   "source": [
    "clientes_mensais['Mês'] = clientes_mensais.index.month_name(locale='pt_BR')\n",
    "\n",
    "clientes_mensais"
   ]
  },
  {
   "cell_type": "markdown",
   "metadata": {},
   "source": [
    "# Gráfico de barra empilhado"
   ]
  },
  {
   "cell_type": "code",
   "execution_count": 130,
   "metadata": {},
   "outputs": [
    {
     "data": {
      "text/html": [
       "<div>\n",
       "<style scoped>\n",
       "    .dataframe tbody tr th:only-of-type {\n",
       "        vertical-align: middle;\n",
       "    }\n",
       "\n",
       "    .dataframe tbody tr th {\n",
       "        vertical-align: top;\n",
       "    }\n",
       "\n",
       "    .dataframe thead th {\n",
       "        text-align: right;\n",
       "    }\n",
       "</style>\n",
       "<table border=\"1\" class=\"dataframe\">\n",
       "  <thead>\n",
       "    <tr style=\"text-align: right;\">\n",
       "      <th></th>\n",
       "      <th>Chimi &amp; Churri</th>\n",
       "      <th>Assa Frão</th>\n",
       "      <th>Mês</th>\n",
       "      <th>Mês e Ano</th>\n",
       "    </tr>\n",
       "    <tr>\n",
       "      <th>data</th>\n",
       "      <th></th>\n",
       "      <th></th>\n",
       "      <th></th>\n",
       "      <th></th>\n",
       "    </tr>\n",
       "  </thead>\n",
       "  <tbody>\n",
       "    <tr>\n",
       "      <th>2016-01-31</th>\n",
       "      <td>920</td>\n",
       "      <td>1577</td>\n",
       "      <td>Janeiro</td>\n",
       "      <td>Janeiro 2016</td>\n",
       "    </tr>\n",
       "    <tr>\n",
       "      <th>2016-02-29</th>\n",
       "      <td>1109</td>\n",
       "      <td>1396</td>\n",
       "      <td>Fevereiro</td>\n",
       "      <td>Fevereiro 2016</td>\n",
       "    </tr>\n",
       "    <tr>\n",
       "      <th>2016-03-31</th>\n",
       "      <td>1177</td>\n",
       "      <td>1513</td>\n",
       "      <td>Março</td>\n",
       "      <td>Marã§o 2016</td>\n",
       "    </tr>\n",
       "    <tr>\n",
       "      <th>2016-04-30</th>\n",
       "      <td>1089</td>\n",
       "      <td>1229</td>\n",
       "      <td>Abril</td>\n",
       "      <td>Abril 2016</td>\n",
       "    </tr>\n",
       "    <tr>\n",
       "      <th>2016-05-31</th>\n",
       "      <td>957</td>\n",
       "      <td>1338</td>\n",
       "      <td>Maio</td>\n",
       "      <td>Maio 2016</td>\n",
       "    </tr>\n",
       "    <tr>\n",
       "      <th>2016-06-30</th>\n",
       "      <td>1262</td>\n",
       "      <td>914</td>\n",
       "      <td>Junho</td>\n",
       "      <td>Junho 2016</td>\n",
       "    </tr>\n",
       "    <tr>\n",
       "      <th>2016-07-31</th>\n",
       "      <td>1299</td>\n",
       "      <td>986</td>\n",
       "      <td>Julho</td>\n",
       "      <td>Julho 2016</td>\n",
       "    </tr>\n",
       "    <tr>\n",
       "      <th>2016-08-31</th>\n",
       "      <td>972</td>\n",
       "      <td>944</td>\n",
       "      <td>Agosto</td>\n",
       "      <td>Agosto 2016</td>\n",
       "    </tr>\n",
       "    <tr>\n",
       "      <th>2016-09-30</th>\n",
       "      <td>1037</td>\n",
       "      <td>1084</td>\n",
       "      <td>Setembro</td>\n",
       "      <td>Setembro 2016</td>\n",
       "    </tr>\n",
       "    <tr>\n",
       "      <th>2016-10-31</th>\n",
       "      <td>1135</td>\n",
       "      <td>1188</td>\n",
       "      <td>Outubro</td>\n",
       "      <td>Outubro 2016</td>\n",
       "    </tr>\n",
       "    <tr>\n",
       "      <th>2016-11-30</th>\n",
       "      <td>1113</td>\n",
       "      <td>1023</td>\n",
       "      <td>Novembro</td>\n",
       "      <td>Novembro 2016</td>\n",
       "    </tr>\n",
       "    <tr>\n",
       "      <th>2016-12-31</th>\n",
       "      <td>1257</td>\n",
       "      <td>1121</td>\n",
       "      <td>Dezembro</td>\n",
       "      <td>Dezembro 2016</td>\n",
       "    </tr>\n",
       "    <tr>\n",
       "      <th>2017-01-31</th>\n",
       "      <td>1108</td>\n",
       "      <td>1019</td>\n",
       "      <td>Janeiro</td>\n",
       "      <td>Janeiro 2017</td>\n",
       "    </tr>\n",
       "    <tr>\n",
       "      <th>2017-02-28</th>\n",
       "      <td>1173</td>\n",
       "      <td>954</td>\n",
       "      <td>Fevereiro</td>\n",
       "      <td>Fevereiro 2017</td>\n",
       "    </tr>\n",
       "    <tr>\n",
       "      <th>2017-03-31</th>\n",
       "      <td>1298</td>\n",
       "      <td>885</td>\n",
       "      <td>Março</td>\n",
       "      <td>Marã§o 2017</td>\n",
       "    </tr>\n",
       "    <tr>\n",
       "      <th>2017-04-30</th>\n",
       "      <td>996</td>\n",
       "      <td>840</td>\n",
       "      <td>Abril</td>\n",
       "      <td>Abril 2017</td>\n",
       "    </tr>\n",
       "  </tbody>\n",
       "</table>\n",
       "</div>"
      ],
      "text/plain": [
       "            Chimi & Churri  Assa Frão        Mês       Mês e Ano\n",
       "data                                                            \n",
       "2016-01-31             920       1577    Janeiro    Janeiro 2016\n",
       "2016-02-29            1109       1396  Fevereiro  Fevereiro 2016\n",
       "2016-03-31            1177       1513      Março     Marã§o 2016\n",
       "2016-04-30            1089       1229      Abril      Abril 2016\n",
       "2016-05-31             957       1338       Maio       Maio 2016\n",
       "2016-06-30            1262        914      Junho      Junho 2016\n",
       "2016-07-31            1299        986      Julho      Julho 2016\n",
       "2016-08-31             972        944     Agosto     Agosto 2016\n",
       "2016-09-30            1037       1084   Setembro   Setembro 2016\n",
       "2016-10-31            1135       1188    Outubro    Outubro 2016\n",
       "2016-11-30            1113       1023   Novembro   Novembro 2016\n",
       "2016-12-31            1257       1121   Dezembro   Dezembro 2016\n",
       "2017-01-31            1108       1019    Janeiro    Janeiro 2017\n",
       "2017-02-28            1173        954  Fevereiro  Fevereiro 2017\n",
       "2017-03-31            1298        885      Março     Marã§o 2017\n",
       "2017-04-30             996        840      Abril      Abril 2017"
      ]
     },
     "execution_count": 130,
     "metadata": {},
     "output_type": "execute_result"
    }
   ],
   "source": [
    "clientes_mensais['Mês e Ano'] = clientes_mensais.index.month_name(locale='pt_BR.utf8') + ' ' + clientes_mensais.index.year.astype(str)\n",
    "\n",
    "clientes_mensais"
   ]
  },
  {
   "cell_type": "code",
   "execution_count": 127,
   "metadata": {},
   "outputs": [],
   "source": [
    "import plotly.graph_objects as go\n",
    "import pandas as pd"
   ]
  },
  {
   "cell_type": "code",
   "execution_count": 137,
   "metadata": {},
   "outputs": [
    {
     "data": {
      "application/vnd.plotly.v1+json": {
       "config": {
        "plotlyServerURL": "https://plot.ly"
       },
       "data": [
        {
         "alignmentgroup": "True",
         "hovertemplate": "variable=Chimi & Churri<br>Mês e Ano=%{x}<br>Clientes=%{y}<extra></extra>",
         "legendgroup": "Chimi & Churri",
         "marker": {
          "color": "#636efa",
          "pattern": {
           "shape": ""
          }
         },
         "name": "Chimi & Churri",
         "offsetgroup": "Chimi & Churri",
         "orientation": "v",
         "showlegend": true,
         "textposition": "auto",
         "type": "bar",
         "x": [
          "Janeiro 2016",
          "Fevereiro 2016",
          "Marã§o 2016",
          "Abril 2016",
          "Maio 2016",
          "Junho 2016",
          "Julho 2016",
          "Agosto 2016",
          "Setembro 2016",
          "Outubro 2016",
          "Novembro 2016",
          "Dezembro 2016",
          "Janeiro 2017",
          "Fevereiro 2017",
          "Marã§o 2017",
          "Abril 2017"
         ],
         "xaxis": "x",
         "y": [
          920,
          1109,
          1177,
          1089,
          957,
          1262,
          1299,
          972,
          1037,
          1135,
          1113,
          1257,
          1108,
          1173,
          1298,
          996
         ],
         "yaxis": "y"
        },
        {
         "alignmentgroup": "True",
         "hovertemplate": "variable=Assa Frão<br>Mês e Ano=%{x}<br>Clientes=%{y}<extra></extra>",
         "legendgroup": "Assa Frão",
         "marker": {
          "color": "#EF553B",
          "pattern": {
           "shape": ""
          }
         },
         "name": "Assa Frão",
         "offsetgroup": "Assa Frão",
         "orientation": "v",
         "showlegend": true,
         "textposition": "auto",
         "type": "bar",
         "x": [
          "Janeiro 2016",
          "Fevereiro 2016",
          "Marã§o 2016",
          "Abril 2016",
          "Maio 2016",
          "Junho 2016",
          "Julho 2016",
          "Agosto 2016",
          "Setembro 2016",
          "Outubro 2016",
          "Novembro 2016",
          "Dezembro 2016",
          "Janeiro 2017",
          "Fevereiro 2017",
          "Marã§o 2017",
          "Abril 2017"
         ],
         "xaxis": "x",
         "y": [
          1577,
          1396,
          1513,
          1229,
          1338,
          914,
          986,
          944,
          1084,
          1188,
          1023,
          1121,
          1019,
          954,
          885,
          840
         ],
         "yaxis": "y"
        }
       ],
       "layout": {
        "barmode": "relative",
        "legend": {
         "title": {
          "text": "variable"
         },
         "tracegroupgap": 0
        },
        "template": {
         "data": {
          "bar": [
           {
            "error_x": {
             "color": "#2a3f5f"
            },
            "error_y": {
             "color": "#2a3f5f"
            },
            "marker": {
             "line": {
              "color": "#E5ECF6",
              "width": 0.5
             },
             "pattern": {
              "fillmode": "overlay",
              "size": 10,
              "solidity": 0.2
             }
            },
            "type": "bar"
           }
          ],
          "barpolar": [
           {
            "marker": {
             "line": {
              "color": "#E5ECF6",
              "width": 0.5
             },
             "pattern": {
              "fillmode": "overlay",
              "size": 10,
              "solidity": 0.2
             }
            },
            "type": "barpolar"
           }
          ],
          "carpet": [
           {
            "aaxis": {
             "endlinecolor": "#2a3f5f",
             "gridcolor": "white",
             "linecolor": "white",
             "minorgridcolor": "white",
             "startlinecolor": "#2a3f5f"
            },
            "baxis": {
             "endlinecolor": "#2a3f5f",
             "gridcolor": "white",
             "linecolor": "white",
             "minorgridcolor": "white",
             "startlinecolor": "#2a3f5f"
            },
            "type": "carpet"
           }
          ],
          "choropleth": [
           {
            "colorbar": {
             "outlinewidth": 0,
             "ticks": ""
            },
            "type": "choropleth"
           }
          ],
          "contour": [
           {
            "colorbar": {
             "outlinewidth": 0,
             "ticks": ""
            },
            "colorscale": [
             [
              0,
              "#0d0887"
             ],
             [
              0.1111111111111111,
              "#46039f"
             ],
             [
              0.2222222222222222,
              "#7201a8"
             ],
             [
              0.3333333333333333,
              "#9c179e"
             ],
             [
              0.4444444444444444,
              "#bd3786"
             ],
             [
              0.5555555555555556,
              "#d8576b"
             ],
             [
              0.6666666666666666,
              "#ed7953"
             ],
             [
              0.7777777777777778,
              "#fb9f3a"
             ],
             [
              0.8888888888888888,
              "#fdca26"
             ],
             [
              1,
              "#f0f921"
             ]
            ],
            "type": "contour"
           }
          ],
          "contourcarpet": [
           {
            "colorbar": {
             "outlinewidth": 0,
             "ticks": ""
            },
            "type": "contourcarpet"
           }
          ],
          "heatmap": [
           {
            "colorbar": {
             "outlinewidth": 0,
             "ticks": ""
            },
            "colorscale": [
             [
              0,
              "#0d0887"
             ],
             [
              0.1111111111111111,
              "#46039f"
             ],
             [
              0.2222222222222222,
              "#7201a8"
             ],
             [
              0.3333333333333333,
              "#9c179e"
             ],
             [
              0.4444444444444444,
              "#bd3786"
             ],
             [
              0.5555555555555556,
              "#d8576b"
             ],
             [
              0.6666666666666666,
              "#ed7953"
             ],
             [
              0.7777777777777778,
              "#fb9f3a"
             ],
             [
              0.8888888888888888,
              "#fdca26"
             ],
             [
              1,
              "#f0f921"
             ]
            ],
            "type": "heatmap"
           }
          ],
          "heatmapgl": [
           {
            "colorbar": {
             "outlinewidth": 0,
             "ticks": ""
            },
            "colorscale": [
             [
              0,
              "#0d0887"
             ],
             [
              0.1111111111111111,
              "#46039f"
             ],
             [
              0.2222222222222222,
              "#7201a8"
             ],
             [
              0.3333333333333333,
              "#9c179e"
             ],
             [
              0.4444444444444444,
              "#bd3786"
             ],
             [
              0.5555555555555556,
              "#d8576b"
             ],
             [
              0.6666666666666666,
              "#ed7953"
             ],
             [
              0.7777777777777778,
              "#fb9f3a"
             ],
             [
              0.8888888888888888,
              "#fdca26"
             ],
             [
              1,
              "#f0f921"
             ]
            ],
            "type": "heatmapgl"
           }
          ],
          "histogram": [
           {
            "marker": {
             "pattern": {
              "fillmode": "overlay",
              "size": 10,
              "solidity": 0.2
             }
            },
            "type": "histogram"
           }
          ],
          "histogram2d": [
           {
            "colorbar": {
             "outlinewidth": 0,
             "ticks": ""
            },
            "colorscale": [
             [
              0,
              "#0d0887"
             ],
             [
              0.1111111111111111,
              "#46039f"
             ],
             [
              0.2222222222222222,
              "#7201a8"
             ],
             [
              0.3333333333333333,
              "#9c179e"
             ],
             [
              0.4444444444444444,
              "#bd3786"
             ],
             [
              0.5555555555555556,
              "#d8576b"
             ],
             [
              0.6666666666666666,
              "#ed7953"
             ],
             [
              0.7777777777777778,
              "#fb9f3a"
             ],
             [
              0.8888888888888888,
              "#fdca26"
             ],
             [
              1,
              "#f0f921"
             ]
            ],
            "type": "histogram2d"
           }
          ],
          "histogram2dcontour": [
           {
            "colorbar": {
             "outlinewidth": 0,
             "ticks": ""
            },
            "colorscale": [
             [
              0,
              "#0d0887"
             ],
             [
              0.1111111111111111,
              "#46039f"
             ],
             [
              0.2222222222222222,
              "#7201a8"
             ],
             [
              0.3333333333333333,
              "#9c179e"
             ],
             [
              0.4444444444444444,
              "#bd3786"
             ],
             [
              0.5555555555555556,
              "#d8576b"
             ],
             [
              0.6666666666666666,
              "#ed7953"
             ],
             [
              0.7777777777777778,
              "#fb9f3a"
             ],
             [
              0.8888888888888888,
              "#fdca26"
             ],
             [
              1,
              "#f0f921"
             ]
            ],
            "type": "histogram2dcontour"
           }
          ],
          "mesh3d": [
           {
            "colorbar": {
             "outlinewidth": 0,
             "ticks": ""
            },
            "type": "mesh3d"
           }
          ],
          "parcoords": [
           {
            "line": {
             "colorbar": {
              "outlinewidth": 0,
              "ticks": ""
             }
            },
            "type": "parcoords"
           }
          ],
          "pie": [
           {
            "automargin": true,
            "type": "pie"
           }
          ],
          "scatter": [
           {
            "fillpattern": {
             "fillmode": "overlay",
             "size": 10,
             "solidity": 0.2
            },
            "type": "scatter"
           }
          ],
          "scatter3d": [
           {
            "line": {
             "colorbar": {
              "outlinewidth": 0,
              "ticks": ""
             }
            },
            "marker": {
             "colorbar": {
              "outlinewidth": 0,
              "ticks": ""
             }
            },
            "type": "scatter3d"
           }
          ],
          "scattercarpet": [
           {
            "marker": {
             "colorbar": {
              "outlinewidth": 0,
              "ticks": ""
             }
            },
            "type": "scattercarpet"
           }
          ],
          "scattergeo": [
           {
            "marker": {
             "colorbar": {
              "outlinewidth": 0,
              "ticks": ""
             }
            },
            "type": "scattergeo"
           }
          ],
          "scattergl": [
           {
            "marker": {
             "colorbar": {
              "outlinewidth": 0,
              "ticks": ""
             }
            },
            "type": "scattergl"
           }
          ],
          "scattermapbox": [
           {
            "marker": {
             "colorbar": {
              "outlinewidth": 0,
              "ticks": ""
             }
            },
            "type": "scattermapbox"
           }
          ],
          "scatterpolar": [
           {
            "marker": {
             "colorbar": {
              "outlinewidth": 0,
              "ticks": ""
             }
            },
            "type": "scatterpolar"
           }
          ],
          "scatterpolargl": [
           {
            "marker": {
             "colorbar": {
              "outlinewidth": 0,
              "ticks": ""
             }
            },
            "type": "scatterpolargl"
           }
          ],
          "scatterternary": [
           {
            "marker": {
             "colorbar": {
              "outlinewidth": 0,
              "ticks": ""
             }
            },
            "type": "scatterternary"
           }
          ],
          "surface": [
           {
            "colorbar": {
             "outlinewidth": 0,
             "ticks": ""
            },
            "colorscale": [
             [
              0,
              "#0d0887"
             ],
             [
              0.1111111111111111,
              "#46039f"
             ],
             [
              0.2222222222222222,
              "#7201a8"
             ],
             [
              0.3333333333333333,
              "#9c179e"
             ],
             [
              0.4444444444444444,
              "#bd3786"
             ],
             [
              0.5555555555555556,
              "#d8576b"
             ],
             [
              0.6666666666666666,
              "#ed7953"
             ],
             [
              0.7777777777777778,
              "#fb9f3a"
             ],
             [
              0.8888888888888888,
              "#fdca26"
             ],
             [
              1,
              "#f0f921"
             ]
            ],
            "type": "surface"
           }
          ],
          "table": [
           {
            "cells": {
             "fill": {
              "color": "#EBF0F8"
             },
             "line": {
              "color": "white"
             }
            },
            "header": {
             "fill": {
              "color": "#C8D4E3"
             },
             "line": {
              "color": "white"
             }
            },
            "type": "table"
           }
          ]
         },
         "layout": {
          "annotationdefaults": {
           "arrowcolor": "#2a3f5f",
           "arrowhead": 0,
           "arrowwidth": 1
          },
          "autotypenumbers": "strict",
          "coloraxis": {
           "colorbar": {
            "outlinewidth": 0,
            "ticks": ""
           }
          },
          "colorscale": {
           "diverging": [
            [
             0,
             "#8e0152"
            ],
            [
             0.1,
             "#c51b7d"
            ],
            [
             0.2,
             "#de77ae"
            ],
            [
             0.3,
             "#f1b6da"
            ],
            [
             0.4,
             "#fde0ef"
            ],
            [
             0.5,
             "#f7f7f7"
            ],
            [
             0.6,
             "#e6f5d0"
            ],
            [
             0.7,
             "#b8e186"
            ],
            [
             0.8,
             "#7fbc41"
            ],
            [
             0.9,
             "#4d9221"
            ],
            [
             1,
             "#276419"
            ]
           ],
           "sequential": [
            [
             0,
             "#0d0887"
            ],
            [
             0.1111111111111111,
             "#46039f"
            ],
            [
             0.2222222222222222,
             "#7201a8"
            ],
            [
             0.3333333333333333,
             "#9c179e"
            ],
            [
             0.4444444444444444,
             "#bd3786"
            ],
            [
             0.5555555555555556,
             "#d8576b"
            ],
            [
             0.6666666666666666,
             "#ed7953"
            ],
            [
             0.7777777777777778,
             "#fb9f3a"
            ],
            [
             0.8888888888888888,
             "#fdca26"
            ],
            [
             1,
             "#f0f921"
            ]
           ],
           "sequentialminus": [
            [
             0,
             "#0d0887"
            ],
            [
             0.1111111111111111,
             "#46039f"
            ],
            [
             0.2222222222222222,
             "#7201a8"
            ],
            [
             0.3333333333333333,
             "#9c179e"
            ],
            [
             0.4444444444444444,
             "#bd3786"
            ],
            [
             0.5555555555555556,
             "#d8576b"
            ],
            [
             0.6666666666666666,
             "#ed7953"
            ],
            [
             0.7777777777777778,
             "#fb9f3a"
            ],
            [
             0.8888888888888888,
             "#fdca26"
            ],
            [
             1,
             "#f0f921"
            ]
           ]
          },
          "colorway": [
           "#636efa",
           "#EF553B",
           "#00cc96",
           "#ab63fa",
           "#FFA15A",
           "#19d3f3",
           "#FF6692",
           "#B6E880",
           "#FF97FF",
           "#FECB52"
          ],
          "font": {
           "color": "#2a3f5f"
          },
          "geo": {
           "bgcolor": "white",
           "lakecolor": "white",
           "landcolor": "#E5ECF6",
           "showlakes": true,
           "showland": true,
           "subunitcolor": "white"
          },
          "hoverlabel": {
           "align": "left"
          },
          "hovermode": "closest",
          "mapbox": {
           "style": "light"
          },
          "paper_bgcolor": "white",
          "plot_bgcolor": "#E5ECF6",
          "polar": {
           "angularaxis": {
            "gridcolor": "white",
            "linecolor": "white",
            "ticks": ""
           },
           "bgcolor": "#E5ECF6",
           "radialaxis": {
            "gridcolor": "white",
            "linecolor": "white",
            "ticks": ""
           }
          },
          "scene": {
           "xaxis": {
            "backgroundcolor": "#E5ECF6",
            "gridcolor": "white",
            "gridwidth": 2,
            "linecolor": "white",
            "showbackground": true,
            "ticks": "",
            "zerolinecolor": "white"
           },
           "yaxis": {
            "backgroundcolor": "#E5ECF6",
            "gridcolor": "white",
            "gridwidth": 2,
            "linecolor": "white",
            "showbackground": true,
            "ticks": "",
            "zerolinecolor": "white"
           },
           "zaxis": {
            "backgroundcolor": "#E5ECF6",
            "gridcolor": "white",
            "gridwidth": 2,
            "linecolor": "white",
            "showbackground": true,
            "ticks": "",
            "zerolinecolor": "white"
           }
          },
          "shapedefaults": {
           "line": {
            "color": "#2a3f5f"
           }
          },
          "ternary": {
           "aaxis": {
            "gridcolor": "white",
            "linecolor": "white",
            "ticks": ""
           },
           "baxis": {
            "gridcolor": "white",
            "linecolor": "white",
            "ticks": ""
           },
           "bgcolor": "#E5ECF6",
           "caxis": {
            "gridcolor": "white",
            "linecolor": "white",
            "ticks": ""
           }
          },
          "title": {
           "x": 0.05
          },
          "xaxis": {
           "automargin": true,
           "gridcolor": "white",
           "linecolor": "white",
           "ticks": "",
           "title": {
            "standoff": 15
           },
           "zerolinecolor": "white",
           "zerolinewidth": 2
          },
          "yaxis": {
           "automargin": true,
           "gridcolor": "white",
           "linecolor": "white",
           "ticks": "",
           "title": {
            "standoff": 15
           },
           "zerolinecolor": "white",
           "zerolinewidth": 2
          }
         }
        },
        "title": {
         "text": "Cliente Ao longo dos Meses"
        },
        "xaxis": {
         "anchor": "y",
         "domain": [
          0,
          1
         ],
         "title": {
          "text": "Mês e Ano"
         }
        },
        "yaxis": {
         "anchor": "x",
         "domain": [
          0,
          1
         ],
         "title": {
          "text": "Clientes"
         }
        }
       }
      }
     },
     "metadata": {},
     "output_type": "display_data"
    }
   ],
   "source": [
    "px.bar(clientes_mensais, \n",
    "       x=\"Mês e Ano\", \n",
    "       y=[\"Chimi & Churri\", \"Assa Frão\"],\n",
    "       labels={\"value\":\"Clientes\"},\n",
    "       title=\"Cliente Ao longo dos Meses\",\n",
    "       )"
   ]
  }
 ],
 "metadata": {
  "kernelspec": {
   "display_name": "base",
   "language": "python",
   "name": "python3"
  },
  "language_info": {
   "codemirror_mode": {
    "name": "ipython",
    "version": 3
   },
   "file_extension": ".py",
   "mimetype": "text/x-python",
   "name": "python",
   "nbconvert_exporter": "python",
   "pygments_lexer": "ipython3",
   "version": "3.11.7"
  }
 },
 "nbformat": 4,
 "nbformat_minor": 2
}
